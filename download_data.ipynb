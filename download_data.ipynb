{
 "cells": [
  {
   "cell_type": "code",
   "execution_count": 1,
   "id": "58d1652d-abb6-469d-8324-e9b0adb3f320",
   "metadata": {},
   "outputs": [],
   "source": [
    "# !pip install -r requirements.txt"
   ]
  },
  {
   "cell_type": "code",
   "execution_count": 2,
   "id": "81718c4d-7198-430c-9508-c01b8e5eed2f",
   "metadata": {},
   "outputs": [
    {
     "name": "stdout",
     "output_type": "stream",
     "text": [
      "Python 3.9.18\n"
     ]
    }
   ],
   "source": [
    "!python --version"
   ]
  },
  {
   "cell_type": "code",
   "execution_count": 3,
   "id": "3c7accb9-3246-42d7-aaac-ae8393d5091d",
   "metadata": {},
   "outputs": [],
   "source": [
    "import os\n",
    "from os.path import expanduser\n",
    "import json\n",
    "import zipfile"
   ]
  },
  {
   "cell_type": "markdown",
   "id": "951b2d5c-2d38-4a0e-b85c-4a9eccbb6368",
   "metadata": {},
   "source": [
    "# Setup Kaggle API"
   ]
  },
  {
   "cell_type": "code",
   "execution_count": 4,
   "id": "f4f1922b-ff40-428c-a83f-3ef6883af116",
   "metadata": {},
   "outputs": [],
   "source": [
    "home = expanduser(\"~\")\n",
    "kaggle_json = os.path.join(home,\".kaggle\",\"kaggle.json\")\n",
    "\n",
    "kaggle_dir = os.path.dirname(kaggle_json)\n",
    "if not os.path.exists(kaggle_dir):\n",
    "    os.makedirs(kaggle_dir)"
   ]
  },
  {
   "cell_type": "code",
   "execution_count": 5,
   "id": "790c2dde-4694-4ede-8d89-0a37271e9705",
   "metadata": {},
   "outputs": [],
   "source": [
    "if not os.path.isfile(kaggle_json):\n",
    "    api_token = {\"username\":\"salimfares\",\"key\":\"c00417fe88a17f46b30e51548361e14d\"}    \n",
    "    with open(kaggle_json, 'w') as file:\n",
    "        json.dump(api_token, file)\n",
    "    os.chmod(kaggle_json, 0o600)"
   ]
  },
  {
   "cell_type": "markdown",
   "id": "f0f6002d-39c5-4e6f-b146-d2404c2e56a4",
   "metadata": {},
   "source": [
    "# Download datasets"
   ]
  },
  {
   "cell_type": "code",
   "execution_count": 6,
   "id": "574d8892-8c4e-42ef-a1f0-c67e0b5902f1",
   "metadata": {},
   "outputs": [],
   "source": [
    "# !kaggle datasets download -d mateuszbuda/lgg-mri-segmentation"
   ]
  },
  {
   "cell_type": "code",
   "execution_count": 7,
   "id": "65b033f3-e3fe-4976-96f1-1b32d486ef73",
   "metadata": {},
   "outputs": [
    {
     "name": "stdout",
     "output_type": "stream",
     "text": [
      "Dataset URL: https://www.kaggle.com/datasets/rasoulisaeid/lung-cancer-segment\n",
      "License(s): CC-BY-SA-4.0\n",
      "Downloading lung-cancer-segment.zip to /home/jovyan/Active-Learning-Segmentation\n",
      "100%|█████████████████████████████████████▉| 1.52G/1.53G [01:07<00:00, 31.6MB/s]\n",
      "100%|██████████████████████████████████████| 1.53G/1.53G [01:07<00:00, 24.2MB/s]\n"
     ]
    }
   ],
   "source": [
    "!kaggle datasets download -d rasoulisaeid/lung-cancer-segment"
   ]
  },
  {
   "cell_type": "code",
   "execution_count": 7,
   "id": "a379b32c-e9ac-4416-908e-e04e6d4f62c4",
   "metadata": {},
   "outputs": [],
   "source": [
    "# !kaggle datasets download -d romainpessia/artificial-lunar-rocky-landscape-dataset"
   ]
  },
  {
   "cell_type": "markdown",
   "id": "ef55d6ba-e387-4f1c-9a7f-1675fc54a512",
   "metadata": {},
   "source": [
    "# Unzip files"
   ]
  },
  {
   "cell_type": "code",
   "execution_count": 8,
   "id": "c961a900-5d21-476f-9ed6-0aa5274853c6",
   "metadata": {},
   "outputs": [],
   "source": [
    "current_dir = os.getcwd()\n",
    "raw_dir = os.path.join(current_dir, \"data/raw\")\n",
    "for item in os.listdir(current_dir):\n",
    "    if item.endswith(\".zip\"):\n",
    "        file_path = os.path.abspath(item)\n",
    "        zip_ref = zipfile.ZipFile(file_path)\n",
    "        unzip_dir = os.path.join(raw_dir, item[:-4])\n",
    "        os.makedirs(unzip_dir)\n",
    "        zip_ref.extractall(unzip_dir)\n",
    "        zip_ref.close()\n",
    "        os.remove(file_path)"
   ]
  },
  {
   "cell_type": "markdown",
   "id": "ad26e05b-c987-4474-b643-422b80da03e6",
   "metadata": {},
   "source": [
    "# Download SAM"
   ]
  },
  {
   "cell_type": "code",
   "execution_count": 9,
   "id": "9afccd83-5d75-43ae-8c1a-0afdfea0e80c",
   "metadata": {},
   "outputs": [
    {
     "name": "stdout",
     "output_type": "stream",
     "text": [
      "--2024-07-15 19:44:55--  https://dl.fbaipublicfiles.com/segment_anything/sam_vit_h_4b8939.pth\n",
      "Resolving dl.fbaipublicfiles.com (dl.fbaipublicfiles.com)... 18.245.60.23, 18.245.60.109, 18.245.60.83, ...\n",
      "Connecting to dl.fbaipublicfiles.com (dl.fbaipublicfiles.com)|18.245.60.23|:443... connected.\n",
      "HTTP request sent, awaiting response... 200 OK\n",
      "Length: 2564550879 (2.4G) [binary/octet-stream]\n",
      "Saving to: ‘./sam/sam_vit_h_4b8939.pth’\n",
      "\n",
      "sam_vit_h_4b8939.pt 100%[===================>]   2.39G   157MB/s    in 14s     \n",
      "\n",
      "2024-07-15 19:45:09 (176 MB/s) - ‘./sam/sam_vit_h_4b8939.pth’ saved [2564550879/2564550879]\n",
      "\n"
     ]
    }
   ],
   "source": [
    "!wget https://dl.fbaipublicfiles.com/segment_anything/sam_vit_h_4b8939.pth -P ./sam/"
   ]
  },
  {
   "cell_type": "code",
   "execution_count": null,
   "id": "a36ef6e2-c191-4362-a894-31d1bc9108e0",
   "metadata": {},
   "outputs": [],
   "source": []
  }
 ],
 "metadata": {
  "kernelspec": {
   "display_name": "Python [conda env:myenv]",
   "language": "python",
   "name": "conda-env-myenv-py"
  },
  "language_info": {
   "codemirror_mode": {
    "name": "ipython",
    "version": 3
   },
   "file_extension": ".py",
   "mimetype": "text/x-python",
   "name": "python",
   "nbconvert_exporter": "python",
   "pygments_lexer": "ipython3",
   "version": "3.9.18"
  }
 },
 "nbformat": 4,
 "nbformat_minor": 5
}
