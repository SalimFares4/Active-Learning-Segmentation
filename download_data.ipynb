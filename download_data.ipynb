{
 "cells": [
  {
   "cell_type": "code",
   "execution_count": 2,
   "id": "3c7accb9-3246-42d7-aaac-ae8393d5091d",
   "metadata": {},
   "outputs": [],
   "source": [
    "import os\n",
    "from os.path import expanduser\n",
    "import json\n",
    "import zipfile"
   ]
  },
  {
   "cell_type": "code",
   "execution_count": 3,
   "id": "f4f1922b-ff40-428c-a83f-3ef6883af116",
   "metadata": {},
   "outputs": [],
   "source": [
    "# home = expanduser(\"~\")\n",
    "# kaggle_json = os.path.join(home,\".kaggle\",\"kaggle.json\")"
   ]
  },
  {
   "cell_type": "code",
   "execution_count": 4,
   "id": "790c2dde-4694-4ede-8d89-0a37271e9705",
   "metadata": {},
   "outputs": [],
   "source": [
    "# if not os.path.isfile(kaggle_json):\n",
    "#     api_token = {\"username\":\"salimfares\",\"key\":\"c00417fe88a17f46b30e51548361e14d\"}    \n",
    "#     with open(kaggle_json, 'w') as file:\n",
    "#         json.dump(api_token, file)\n",
    "#     os.chmod(kaggle_json, 0o600)"
   ]
  },
  {
   "cell_type": "code",
   "execution_count": 5,
   "id": "574d8892-8c4e-42ef-a1f0-c67e0b5902f1",
   "metadata": {},
   "outputs": [],
   "source": [
    "# !kaggle datasets download -d mateuszbuda/lgg-mri-segmentation"
   ]
  },
  {
   "cell_type": "code",
   "execution_count": 6,
   "id": "65b033f3-e3fe-4976-96f1-1b32d486ef73",
   "metadata": {},
   "outputs": [],
   "source": [
    "# !kaggle datasets download -d rasoulisaeid/lung-cancer-segment"
   ]
  },
  {
   "cell_type": "code",
   "execution_count": 7,
   "id": "a379b32c-e9ac-4416-908e-e04e6d4f62c4",
   "metadata": {},
   "outputs": [],
   "source": [
    "# !kaggle datasets download -d romainpessia/artificial-lunar-rocky-landscape-dataset"
   ]
  },
  {
   "cell_type": "code",
   "execution_count": 12,
   "id": "c961a900-5d21-476f-9ed6-0aa5274853c6",
   "metadata": {},
   "outputs": [],
   "source": [
    "current_dir = os.getcwd()\n",
    "raw_dir = os.path.join(current_dir, \"data/raw\")\n",
    "for item in os.listdir(current_dir):\n",
    "    if item.endswith(\".zip\"):\n",
    "        file_path = os.path.abspath(item)\n",
    "        zip_ref = zipfile.ZipFile(file_path)\n",
    "        unzip_dir = os.path.join(raw_dir, item[:-4])\n",
    "        os.mkdirs(unzip_dir)\n",
    "        zip_ref.extractall(unzip_dir)\n",
    "        zip_ref.close()\n",
    "        os.remove(file_name)"
   ]
  }
 ],
 "metadata": {
  "kernelspec": {
   "display_name": "Python [conda env:myenv]",
   "language": "python",
   "name": "conda-env-myenv-py"
  },
  "language_info": {
   "codemirror_mode": {
    "name": "ipython",
    "version": 3
   },
   "file_extension": ".py",
   "mimetype": "text/x-python",
   "name": "python",
   "nbconvert_exporter": "python",
   "pygments_lexer": "ipython3",
   "version": "3.9.18"
  }
 },
 "nbformat": 4,
 "nbformat_minor": 5
}
