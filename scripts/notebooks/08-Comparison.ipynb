{
 "cells": [
  {
   "cell_type": "code",
   "execution_count": 27,
   "metadata": {},
   "outputs": [],
   "source": [
    "import pandas as pd\n",
    "import cv2\n",
    "import supervision as sv\n",
    "import numpy as np\n",
    "import os\n",
    "import pickle as pl\n",
    "import torch\n",
    "import segmentation_models_pytorch as smp\n",
    "from os.path import expanduser\n",
    "from scipy.spatial.distance import cdist"
   ]
  },
  {
   "cell_type": "code",
   "execution_count": 2,
   "metadata": {},
   "outputs": [],
   "source": [
    "home = expanduser(\"~\")\n",
    "main_path = home+\"/Active-Learning-Segmentation/\"\n",
    "dataframes_path = main_path + \"data/dataframes/\"\n",
    "trained_models = main_path + \"scripts/notebooks/trained_models/\"\n",
    "notebooks_path = main_path + \"scripts/notebooks/\""
   ]
  },
  {
   "cell_type": "code",
   "execution_count": 3,
   "metadata": {},
   "outputs": [],
   "source": [
    "# df_name = \"brain_df\"\n",
    "# train_df = pd.read_csv(dataframes_path+\"brain_df_train.csv\")\n",
    "# test_df = pd.read_csv(dataframes_path+\"brain_df_test.csv\")\n",
    "\n",
    "df_name = \"lung_df\"\n",
    "train_df = pd.read_csv(dataframes_path+\"lung_df_train.csv\")\n",
    "test_df = pd.read_csv(dataframes_path+\"lung_df_test.csv\")\n",
    "\n",
    "# df_name = \"lunar_df\"\n",
    "# train_df = pd.read_csv(dataframes_path+\"lunar_df_train.csv\")\n",
    "# test_df = pd.read_csv(dataframes_path+\"lunar_df_test.csv\")"
   ]
  },
  {
   "cell_type": "code",
   "execution_count": 4,
   "metadata": {},
   "outputs": [],
   "source": [
    "params = {'n_epoch': 35,\n",
    "          'train_args':{'batch_size': 4, 'num_workers': 1},\n",
    "          'test_args':{'batch_size': 256, 'num_workers': 1},\n",
    "          'optimizer_args':{'lr': 5e-3, 'momentum': 0.9},\n",
    "          'use_sam': True,\n",
    "          'use_predictor': True,\n",
    "          'use_generator': False,\n",
    "          'init_set_size': 100,\n",
    "          'rounds': 2,\n",
    "          \"activate_sam_at_round\":1, \n",
    "          \"img_size\":(128, 128),\n",
    "          \"voting\" : True,\n",
    "          \"pre_trained\": False,\n",
    "          \"dataset\": \"Lung_Tumor_Dataset\",\n",
    "          \"similarity_check\": True}\n",
    "\n",
    "if params[\"init_set_size\"] == len(train_df):\n",
    "    params[\"training_type\"] = \"no_active\"\n",
    "elif not params[\"use_sam\"]:\n",
    "    params[\"training_type\"] = \"no_sam\"\n",
    "elif params[\"voting\"]:\n",
    "    params[\"training_type\"] = \"voters\"\n",
    "else:\n",
    "    params[\"training_type\"]=\"withSAM_NoVoting\"\n",
    "\n",
    "if params[\"training_type\"] == \"no_active\":\n",
    "    if params[\"pre_trained\"]:\n",
    "        params[\"model_path\"] = f'{notebooks_path}trained_models/{params[\"dataset\"]}/no_active/pre_trained_Unet_{params[\"img_size\"][0]}.pt'\n",
    "    else:\n",
    "        params[\"model_path\"] = f'{notebooks_path}trained_models/{params[\"dataset\"]}/no_active/not_pre_trained_Unet_{params[\"img_size\"][0]}.pt'\n",
    "else:\n",
    "    params[\"model_path\"] = f'{notebooks_path}trained_models/{params[\"dataset\"]}/{params[\"training_type\"]}/{params[\"init_set_size\"]}'\n",
    "    \n",
    "params['test_set_size'] = len(test_df)\n",
    "params['df'] = df_name\n",
    "params['query_num'] = int(0.05 * params['init_set_size'])\n",
    "if params['query_num'] == 0:\n",
    "    params['query_num'] = 1\n",
    "params[\"strategy\"] = \"MarginSampling\"\n",
    "\n",
    "if params[\"training_type\"] == \"voters\":\n",
    "    if params[\"similarity_check\"]:\n",
    "        params[\"model_path\"] = f'{params[\"model_path\"]}_dbscan'\n",
    "    params[\"model_path\"] = f'{params[\"model_path\"]}/voters_{params[\"img_size\"][0]}'\n",
    "        "
   ]
  },
  {
   "cell_type": "code",
   "execution_count": 5,
   "metadata": {},
   "outputs": [],
   "source": [
    "# voters = [trained_models + f'{params[\"dataset\"]}/voters/{params[\"init_set_size\"]}/voters_{params[\"img_size\"][0]}_{params[\"rounds\"]-1}/model_{i}.pt' for i in range(1,10)]\n",
    "# main = trained_models + f'{params[\"dataset\"]}/voters/{params[\"init_set_size\"]}/voters_{params[\"img_size\"][0]}_{params[\"rounds\"]-1}/main_Unet.pt'\n",
    "# voters.append(main)\n",
    "\n",
    "voters_dbscan = [trained_models + f'{params[\"dataset\"]}/voters/{params[\"init_set_size\"]}_dbscan/voters_{params[\"img_size\"][0]}_{params[\"rounds\"]-1}/model_{i}.pt' for i in range(1,10)]\n",
    "main_dbscan = trained_models + f'{params[\"dataset\"]}/voters/{params[\"init_set_size\"]}_dbscan/voters_{params[\"img_size\"][0]}_{params[\"rounds\"]-1}/main_Unet.pt'\n",
    "voters_dbscan.append(main_dbscan)\n",
    "\n",
    "\n",
    "# main_no_voting = trained_models + f'{params[\"dataset\"]}/withSAM_NoVoting/{params[\"init_set_size\"]}/main_Unet_{params[\"img_size\"][0]}_{params[\"rounds\"]-1}.pt'"
   ]
  },
  {
   "cell_type": "code",
   "execution_count": 6,
   "metadata": {},
   "outputs": [
    {
     "data": {
      "text/plain": [
       "'/home/jovyan/Active-Learning-Segmentation/scripts/notebooks/trained_models/Lung_Tumor_Dataset/voters/100_dbscan/voters_128'"
      ]
     },
     "execution_count": 6,
     "metadata": {},
     "output_type": "execute_result"
    }
   ],
   "source": [
    "params[\"model_path\"]"
   ]
  },
  {
   "cell_type": "code",
   "execution_count": 7,
   "metadata": {},
   "outputs": [],
   "source": [
    "sam_path = main_path + \"sam/sam_vit_h_4b8939.pth\""
   ]
  },
  {
   "cell_type": "code",
   "execution_count": 8,
   "metadata": {},
   "outputs": [],
   "source": [
    "import sys\n",
    "sys.path.append('../src')\n",
    "from strategies import *\n",
    "sam = SAMOracle(checkpoint_path=sam_path, img_size=params[\"img_size\"])"
   ]
  },
  {
   "cell_type": "code",
   "execution_count": 9,
   "metadata": {},
   "outputs": [],
   "source": [
    "##Brain tumor\n",
    "# close results = 0, 1, 2, 3, 5, 6, 7, 8, 9, 10, 11, 12, 13, 15, 17, 18, 19, 20, 21, 22, 23, 24\n",
    "# different results = 4, 14, 16, 25, 26, 27\n",
    "\n",
    "##Lung\n",
    "# close results = 0, 1, 2, 3, 4, 5, 6, 9, 10, 11, 13, 14, 15, 17\n",
    "# different results =8\n",
    "# bad = 7, 12, 16\n",
    "\n",
    "i=17\n",
    "import supervision as sv\n",
    "images = []\n",
    "gt_masks = []\n",
    "for i in range(50):\n",
    "    images.append(np.load(test_df[\"images\"][i], allow_pickle=True))\n",
    "    gt_masks.append(np.load(test_df[\"masks\"][i], allow_pickle=True))\n",
    "    # sv.plot_images_grid(\n",
    "    #     images=[images[i], gt_masks[i]],\n",
    "    #     grid_size=(1, 2),\n",
    "    #     titles=['image', 'gt_mask']\n",
    "    #     )"
   ]
  },
  {
   "cell_type": "code",
   "execution_count": 10,
   "metadata": {},
   "outputs": [],
   "source": [
    "# test_df_slice = test_df[i:i+1]\n",
    "test_df_slice = test_df[:50]\n",
    "def get_data(handler, train_df, test_df):\n",
    "    return Data(train_df[\"images\"].to_list(), train_df[\"masks\"].to_list(), test_df[\"images\"].to_list(), test_df[\"masks\"].to_list(), handler, img_size=params[\"img_size\"], df=train_df, path= main_path+\"/data/processed/\", use_sam=params['use_sam'])\n",
    "\n",
    "from custom_datasets import *\n",
    "\n",
    "data = get_data(Handler, train_df, test_df_slice)\n",
    "data.initialize_labels(params[\"init_set_size\"])"
   ]
  },
  {
   "cell_type": "code",
   "execution_count": 11,
   "metadata": {},
   "outputs": [],
   "source": [
    "trained_models_dir = notebooks_path+\"trained_models\"    \n",
    "if params[\"pre_trained\"]:\n",
    "    model = smp.create_model('Unet', encoder_name='resnet34', in_channels=3, classes = 1)\n",
    "    first_rd_Unet = torch.load(notebooks_path+f\"trained_models/shared_1st_state_pre_trained_{params['init_set_size']}.pt\")\n",
    "else:\n",
    "    model = UNet(n_channels=3, n_classes=1, bilinear=True)\n",
    "    first_rd_Unet = torch.load(notebooks_path+f\"trained_models/shared_1st_state_not_trained_{params['init_set_size']}.pt\")\n",
    "    \n",
    "model.load_state_dict(first_rd_Unet)\n",
    "net = Net(model, params, device = torch.device(\"cuda\"))"
   ]
  },
  {
   "cell_type": "code",
   "execution_count": 12,
   "metadata": {},
   "outputs": [],
   "source": [
    "def predict(net, model_state:str):\n",
    "    net.net.load_state_dict(torch.load(model_state))\n",
    "    net.clf = net.net.to(torch.device(\"cuda\"))\n",
    "    mask = net.predict(data.get_test_data())[0]\n",
    "    mask = (mask.squeeze().cpu().sigmoid()> 0.5).float()\n",
    "    \n",
    "    return mask"
   ]
  },
  {
   "cell_type": "code",
   "execution_count": 13,
   "metadata": {},
   "outputs": [],
   "source": [
    "def get_boxes(mask):\n",
    "    if torch.is_tensor(mask):\n",
    "        mask = mask.numpy()\n",
    "        mask = np.array(mask, np.uint8)\n",
    "    # _, thresh = cv2.threshold(mask, 0.5, 1, 0)\n",
    "    contours, _ = cv2.findContours(mask, cv2.RETR_TREE, cv2.CHAIN_APPROX_SIMPLE)\n",
    "    cnts = []\n",
    "    for cnt in contours:\n",
    "        x,y,w,h = cv2.boundingRect(cnt)\n",
    "        box = np.array([x, y, x+w, y+h])\n",
    "        cnts.append(box)\n",
    "    return np.array(cnts)   "
   ]
  },
  {
   "cell_type": "code",
   "execution_count": 14,
   "metadata": {},
   "outputs": [],
   "source": [
    "# tmp = [predict(net, path) for path in voters]\n",
    "# voters_masks =[]\n",
    "# for j in range(len(tmp[0])):\n",
    "#     voters_masks.append([tmp[i][j] for i in range(len(tmp))])\n",
    "\n",
    "\n",
    "tmp_dbscan = [predict(net, path) for path in voters_dbscan]\n",
    "voters_dbscan_masks =[]\n",
    "for j in range(len(tmp_dbscan[0])):\n",
    "    voters_dbscan_masks.append([tmp_dbscan[i][j] for i in range(len(tmp_dbscan))])\n",
    "\n",
    "# main_no_voting_mask = predict(net, main_no_voting)"
   ]
  },
  {
   "cell_type": "code",
   "execution_count": 15,
   "metadata": {},
   "outputs": [],
   "source": [
    "# voters_boxes = [[get_boxes(mask) for mask in masks] for masks in voters_masks]\n",
    "voters_dbscan_boxes = [[get_boxes(mask) for mask in masks] for masks in voters_dbscan_masks]\n",
    "# main_no_voting_boxes = [get_boxes(mask) for mask in main_no_voting_mask]"
   ]
  },
  {
   "cell_type": "code",
   "execution_count": 16,
   "metadata": {},
   "outputs": [],
   "source": [
    "# main_no_voting_sam = [sam.get_mask(img_path=test_df_slice[\"images\"][0], boxes=boxes) for boxes in main_no_voting_boxes]\n",
    "# print(\"main_no_voting_sam\")"
   ]
  },
  {
   "cell_type": "code",
   "execution_count": 17,
   "metadata": {},
   "outputs": [
    {
     "name": "stdout",
     "output_type": "stream",
     "text": [
      "voters_dbscan_sam\n"
     ]
    }
   ],
   "source": [
    "# voters_sam =[[sam.get_mask(img_path=test_df_slice[\"images\"][0], boxes=box) for box in boxes]for boxes in voters_boxes]\n",
    "# print(\"voters_sam\")\n",
    "voters_dbscan_sam =[[sam.get_mask(img_path=test_df_slice[\"images\"][0], boxes=box) for box in boxes]for boxes in voters_dbscan_boxes]\n",
    "print(\"voters_dbscan_sam\")"
   ]
  },
  {
   "cell_type": "code",
   "execution_count": 18,
   "metadata": {},
   "outputs": [],
   "source": [
    "# sums = [sum(masks) for masks in voters_sam]\n",
    "\n",
    "# majority = [np.array((sum_.squeeze() > 5), dtype=np.float32) for sum_ in sums]\n",
    "\n",
    "majority_dbscan = [np.array((sum(masks).squeeze() > len(masks)//2), dtype=np.float32) for masks in voters_dbscan_sam]"
   ]
  },
  {
   "cell_type": "code",
   "execution_count": 22,
   "metadata": {},
   "outputs": [],
   "source": [
    "# for i in range(50):\n",
    "#     sv.plot_images_grid(\n",
    "#         images=[images[i], gt_masks[i], majority_dbscan[i], majority[i], main_no_voting_sam[i].squeeze()],\n",
    "#         grid_size=(1, 5),\n",
    "#         titles=[\"image\", \"gt_mask\", \"majority_dbscan\", \"majority\", \"no_voting\"],\n",
    "#         size=(20,20)\n",
    "        \n",
    "#     )\n",
    "\n",
    "# for i in range(50):\n",
    "#     sv.plot_images_grid(\n",
    "#         images=[images[i], gt_masks[i], majority_dbscan[i]],\n",
    "#         grid_size=(1, 3),\n",
    "#         titles=[\"image\", \"gt_mask\", \"majority_dbscan\"],\n",
    "#         size=(20,20)\n",
    "        \n",
    "#     )"
   ]
  },
  {
   "cell_type": "code",
   "execution_count": 21,
   "metadata": {},
   "outputs": [],
   "source": [
    "sam_masks = voters_dbscan_sam[4]"
   ]
  },
  {
   "cell_type": "code",
   "execution_count": 37,
   "metadata": {},
   "outputs": [],
   "source": [
    "def find_contours(mask):\n",
    "    contours, _ = cv2.findContours(mask, cv2.RETR_EXTERNAL, cv2.CHAIN_APPROX_SIMPLE)\n",
    "    return contours"
   ]
  },
  {
   "cell_type": "code",
   "execution_count": 23,
   "metadata": {},
   "outputs": [],
   "source": [
    "def find_centroids(mask):\n",
    "    contours, _ = find_contours(mask)\n",
    "    centroids = []\n",
    "    for contour in contours:\n",
    "        M = cv2.moments(contour)\n",
    "        if M['m00'] != 0:\n",
    "            cX = int(M['m10'] / M['m00'])\n",
    "            cY = int(M['m01'] / M['m00'])\n",
    "            centroids.append((cX, cY))\n",
    "    return np.array(centroids)"
   ]
  },
  {
   "cell_type": "code",
   "execution_count": 33,
   "metadata": {},
   "outputs": [],
   "source": [
    "def calculate_average_proximity(mask1, mask2):\n",
    "    centroids1 = find_centroids(mask1)\n",
    "    centroids2 = find_centroids(mask2)\n",
    "    \n",
    "    if len(centroids1) == 0 or len(centroids2) == 0:\n",
    "        return float('inf')  # No centroids found in one of the masks\n",
    "    \n",
    "    distances = cdist(centroids1, centroids2, metric='euclidean')\n",
    "    min_distances = np.min(distances, axis=1)\n",
    "    average_distance = np.mean(min_distances)\n",
    "\n",
    "    max_distance = np.sqrt(mask1.shape[0]**2 + mask1.shape[1]**2)\n",
    "    \n",
    "    proximity = average_distance / max_distance\n",
    "    \n",
    "    return average_distance"
   ]
  },
  {
   "cell_type": "code",
   "execution_count": 38,
   "metadata": {},
   "outputs": [
    {
     "name": "stdout",
     "output_type": "stream",
     "text": [
      "Average Proximity: 0.022777155839239453\n"
     ]
    }
   ],
   "source": [
    "average_proximity = calculate_average_proximity(sam_masks[0], sam_masks[1])\n",
    "\n",
    "print(f\"Average Proximity: {average_proximity}\")"
   ]
  },
  {
   "cell_type": "code",
   "execution_count": null,
   "metadata": {},
   "outputs": [],
   "source": []
  },
  {
   "cell_type": "code",
   "execution_count": 39,
   "metadata": {},
   "outputs": [],
   "source": [
    "def check_closure(contours):\n",
    "    closed_contours = 0\n",
    "    for contour in contours:\n",
    "        # Approximate the contour to simplify the shape\n",
    "        epsilon = 0.01 * cv2.arcLength(contour, True)\n",
    "        approx = cv2.approxPolyDP(contour, epsilon, True)\n",
    "        # Check if the approximated contour is closed\n",
    "        if cv2.isContourConvex(approx):\n",
    "            closed_contours += 1\n",
    "    return closed_contours"
   ]
  },
  {
   "cell_type": "code",
   "execution_count": 40,
   "metadata": {},
   "outputs": [],
   "source": [
    "def compare_closure(mask1, mask2):\n",
    "    contours1 = find_contours(mask1)\n",
    "    contours2 = find_contours(mask2)\n",
    "    \n",
    "    closed_contours1 = check_closure(contours1)\n",
    "    closed_contours2 = check_closure(contours2)\n",
    "    \n",
    "    # Calculate the closure similarity\n",
    "    total_contours = max(len(contours1), len(contours2))\n",
    "    if total_contours == 0:\n",
    "        return 1.0  # No contours in either mask, consider it perfect closure similarity\n",
    "    \n",
    "    closure_similarity = abs(closed_contours1 - closed_contours2) / total_contours\n",
    "    normalized_closure_similarity = 1 - closure_similarity  # Higher value means more similar\n",
    "    \n",
    "    return normalized_closure_similarity"
   ]
  },
  {
   "cell_type": "code",
   "execution_count": 47,
   "metadata": {},
   "outputs": [
    {
     "name": "stdout",
     "output_type": "stream",
     "text": [
      "Closure Similarity: 1.0\n"
     ]
    }
   ],
   "source": [
    "closure_similarity = compare_closure(sam_masks[1], sam_masks[6])\n",
    "\n",
    "print(f\"Closure Similarity: {closure_similarity}\")"
   ]
  },
  {
   "cell_type": "code",
   "execution_count": null,
   "metadata": {},
   "outputs": [],
   "source": []
  },
  {
   "cell_type": "code",
   "execution_count": null,
   "metadata": {},
   "outputs": [],
   "source": []
  },
  {
   "cell_type": "code",
   "execution_count": 24,
   "metadata": {},
   "outputs": [],
   "source": [
    "masks = torch.tensor(np.array(sam_masks))"
   ]
  },
  {
   "cell_type": "code",
   "execution_count": 25,
   "metadata": {},
   "outputs": [],
   "source": [
    "from dbscan import DBScan, Similarities\n",
    "\n",
    "sim = Similarities()"
   ]
  },
  {
   "cell_type": "code",
   "execution_count": 34,
   "metadata": {},
   "outputs": [
    {
     "name": "stdout",
     "output_type": "stream",
     "text": [
      "Unet Output\n"
     ]
    },
    {
     "data": {
      "image/png": "[encoded data removed]",
      "text/plain": [
       "<Figure size 1200x1200 with 11 Axes>"
      ]
     },
     "metadata": {},
     "output_type": "display_data"
    },
    {
     "name": "stdout",
     "output_type": "stream",
     "text": [
      "SAM Output\n"
     ]
    },
    {
     "data": {
      "image/png": "[encoded data removed]",
      "text/plain": [
       "<Figure size 1200x1200 with 11 Axes>"
      ]
     },
     "metadata": {},
     "output_type": "display_data"
    },
    {
     "name": "stdout",
     "output_type": "stream",
     "text": [
      "Most similar masks out of SAM Output\n"
     ]
    },
    {
     "data": {
      "image/png": "[encoded data removed]",
      "text/plain": [
       "<Figure size 1200x1200 with 8 Axes>"
      ]
     },
     "metadata": {},
     "output_type": "display_data"
    }
   ],
   "source": [
    "db_scan = DBScan(similarity = sim.iou_score,eps = 0.45, min_samples = 4)\n",
    "\n",
    "labels = db_scan.fit(masks)\n",
    "sam_titles = [\"sam_\"+str(i+1) for i in range(10)]\n",
    "titles = [\"model_\"+str(i+1) for i in range(10)]\n",
    "if len(labels) >= 4:\n",
    "    print(\"Unet Output:\")\n",
    "    sv.plot_images_grid(\n",
    "        images=[gt_masks[4]] + voters_dbscan_masks[4],\n",
    "        grid_size=(1, len(voters_dbscan_masks[4])+1),\n",
    "        titles=[\"gt_mask\"] + titles\n",
    "    )\n",
    "    print(\"SAM Output:\")\n",
    "    sv.plot_images_grid(\n",
    "        images=[gt_masks[4]] + sam_masks,\n",
    "        grid_size=(1, len(sam_masks)+1),\n",
    "        titles=[\"gt_mask\"] + sam_titles\n",
    "    )\n",
    "    print(\"Most similar masks out of SAM Output:\")\n",
    "    most_similar_masks = [sam_masks[i] for i in labels]\n",
    "    most_similar_titles = [\"sam_\"+str(i+1) for i in labels]\n",
    "    sv.plot_images_grid(\n",
    "        images=[gt_masks[4]] + most_similar_masks,\n",
    "        grid_size=(1, len(most_similar_masks)+1),\n",
    "        titles=[\"gt_mask\"] + most_similar_titles\n",
    "    )\n",
    "else:\n",
    "    print(\"not enough similar masks\")"
   ]
  },
  {
   "cell_type": "code",
   "execution_count": null,
   "metadata": {},
   "outputs": [],
   "source": [
    "db_scan = DBScan(similarity = sim.cosine_similarity,eps = 0.3, min_samples = 4)\n",
    "\n",
    "labels = db_scan.fit(masks)\n",
    "if len(labels) >= 4:\n",
    "    sv.plot_images_grid(\n",
    "        images=sam_masks,\n",
    "        grid_size=(1, len(titles)),\n",
    "        titles=sam_titles\n",
    "    )\n",
    "    most_similar_masks = [sam_masks[i] for i in labels]\n",
    "    most_similar_titles = [\"sam_\"+str(i+1) for i in labels]\n",
    "    sv.plot_images_grid(\n",
    "        images=most_similar_masks,\n",
    "        grid_size=(1, len(most_similar_masks)),\n",
    "        titles=most_similar_titles\n",
    "    )\n",
    "else:\n",
    "    print(\"not enough similar masks\")"
   ]
  },
  {
   "cell_type": "code",
   "execution_count": null,
   "metadata": {},
   "outputs": [],
   "source": [
    "db_scan = DBScan(similarity = sim.eculidian_distance, eps = 0.75, min_samples = 4)\n",
    "\n",
    "labels = db_scan.fit(masks)\n",
    "if len(labels) >= 4:\n",
    "    sv.plot_images_grid(\n",
    "        images=sam_masks,\n",
    "        grid_size=(1, len(titles)),\n",
    "        titles=sam_titles\n",
    "    )\n",
    "    most_similar_masks = [sam_masks[i] for i in labels]\n",
    "    most_similar_titles = [\"sam_\"+str(i+1) for i in labels]\n",
    "    sv.plot_images_grid(\n",
    "        images=most_similar_masks,\n",
    "        grid_size=(1, len(most_similar_masks)),\n",
    "        titles=most_similar_titles\n",
    "    )\n",
    "else:\n",
    "    print(\"not enough similar masks\")"
   ]
  },
  {
   "cell_type": "code",
   "execution_count": null,
   "metadata": {},
   "outputs": [],
   "source": [
    "n_samples = len(sam_masks)\n",
    "similar = []\n",
    "\n",
    "for i in range(n_samples):\n",
    "    for j in range(i+1, n_samples):\n",
    "        iou_score = sim.iou_score(sam_masks[i], sam_masks[j])\n",
    "        if iou_score >=0.60:\n",
    "            similar.append(i)\n",
    "            similar.append(j)\n",
    "labels = set(similar)\n",
    "if len(labels) >= 4:\n",
    "    sv.plot_images_grid(\n",
    "        images=sam_masks,\n",
    "        grid_size=(1, len(titles)),\n",
    "        titles=sam_titles\n",
    "    )\n",
    "    most_similar_masks = [sam_masks[i] for i in labels]\n",
    "    most_similar_titles = [\"sam_\"+str(i+1) for i in labels]\n",
    "    sv.plot_images_grid(\n",
    "        images=most_similar_masks,\n",
    "        grid_size=(1, len(most_similar_masks)),\n",
    "        titles=most_similar_titles\n",
    "    )\n",
    "else:\n",
    "    print(\"not enough similar masks\")"
   ]
  },
  {
   "cell_type": "code",
   "execution_count": null,
   "metadata": {},
   "outputs": [],
   "source": [
    "# paths=[]\n",
    "# for dirname, _, filenames in os.walk(main_path +\"data/processed/Brain_MRI_segmentation/oracle/\"):\n",
    "\n",
    "#     for filename in filenames:\n",
    "#         paths.append(os.path.join(dirname, filename))\n",
    "\n",
    "# idx=[]\n",
    "# for i, path in enumerate(train_df[\"oracle\"]):\n",
    "#     if path in paths:\n",
    "#         idx.append(i)\n",
    "\n",
    "# print(len(paths), len(idx))\n",
    "\n",
    "# imgs=[]\n",
    "# gt_masks = []\n",
    "# paths=[]\n",
    "# oracles = []\n",
    "# for i in idx:\n",
    "#     imgs.append(cv2.imread(train_df[\"images\"][i]))\n",
    "#     gt_masks.append(cv2.resize(cv2.cvtColor(cv2.imread(train_df[\"masks\"][i]), cv2.COLOR_BGR2GRAY), (128,128), interpolation=cv2.INTER_CUBIC))       \n",
    "#     oracles.append(np.load(train_df[\"oracle\"][i], allow_pickle=True))\n",
    "#     paths.append(train_df[\"oracle\"][i])\n",
    "\n",
    "# for i in range(len(oracles)):\n",
    "#     if oracles[i].shape!= (128, 128):\n",
    "#         print(i, oracles[i].shape)"
   ]
  },
  {
   "cell_type": "code",
   "execution_count": null,
   "metadata": {},
   "outputs": [],
   "source": [
    "# gtmasks= torch.tensor(np.array(gt_masks)).unsqueeze_(1)\n",
    "# preds = torch.tensor(np.array(oracles)).unsqueeze_(1)\n",
    "\n",
    "# tp, fp, fn, tn = smp.metrics.get_stats(preds.long(), gtmasks.long(), mode=\"binary\", threshold=0.5)\n",
    "\n",
    "# # Calculate IoU and F1-score\n",
    "# iou = smp.metrics.iou_score(tp, fp, fn, tn, reduction=\"micro\")\n",
    "# accuracy = smp.metrics.accuracy(tp, fp, fn, tn, reduction=\"micro\")\n",
    "# f1 = smp.metrics.f1_score(tp, fp, fn, tn, reduction=\"micro\")\n",
    "# recall = smp.metrics.recall(tp, fp, fn, tn, reduction=\"micro\")\n",
    "# precision = smp.metrics.precision(tp, fp, fn, tn, reduction=\"micro\")\n",
    "\n",
    "# print(f\"Oracles to GT: iou_score = {iou:.2f}, accuracy = {accuracy:.2f}, precision = {precision:.2f}, recall = {recall:.2f}, f1_score = {f1:.2f}\")"
   ]
  },
  {
   "cell_type": "code",
   "execution_count": null,
   "metadata": {},
   "outputs": [],
   "source": [
    "# i=0\n",
    "# for img, gt_mask, oracle in zip(imgs[i:i+50], gt_masks[i:i+50], oracles[i:i+50]):\n",
    "#     sv.plot_images_grid(\n",
    "#         images=[img, gt_mask, oracle],\n",
    "#         grid_size=(1, 3),\n",
    "#         titles =[\"image\", \"gt_mask\", \"oracle\"]\n",
    "#     )"
   ]
  },
  {
   "cell_type": "code",
   "execution_count": null,
   "metadata": {},
   "outputs": [],
   "source": [
    "# def load_masks(paths, voting_dir):\n",
    "#     masks=[]\n",
    "#     for path in paths:\n",
    "#         path = path.split(\"/\")\n",
    "#         path[-2] = voting_dir\n",
    "#         path = \"/\".join(path)\n",
    "#         if os.path.isfile(path):\n",
    "#             # mask = np.load(path, allow_pickle=True)\n",
    "            \n",
    "#             # if len(mask.shape) == 3:\n",
    "#             #     mask = mask[0]\n",
    "        \n",
    "#             # masks.append(mask)\n",
    "#             masks.append(path)\n",
    "#     return masks"
   ]
  },
  {
   "cell_type": "code",
   "execution_count": null,
   "metadata": {},
   "outputs": [],
   "source": [
    "# def plotRoundMasks(round, df):\n",
    "#     oracle_mv_128_paths = []\n",
    "#     for dirname, _, filenames in os.walk(main_path +f\"data/processed/oracle_mv_128_{round}/\"):\n",
    "\n",
    "#         for filename in filenames:\n",
    "#             oracle_mv_128_paths.append(os.path.join(dirname, filename))\n",
    "            \n",
    "#     oracle_mv_128_paths = load_masks(oracle_mv_128_paths, \"oracle\")\n",
    "\n",
    "#     idx=[]\n",
    "#     for i, path in enumerate(df[\"oracle\"]):\n",
    "#         if path in oracle_mv_128_paths:\n",
    "#             idx.append(i)\n",
    "            \n",
    "#     imgs=[]\n",
    "#     gt_masks = []\n",
    "#     paths=[]\n",
    "#     oracles = []\n",
    "#     for i in idx:\n",
    "#         imgs.append(cv2.imread(df[\"images\"][i]))\n",
    "#         gt_masks.append(cv2.resize(cv2.cvtColor(cv2.imread(df[\"masks\"][i]), cv2.COLOR_BGR2GRAY), (128,128), interpolation=cv2.INTER_CUBIC))       \n",
    "#         oracles.append(np.load(df[\"oracle\"][i], allow_pickle=True))\n",
    "        \n",
    "#     for img, gt_mask, oracle in zip(imgs, gt_masks, oracles):\n",
    "#         sv.plot_images_grid(\n",
    "#             images=[img, gt_mask, oracle],\n",
    "#             grid_size=(1, 3),\n",
    "#             titles =[\"image\", \"gt_mask\", \"oracle\"]\n",
    "#         )\n",
    "\n"
   ]
  },
  {
   "cell_type": "code",
   "execution_count": null,
   "metadata": {},
   "outputs": [],
   "source": [
    "# plotRoundMasks(1 , train_df,)"
   ]
  },
  {
   "cell_type": "code",
   "execution_count": null,
   "metadata": {},
   "outputs": [],
   "source": []
  },
  {
   "cell_type": "code",
   "execution_count": null,
   "metadata": {},
   "outputs": [],
   "source": [
    "# oracle_mv_128_1 = load_masks(paths, \"oracle_mv_128_1\")\n",
    "# oracle_mv_128_2 = load_masks(paths, \"oracle_mv_128_2\")\n",
    "# oracle_mv_128_3 = load_masks(paths, \"oracle_mv_128_2\")\n",
    "# oracle_mv_128_4 = load_masks(paths, \"oracle_mv_128_4\")"
   ]
  },
  {
   "cell_type": "code",
   "execution_count": null,
   "metadata": {},
   "outputs": [],
   "source": [
    "# print(\"Images\")\n",
    "# sv.plot_images_grid(\n",
    "#     images=imgs,\n",
    "#     grid_size=(1, len(imgs)),\n",
    "# )\n",
    "\n",
    "# print(\"Gt_Masks\")\n",
    "# sv.plot_images_grid(\n",
    "#     images=gt_masks,\n",
    "#     grid_size=(1, len(gt_masks)),\n",
    "# )\n",
    "\n",
    "# print(\"Oracles\")\n",
    "# sv.plot_images_grid(\n",
    "#     images=oracles,\n",
    "#     grid_size=(1, len(oracles)),\n",
    "# )"
   ]
  },
  {
   "cell_type": "code",
   "execution_count": null,
   "metadata": {},
   "outputs": [],
   "source": [
    "\n",
    "# i = idx[98]\n",
    "# img = cv2.imread(train_df[\"images\"][i])\n",
    "# gt_mask = cv2.imread(train_df[\"masks\"][i])\n",
    "# oracle = np.load(train_df[\"oracle\"][i], allow_pickle=True)\n",
    "\n",
    "# sv.plot_images_grid(\n",
    "#     images=[img, gt_mask, oracle],\n",
    "#     grid_size=(1, 3)\n",
    "# )\n",
    "\n",
    "# train_df[\"oracle\"][i]"
   ]
  },
  {
   "cell_type": "code",
   "execution_count": null,
   "metadata": {},
   "outputs": [],
   "source": []
  },
  {
   "cell_type": "code",
   "execution_count": null,
   "metadata": {},
   "outputs": [],
   "source": []
  },
  {
   "cell_type": "code",
   "execution_count": null,
   "metadata": {},
   "outputs": [],
   "source": []
  },
  {
   "cell_type": "code",
   "execution_count": null,
   "metadata": {},
   "outputs": [],
   "source": []
  },
  {
   "cell_type": "code",
   "execution_count": null,
   "metadata": {},
   "outputs": [],
   "source": []
  },
  {
   "cell_type": "code",
   "execution_count": null,
   "metadata": {},
   "outputs": [],
   "source": []
  },
  {
   "cell_type": "code",
   "execution_count": null,
   "metadata": {},
   "outputs": [],
   "source": [
    "# def checkOutput(all_idx, bad_idx):\n",
    "#     for i in bad_idx:\n",
    "#         img = cv2.imread(train_df[\"images\"][i])\n",
    "#         gt_mask = cv2.imread(train_df[\"masks\"][i])\n",
    "#         if os.path.isfile(train_df[\"oracle\"][i]):\n",
    "#             oracle = np.load(train_df[\"oracle\"][i], allow_pickle=True)\n",
    "#             sv.plot_images_grid(\n",
    "#                 images=[img, gt_mask, oracle],\n",
    "#                 grid_size=(1, 3)\n",
    "#             )\n",
    "#             x = input(\"Do you want to delete?\")\n",
    "#             if x =='n':\n",
    "#                 continue\n",
    "#             else:\n",
    "#                 os.remove(train_df[\"oracle\"][i])\n",
    "        "
   ]
  },
  {
   "cell_type": "code",
   "execution_count": null,
   "metadata": {},
   "outputs": [],
   "source": [
    "# # bad_idx = [202, 205, 212, 213, 216, 219]\n",
    "# i = 0\n",
    "# checkOutput(idx, idx[i:i+100])"
   ]
  },
  {
   "cell_type": "code",
   "execution_count": null,
   "metadata": {},
   "outputs": [],
   "source": []
  },
  {
   "cell_type": "code",
   "execution_count": null,
   "metadata": {},
   "outputs": [],
   "source": [
    "# def plotComparison(imgs, mv_masks, no_mv_masks, wmv_masks, gt_masks):\n",
    "#     print(\"Images\")\n",
    "#     sv.plot_images_grid(\n",
    "#         images=imgs,\n",
    "#         grid_size=(1, len(imgs)),\n",
    "#     )\n",
    "\n",
    "#     print(\"Masks with Majority Voting\")\n",
    "#     sv.plot_images_grid(\n",
    "#         images=mv_masks,\n",
    "#         grid_size=(1, len(mv_masks)),\n",
    "#     )\n",
    "\n",
    "#     print(\"Masks without Majority Voting\")\n",
    "#     sv.plot_images_grid(\n",
    "#         images=no_mv_masks,\n",
    "#         grid_size=(1, len(no_mv_masks)),\n",
    "#     )\n",
    "\n",
    "#     print(\"Masks wit Weighted Majority Voting\")\n",
    "#     sv.plot_images_grid(\n",
    "#         images=wmv_masks,\n",
    "#         grid_size=(1, len(wmv_masks)),\n",
    "#     )\n",
    "\n",
    "\n",
    "#     print(\"GT_Masks\")\n",
    "#     sv.plot_images_grid(\n",
    "#         images=gt_masks,\n",
    "#         grid_size=(1, len(imgs)),\n",
    "#     )"
   ]
  },
  {
   "cell_type": "code",
   "execution_count": null,
   "metadata": {},
   "outputs": [],
   "source": [
    "# plotComparison(imgs, oracle_mv_128_1, oracle_mv_128_2, oracle_mv_128_3, gt_masks)"
   ]
  },
  {
   "cell_type": "code",
   "execution_count": null,
   "metadata": {},
   "outputs": [],
   "source": [
    "# round_2_idx = [1406, 2442,  533,  536, 1425]\n",
    "\n",
    "# imgs_2=[]\n",
    "# gt_masks_2 = []\n",
    "# paths=[]\n",
    "# for i in round_2_idx:\n",
    "#     # print(train_df[\"images\"][i])\n",
    "#     imgs_2.append(cv2.imread(train_df[\"images\"][i]))\n",
    "#     gt_masks_2.append(cv2.imread(train_df[\"masks\"][i]))\n",
    "#     paths.append(train_df[\"oracle\"][i])"
   ]
  },
  {
   "cell_type": "code",
   "execution_count": null,
   "metadata": {},
   "outputs": [],
   "source": [
    "# mv_masks_128 = load_masks(paths, \"oracle_mv_128\")\n",
    "# no_mv_masks_128 = load_masks(paths, \"oracle_no_mv_128\")\n",
    "# wmv_masks_128 = load_masks(paths, \"oracle_wmv_128\")"
   ]
  },
  {
   "cell_type": "code",
   "execution_count": null,
   "metadata": {},
   "outputs": [],
   "source": [
    "# plotComparison(imgs_2, mv_masks_128, no_mv_masks_128, wmv_masks_128, gt_masks_2)"
   ]
  },
  {
   "cell_type": "code",
   "execution_count": null,
   "metadata": {},
   "outputs": [],
   "source": [
    "# round_3_idx = [1646, 1679, 1674, 1668, 1662]\n",
    "\n",
    "# imgs_3=[]\n",
    "# gt_masks_3 = []\n",
    "# paths=[]\n",
    "# for i in round_3_idx:\n",
    "#     # print(train_df[\"images\"][i])\n",
    "#     imgs_3.append(cv2.imread(train_df[\"images\"][i]))\n",
    "#     gt_masks_3.append(cv2.imread(train_df[\"masks\"][i]))\n",
    "#     paths.append(train_df[\"oracle\"][i])"
   ]
  },
  {
   "cell_type": "code",
   "execution_count": null,
   "metadata": {},
   "outputs": [],
   "source": [
    "# mv_masks_128_3 = load_masks(paths, \"oracle_mv_128_3\")\n",
    "# no_mv_masks_128_3 = load_masks(paths, \"oracle_no_mv_128_3\")\n",
    "# wmv_masks_128_3 = load_masks(paths, \"oracle_wmv_128_3\")"
   ]
  },
  {
   "cell_type": "code",
   "execution_count": null,
   "metadata": {},
   "outputs": [],
   "source": [
    "# plotComparison(imgs_3, mv_masks_128_3, no_mv_masks_128_3, wmv_masks_128_3, gt_masks_3)"
   ]
  },
  {
   "cell_type": "code",
   "execution_count": null,
   "metadata": {},
   "outputs": [],
   "source": []
  }
 ],
 "metadata": {
  "kernelspec": {
   "display_name": "Python [conda env:myenv]",
   "language": "python",
   "name": "conda-env-myenv-py"
  },
  "language_info": {
   "codemirror_mode": {
    "name": "ipython",
    "version": 3
   },
   "file_extension": ".py",
   "mimetype": "text/x-python",
   "name": "python",
   "nbconvert_exporter": "python",
   "pygments_lexer": "ipython3",
   "version": "3.9.18"
  }
 },
 "nbformat": 4,
 "nbformat_minor": 4
}
