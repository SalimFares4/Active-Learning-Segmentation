{
 "cells": [
  {
   "cell_type": "code",
   "execution_count": 22,
   "id": "bf45a858",
   "metadata": {},
   "outputs": [],
   "source": [
    "import os\n",
    "import numpy as np\n",
    "import pandas as pd"
   ]
  },
  {
   "cell_type": "code",
   "execution_count": 23,
   "id": "40ade8a1",
   "metadata": {},
   "outputs": [],
   "source": [
    "import matplotlib.pyplot as plt\n",
    "import supervision as sv\n",
    "import cv2\n",
    "from sklearn.model_selection import train_test_split"
   ]
  },
  {
   "cell_type": "code",
   "execution_count": 24,
   "id": "c7285ed2",
   "metadata": {},
   "outputs": [],
   "source": [
    "main_path = \"/root/Master_Thesis/\"\n",
    "sam_path = main_path + \"sam/sam_vit_h_4b8939.pth\"\n",
    "raw_data_path = main_path + \"data/raw/\"\n",
    "processed_data_path = main_path + \"data/processed/\"\n",
    "oracle_path = processed_data_path +\"oracle/\"\n",
    "dataframes_path = main_path + \"data/dataframes/\""
   ]
  },
  {
   "cell_type": "code",
   "execution_count": null,
   "id": "742189bd",
   "metadata": {},
   "outputs": [],
   "source": [
    "\n"
   ]
  },
  {
   "cell_type": "code",
   "execution_count": 25,
   "id": "fb81f76a",
   "metadata": {},
   "outputs": [],
   "source": [
    "def create_df(images_path, masks_path, df_name=None):\n",
    "    images =[]\n",
    "    masks = []\n",
    "    oracle=[]\n",
    "    source = df_name.split(\"_df\")[0]\n",
    "    for dirname, _, filenames in os.walk(images_path):\n",
    "        for filename in filenames:\n",
    "            images.append(os.path.join(dirname, filename))\n",
    "            masks.append(os.path.join(masks_path, filename))\n",
    "            oracle.append(os.path.join(oracle_path, \"{}.npy\".format(source+\"_\"+filename.split('.')[0])))\n",
    "    df = pd.DataFrame({\"images\": images,\n",
    "                       \"masks\": masks,\n",
    "                       \"oracle\":oracle})\n",
    "    if not df_name is None:\n",
    "        df.to_csv(dataframes_path + df_name)\n",
    "    \n",
    "    return df"
   ]
  },
  {
   "cell_type": "code",
   "execution_count": null,
   "id": "7457c0fc",
   "metadata": {},
   "outputs": [],
   "source": [
    "\n"
   ]
  },
  {
   "cell_type": "code",
   "execution_count": 26,
   "id": "02d049f9",
   "metadata": {},
   "outputs": [],
   "source": [
    "##Get raw_paths and compose processed_paths\n",
    "\n",
    "# brain_mri_path = raw_data_path + \"Brain_MRI_segmentation/kaggle_3m/\"\n",
    "\n",
    "# brain_mri_processed_images_path = processed_data_path + \"Brain_MRI_segmentation/images/\"\n",
    "# brain_mri_processed_masks_path = processed_data_path + \"Brain_MRI_segmentation/masks/\"\n",
    "# oracle_path = processed_data_path + \"Brain_MRI_segmentation/oracle/\"\n",
    "\n",
    "# images = []\n",
    "# masks = []\n",
    "# oracle = []\n",
    "# processed_images = []\n",
    "# processed_masks = []\n",
    "# source = \"brain\"\n",
    "# for dirname, _, filenames in os.walk(brain_mri_path):\n",
    "#     for filename in filenames:\n",
    "#         file = filename.split(\".tif\")[0]\n",
    "#         if file.endswith(\"_mask\"):\n",
    "#             img_file = file[:-5] + \".tif\"\n",
    "#             masks.append(os.path.join(dirname, filename))\n",
    "#             images.append(os.path.join(dirname, img_file))            \n",
    "#             oracle.append(os.path.join(oracle_path, \"{}.npy\".format(source+\"_\"+file)))\n",
    "            \n",
    "#             processed_images.append(os.path.join(brain_mri_processed_images_path, \"{}.npy\".format(source+\"_\"+file)))\n",
    "#             processed_masks.append(os.path.join(brain_mri_processed_masks_path, \"{}.npy\".format(source+\"_\"+file)))        \n",
    "\n",
    "## Create and split a dataframe for previous paths                        \n",
    "# brain_df = pd.DataFrame({\"raw_images\": images,\n",
    "#                     \"raw_masks\": masks,\n",
    "#                     \"images\": processed_images,\n",
    "#                     \"masks\": processed_masks,                    \n",
    "#                     \"oracle\":oracle})\n",
    "\n",
    "# brain_df.to_csv(dataframes_path + \"brain_df.csv\")\n",
    "\n",
    "# brain_df = pd.read_csv(dataframes_path+\"brain_df.csv\")\n",
    "# brain_df_train, brain_df_test = train_test_split(brain_df, test_size=0.3, random_state=42, shuffle=True)\n",
    "# brain_df_train.to_csv(dataframes_path+\"brain_df_train.csv\")\n",
    "# brain_df_test.to_csv(dataframes_path+\"brain_df_test.csv\")\n",
    "\n",
    "\n",
    "##Process images and masks and save them in corresponding paths\n",
    "# for i in range(len(brain_df)):\n",
    "#     processed_mask = cv2.resize(cv2.cvtColor(cv2.imread(brain_df[\"raw_masks\"][i]), cv2.COLOR_BGR2GRAY), (128, 128), interpolation=cv2.INTER_CUBIC)\n",
    "#     processed_image =  cv2.resize(cv2.cvtColor(cv2.imread(brain_df[\"raw_images\"][i]), cv2.COLOR_BGR2RGB), (128, 128), interpolation=cv2.INTER_CUBIC)\n",
    "    \n",
    "#     processed_image_dir = os.path.dirname(brain_df[\"images\"][i])\n",
    "#     if not os.path.exists(processed_image_dir):\n",
    "#         os.makedirs(processed_image_dir)\n",
    "    \n",
    "#     np.save(brain_df[\"images\"][i], processed_image)\n",
    "    \n",
    "#     processed_mask_dir = os.path.dirname(brain_df[\"masks\"][i])\n",
    "#     if not os.path.exists(processed_mask_dir):\n",
    "#         os.makedirs(processed_mask_dir)\n",
    "    \n",
    "#     np.save(brain_df[\"masks\"][i], processed_mask)\n"
   ]
  },
  {
   "cell_type": "code",
   "execution_count": 27,
   "id": "7d4aa0cf",
   "metadata": {},
   "outputs": [],
   "source": [
    "# #Get raw_paths and compose processed_paths\n",
    "# lung_dataset_path = raw_data_path + \"Lung_Tumor_Segmentation/\"\n",
    "\n",
    "# lung_processed_images_path = processed_data_path + \"Lung_Tumor_Segmentation/images/\"\n",
    "# lung_processed_masks_path = processed_data_path + \"Lung_Tumor_Segmentation/masks/\"\n",
    "# oracle_path = processed_data_path + \"Lung_Tumor_Segmentation/oracle/\"\n",
    "\n",
    "# images = []\n",
    "# masks = []\n",
    "# oracle = []\n",
    "# processed_images = []\n",
    "# processed_masks = []\n",
    "# source = \"lung\"\n",
    "# for dirname, _, filenames in os.walk(lung_dataset_path):\n",
    "#     if dirname.endswith(\"data\"):\n",
    "#         mask_dir = dirname[:-4]\n",
    "#         for filename in filenames:\n",
    "#             mask_path = os.path.join(mask_dir, \"masks\", filename)\n",
    "#             mask = np.load(mask_path, allow_pickle=True)\n",
    "#             if mask.sum()>0:\n",
    "#                 images.append(os.path.join(dirname, filename))\n",
    "#                 masks.append(os.path.join(mask_dir, \"masks\", filename))\n",
    "#                 oracle.append(os.path.join(oracle_path, \"{}.npy\".format(source+\"_\"+filename.split('.')[0])))\n",
    "#                 processed_images.append(os.path.join(lung_processed_images_path, \"{}.npy\".format(source+\"_\"+filename.split('.')[0])))\n",
    "#                 processed_masks.append(os.path.join(lung_processed_masks_path, \"{}.npy\".format(source+\"_\"+filename.split('.')[0])))\n",
    "            \n",
    "# # Create and split a dataframe for previous paths                        \n",
    "# lung_df = pd.DataFrame({\"raw_images\": images,\n",
    "#                     \"raw_masks\": masks,\n",
    "#                     \"images\": processed_images,\n",
    "#                     \"masks\": processed_masks,                    \n",
    "#                     \"oracle\":oracle})\n",
    "\n",
    "# lung_df.to_csv(dataframes_path + \"lung_df.csv\")\n",
    "\n",
    "# lung_df = pd.read_csv(dataframes_path+\"lung_df.csv\")\n",
    "# lung_df_train, lung_df_test = train_test_split(lung_df, test_size=0.3, random_state=42, shuffle=True)\n",
    "# lung_df_train.to_csv(dataframes_path+\"lung_df_train.csv\")\n",
    "# lung_df_test.to_csv(dataframes_path+\"lung_df_test.csv\")\n",
    "\n",
    "# #Process images and masks and save them in corresponding paths\n",
    "# for i in range(len(lung_df)):\n",
    "#     processed_mask = cv2.resize(np.load(lung_df[\"raw_masks\"][i], allow_pickle=True), (128, 128), interpolation=cv2.INTER_CUBIC)\n",
    "#     processed_image = cv2.resize(cv2.cvtColor((np.load(lung_df[\"raw_images\"][i], allow_pickle=True)* 255.0).astype(np.uint8), cv2.COLOR_GRAY2RGB), (128,128), interpolation=cv2.INTER_CUBIC)\n",
    "    \n",
    "#     processed_image_dir = os.path.dirname(lung_df[\"images\"][i])\n",
    "#     if not os.path.exists(processed_image_dir):\n",
    "#         os.makedirs(processed_image_dir)\n",
    "    \n",
    "#     np.save(lung_df[\"images\"][i], processed_image)\n",
    "    \n",
    "#     processed_mask_dir = os.path.dirname(lung_df[\"masks\"][i])\n",
    "#     if not os.path.exists(processed_mask_dir):\n",
    "#         os.makedirs(processed_mask_dir)\n",
    "    \n",
    "#     np.save(lung_df[\"masks\"][i], processed_mask)"
   ]
  },
  {
   "cell_type": "code",
   "execution_count": 28,
   "id": "e4338432",
   "metadata": {},
   "outputs": [],
   "source": [
    "# liver_path = raw_data_path + \"Liver_and_Liver_Tumor_Segmentation/dataset_6/\"\n",
    "# old_liver_df = raw_data_path + \"Liver_and_Liver_Tumor_Segmentation/lits_df.csv\"\n",
    "# df = pd.read_csv(old_liver_df)\n",
    "\n",
    "\n",
    "# source = \"liver\"\n",
    "# oracle=[]\n",
    "# images_path = df[\"filepath\"].to_list()\n",
    "# images = [liver_path + path[18:] for path in images_path]\n",
    "# print(images[0])\n",
    "\n",
    "# tumor_mask_path = df[\"tumor_maskpath\"].to_list()\n",
    "# masks = [liver_path + path[18:] for path in tumor_mask_path]\n",
    "# print(masks[0])\n",
    "\n",
    "# for mask_path in masks:\n",
    "#     file_name = os.path.basename(mask_path).split('.')[0]\n",
    "#     oracle.append(os.path.join(oracle_path, \"{}.npy\".format(source+\"_\"+file_name)))\n",
    "\n",
    "# # liver_mask_path = df[\"liver_maskpath\"].to_list()\n",
    "# # liver_masks = [liver_path + path[18:] for path in liver_mask_path]\n",
    "\n",
    "# liver_df = pd.DataFrame({\"images\": images,\n",
    "#                     \"masks\": masks,\n",
    "#                     \"oracle\":oracle})\n",
    "\n",
    "# liver_df.to_csv(dataframes_path + \"liver_df.csv\")"
   ]
  },
  {
   "cell_type": "code",
   "execution_count": 29,
   "id": "55dd1c5e",
   "metadata": {},
   "outputs": [],
   "source": [
    "#Get raw_paths and compose processed_paths\n",
    "lunar_raw_images_path = raw_data_path + \"Lunar_Rocky_Landscape/images/render/\"\n",
    "lunar_raw_masks_path = raw_data_path + \"Lunar_Rocky_Landscape/images/clean/\"\n",
    "\n",
    "lunar_processed_images_path = processed_data_path + \"Lunar_Rocky_Landscape/images/\"\n",
    "lunar_processed_masks_path = processed_data_path + \"Lunar_Rocky_Landscape/masks/\"\n",
    "oracle_path = processed_data_path + \"Lunar_Rocky_Landscape/oracle/\"\n",
    "\n",
    "\n",
    "oracle = []\n",
    "processed_images = []\n",
    "processed_masks = []\n",
    "source = \"lunar\"\n",
    "\n",
    "images = [os.path.join(lunar_raw_images_path, x) for x in sorted(os.listdir(lunar_raw_images_path))]\n",
    "masks = [os.path.join(lunar_raw_masks_path, x) for x in sorted(os.listdir(lunar_raw_masks_path))]\n",
    "\n",
    "processed_images = [os.path.join(lunar_processed_images_path, os.path.basename(x)[:-3]+\"npy\") for x in images]\n",
    "processed_masks = [os.path.join(lunar_processed_masks_path, os.path.basename(x)[:-3]+\"npy\") for x in masks]\n",
    "\n",
    "oracle = [os.path.join(oracle_path, source+\"_\"+os.path.basename(x)[:-3]+\"npy\") for x in masks]\n",
    "\n",
    "# # Create and split a dataframe for previous paths                        \n",
    "lunar_df = pd.DataFrame({\"raw_images\": images,\n",
    "                    \"raw_masks\": masks,\n",
    "                    \"images\": processed_images,\n",
    "                    \"masks\": processed_masks,                    \n",
    "                    \"oracle\":oracle})\n",
    "\n",
    "lunar_df.to_csv(dataframes_path + \"lunar_df.csv\")\n",
    "lunar_df = pd.read_csv(dataframes_path+\"lunar_df.csv\")\n",
    "lunar_df_train, lunar_df_test = train_test_split(lunar_df, test_size=0.3, random_state=42, shuffle=True)\n",
    "lunar_df_train.to_csv(dataframes_path+\"lunar_df_train.csv\")\n",
    "lunar_df_test.to_csv(dataframes_path+\"lunar_df_test.csv\")\n",
    "\n",
    "# #Process images and masks and save them in corresponding paths\n",
    "# for i in range(len(lunar_df)):\n",
    "#     mask = cv2.imread(lunar_df[\"raw_masks\"][i])\n",
    "#     mask = mask[:,:,1]+ mask[:,:,0]\n",
    "#     processed_mask = cv2.resize(mask, (128, 128), interpolation=cv2.INTER_CUBIC)\n",
    "#     processed_image = cv2.resize(cv2.cvtColor(cv2.imread(lunar_df[\"raw_images\"][i]), cv2.COLOR_BGR2RGB), (128,128), interpolation=cv2.INTER_CUBIC)\n",
    "    \n",
    "#     processed_image_dir = os.path.dirname(lunar_df[\"images\"][i])\n",
    "#     if not os.path.exists(processed_image_dir):\n",
    "#         os.makedirs(processed_image_dir)\n",
    "    \n",
    "#     np.save(lunar_df[\"images\"][i], processed_image)\n",
    "    \n",
    "#     processed_mask_dir = os.path.dirname(lunar_df[\"masks\"][i])\n",
    "#     if not os.path.exists(processed_mask_dir):\n",
    "#         os.makedirs(processed_mask_dir)\n",
    "    \n",
    "#     np.save(lunar_df[\"masks\"][i], processed_mask)"
   ]
  },
  {
   "cell_type": "code",
   "execution_count": 32,
   "id": "e0662bcb",
   "metadata": {},
   "outputs": [
    {
     "data": {
      "text/plain": [
       "'/root/Master_Thesis/data/processed/Lunar_Rocky_Landscape/oracle/lunar_clean0002.npy'"
      ]
     },
     "execution_count": 32,
     "metadata": {},
     "output_type": "execute_result"
    }
   ],
   "source": [
    "lunar_df[\"oracle\"][1]"
   ]
  },
  {
   "cell_type": "code",
   "execution_count": 17,
   "id": "2cc1082d",
   "metadata": {},
   "outputs": [],
   "source": []
  },
  {
   "cell_type": "code",
   "execution_count": 10,
   "id": "b9d01af1",
   "metadata": {},
   "outputs": [
    {
     "data": {
      "text/plain": [
       "9766"
      ]
     },
     "execution_count": 10,
     "metadata": {},
     "output_type": "execute_result"
    }
   ],
   "source": [
    "len(not_found)"
   ]
  },
  {
   "cell_type": "code",
   "execution_count": 43,
   "id": "a3cd813c",
   "metadata": {},
   "outputs": [
    {
     "data": {
      "text/plain": [
       "{0, 255}"
      ]
     },
     "execution_count": 43,
     "metadata": {},
     "output_type": "execute_result"
    }
   ],
   "source": [
    "set(mask.flatten())"
   ]
  },
  {
   "cell_type": "code",
   "execution_count": 53,
   "id": "3ce27292",
   "metadata": {},
   "outputs": [
    {
     "data": {
      "image/png": "[encoded data removed]",
      "text/plain": [
       "<Figure size 500x500 with 2 Axes>"
      ]
     },
     "metadata": {},
     "output_type": "display_data"
    },
    {
     "name": "stdout",
     "output_type": "stream",
     "text": [
      "10\n"
     ]
    }
   ],
   "source": [
    "\n",
    "# idx=0\n",
    "for i in range(idx, len(lunar_df)):\n",
    "    # mask = cv2.cvtColor(cv2.imread(lunar_df[\"masks\"][i]), cv2.COLOR_BGR2GRAY)\n",
    "    mask = cv2.imread(lunar_df[\"masks\"][i])\n",
    "    mask = mask[:,:,1]+ mask[:,:,0]\n",
    "    if mask.sum()>0:\n",
    "        image = cv2.imread(lunar_df[\"images\"][i])\n",
    "        sv.plot_images_grid(\n",
    "            images=[image, mask],\n",
    "            grid_size=(1,2),\n",
    "            size=(5,5)\n",
    "        )\n",
    "        idx = i+1\n",
    "        print(i)\n",
    "        break\n",
    "    "
   ]
  },
  {
   "cell_type": "code",
   "execution_count": 56,
   "id": "ece90b96",
   "metadata": {},
   "outputs": [
    {
     "data": {
      "text/plain": [
       "(480, 720, 3)"
      ]
     },
     "execution_count": 56,
     "metadata": {},
     "output_type": "execute_result"
    }
   ],
   "source": [
    "image.shape"
   ]
  },
  {
   "cell_type": "code",
   "execution_count": 20,
   "id": "f73600da",
   "metadata": {},
   "outputs": [
    {
     "data": {
      "text/plain": [
       "(256, 256, 3)"
      ]
     },
     "execution_count": 20,
     "metadata": {},
     "output_type": "execute_result"
    }
   ],
   "source": [
    "mask.shape"
   ]
  },
  {
   "cell_type": "code",
   "execution_count": null,
   "id": "14e1d17b",
   "metadata": {},
   "outputs": [],
   "source": [
    "# images = []\n",
    "# masks = []\n",
    "# oracle = []\n",
    "\n",
    "# for dirname, _, filenames in os.walk(dataframes_path):\n",
    "#     for filename in filenames:\n",
    "#         if not filename in [\"lung_df.csv\", \"train_df.csv\", \"test_df.csv\", \"all_dfs.csv\", \"aerial_df.csv\", \"clothing_df.csv\", \"liver_df.csv\"]:\n",
    "#             df = pd.read_csv(os.path.join(dirname, filename))\n",
    "#             images.extend(df[\"images\"].to_list())\n",
    "#             masks.extend(df[\"masks\"].to_list())\n",
    "#             print(filename)\n",
    "#             oracle.extend(df[\"oracle\"].to_list())\n",
    "\n",
    "# all_dfs = pd.DataFrame({\"images\": images,\n",
    "#                         \"masks\": masks,\n",
    "#                         \"oracle\": oracle})\n",
    "\n",
    "# all_dfs.to_csv(dataframes_path + \"all_dfs.csv\")\n",
    "\n",
    "# train_df, test_df = train_test_split(all_dfs, test_size=0.3, random_state=42, shuffle=True)\n",
    "# train_df = train_df.reset_index(drop=True)\n",
    "# test_df = test_df.reset_index(drop=True)\n",
    "# train_df.to_csv(dataframes_path+\"train_df.csv\")\n",
    "# test_df.to_csv(dataframes_path+\"test_df.csv\")"
   ]
  }
 ],
 "metadata": {
  "kernelspec": {
   "display_name": "al_env",
   "language": "python",
   "name": "python3"
  },
  "language_info": {
   "codemirror_mode": {
    "name": "ipython",
    "version": 3
   },
   "file_extension": ".py",
   "mimetype": "text/x-python",
   "name": "python",
   "nbconvert_exporter": "python",
   "pygments_lexer": "ipython3",
   "version": "3.9.18"
  }
 },
 "nbformat": 4,
 "nbformat_minor": 5
}
