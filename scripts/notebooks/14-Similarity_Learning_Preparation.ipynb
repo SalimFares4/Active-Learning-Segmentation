{
 "cells": [
  {
   "cell_type": "code",
   "execution_count": 1,
   "id": "d0bd03b5-b329-4870-a7cb-b53e20b713df",
   "metadata": {},
   "outputs": [
    {
     "name": "stderr",
     "output_type": "stream",
     "text": [
      "TqdmWarning: IProgress not found. Please update jupyter and ipywidgets. See https://ipywidgets.readthedocs.io/en/stable/user_install.html\n"
     ]
    }
   ],
   "source": [
    "import torch\n",
    "import os\n",
    "import pickle\n",
    "import numpy as np\n",
    "import matplotlib.pyplot as plt\n",
    "from segment_anything import sam_model_registry, SamAutomaticMaskGenerator, SamPredictor\n",
    "import sys\n",
    "sys.path.append('../src')\n",
    "import pandas as pd\n",
    "\n",
    "import cv2\n",
    "import numpy as np\n",
    "import supervision as sv\n",
    "from os.path import expanduser\n",
    "import json\n",
    "from unet_model import *\n",
    "import segmentation_models_pytorch as smp\n",
    "from scipy.spatial.distance import cdist\n",
    "from strategies import *\n",
    "from custom_datasets import *\n",
    "import torch.optim as optim"
   ]
  },
  {
   "cell_type": "code",
   "execution_count": 2,
   "id": "6be3d63a-0702-49d8-ad0f-1f026be5b6b1",
   "metadata": {},
   "outputs": [],
   "source": [
    "home = expanduser(\"~\")\n",
    "main_path = home+\"/Active-Learning-Segmentation/\"\n",
    "dataframes_path = main_path + \"data/dataframes/\"\n",
    "sam_path = main_path + \"sam/sam_vit_h_4b8939.pth\"\n",
    "notebooks_path = main_path + \"scripts/notebooks/\"\n",
    "expirements_path = main_path+\"expirements/\"\n",
    "processed_data_path = main_path + \"data/processed/\"\n",
    "trained_models = main_path + \"scripts/notebooks/trained_models/\"\n",
    "combinations_dataframe_path = dataframes_path + \"comp_df.csv\"\n",
    "similarity_train_data_path = processed_data_path + \"train_similarity/\""
   ]
  },
  {
   "cell_type": "code",
   "execution_count": null,
   "id": "7ac4f50d-edb6-452f-8f69-2f87b2fab43e",
   "metadata": {},
   "outputs": [],
   "source": []
  },
  {
   "cell_type": "code",
   "execution_count": 3,
   "id": "97964fce-867b-4a63-bb60-ff06ca5a0d54",
   "metadata": {},
   "outputs": [],
   "source": [
    "df_name = \"lunar_df\"\n",
    "train_df = pd.read_csv(dataframes_path+\"lunar_df_train.csv\")\n",
    "test_df = pd.read_csv(dataframes_path+\"lunar_df_test.csv\")\n",
    "comp_df = pd.read_csv(dataframes_path+\"comp_df.csv\")"
   ]
  },
  {
   "cell_type": "code",
   "execution_count": 4,
   "id": "959d22bd-45e0-4ac2-9cac-1e1dfe45da37",
   "metadata": {},
   "outputs": [],
   "source": [
    "if not os.path.exists(similarity_train_data_path):\n",
    "    os.makedirs(similarity_train_data_path)#"
   ]
  },
  {
   "cell_type": "code",
   "execution_count": 5,
   "id": "f6069169-33b7-40f7-a488-906036ebeaaf",
   "metadata": {},
   "outputs": [],
   "source": [
    "# with open(\"brain_params.json\", \"r\") as f:\n",
    "#     params = json.load(f)\n",
    "# with open(\"lung_params.json\", \"r\") as f:\n",
    "#     params = json.load(f)\n",
    "\n",
    "with open(\"lunar_params.json\", \"r\") as f:\n",
    "    params = json.load(f)"
   ]
  },
  {
   "cell_type": "code",
   "execution_count": 6,
   "id": "ae127465-db95-4a96-92b8-06ff21ee5efe",
   "metadata": {},
   "outputs": [
    {
     "data": {
      "text/plain": [
       "{'n_epoch': 35,\n",
       " 'train_args': {'batch_size': 16, 'num_workers': 1},\n",
       " 'test_args': {'batch_size': 512, 'num_workers': 1},\n",
       " 'optimizer_args': {'lr': 0.005, 'momentum': 0.9},\n",
       " 'use_sam': True,\n",
       " 'use_predictor': True,\n",
       " 'use_generator': False,\n",
       " 'init_set_size': 100,\n",
       " 'rounds': 15,\n",
       " 'activate_sam_at_round': 1,\n",
       " 'img_size': [128, 128],\n",
       " 'voting': True,\n",
       " 'pre_trained': False,\n",
       " 'dataset': 'Lunar_Rocky_Landscape',\n",
       " 'similarity_check': True,\n",
       " 'dropout': True}"
      ]
     },
     "execution_count": 6,
     "metadata": {},
     "output_type": "execute_result"
    }
   ],
   "source": [
    "params"
   ]
  },
  {
   "cell_type": "code",
   "execution_count": 7,
   "id": "7ca35a28-d404-4520-9afd-a9e370821696",
   "metadata": {},
   "outputs": [],
   "source": [
    "if params[\"init_set_size\"] == len(train_df):\n",
    "    params[\"training_type\"] = \"no_active\"\n",
    "elif not params[\"use_sam\"]:\n",
    "    params[\"training_type\"] = \"no_sam\"\n",
    "elif params[\"voting\"]:\n",
    "    params[\"training_type\"] = \"voters\"\n",
    "else:\n",
    "    params[\"training_type\"]=\"withSAM_NoVoting\"\n",
    "\n",
    "if params[\"training_type\"] == \"no_active\":\n",
    "    if params[\"pre_trained\"]:\n",
    "        params[\"model_path\"] = f'{notebooks_path}trained_models/{params[\"dataset\"]}/no_active/pre_trained_Unet_{params[\"img_size\"][0]}.pt'\n",
    "    else:\n",
    "        params[\"model_path\"] = f'{notebooks_path}trained_models/{params[\"dataset\"]}/no_active/not_pre_trained_Unet_{params[\"img_size\"][0]}.pt'\n",
    "else:\n",
    "    if params[\"pre_trained\"]:\n",
    "        params[\"model_path\"] = f'{notebooks_path}trained_models/{params[\"dataset\"]}/{params[\"training_type\"]}/pre_trained/{params[\"init_set_size\"]}'\n",
    "    else:\n",
    "        params[\"model_path\"] = f'{notebooks_path}trained_models/{params[\"dataset\"]}/{params[\"training_type\"]}/not_pre_trained/{params[\"init_set_size\"]}'\n",
    "\n",
    "notes = f'{params[\"training_type\"]}_{params[\"init_set_size\"]}'\n",
    "\n",
    "if params[\"dropout\"] and params[\"training_type\"] != \"voters\":\n",
    "    params[\"model_path\"] = f'{params[\"model_path\"]}_dropout'\n",
    "    notes = f\"{notes}_dropout\"\n",
    "\n",
    "params['test_set_size'] = len(test_df)\n",
    "params['df'] = df_name\n",
    "params['query_num'] = int(0.05 * params['init_set_size'])\n",
    "if params['query_num'] == 0:\n",
    "    params['query_num'] = 1\n",
    "params[\"strategy\"] = \"MarginSampling\"\n",
    "\n",
    "\n",
    "\n",
    "if params[\"training_type\"] == \"voters\":\n",
    "    if params[\"similarity_check\"]:\n",
    "        params[\"model_path\"] = f'{params[\"model_path\"]}_dbscan'\n",
    "        notes = f\"{notes}_dbscan\"\n",
    "    if params[\"dropout\"]:\n",
    "        params[\"model_path\"] = f'{params[\"model_path\"]}_dropout'\n",
    "    params[\"model_path\"] = f'{params[\"model_path\"]}/voters_{params[\"img_size\"][0]}'\n",
    "        "
   ]
  },
  {
   "cell_type": "code",
   "execution_count": 8,
   "id": "75dc11fc-a4de-40fe-9871-9702c5f7d8c8",
   "metadata": {},
   "outputs": [],
   "source": [
    "# params[\"model_path\"]"
   ]
  },
  {
   "cell_type": "code",
   "execution_count": 9,
   "id": "9556ba4e-e9c6-4ec9-adcf-e7a5d310e673",
   "metadata": {},
   "outputs": [],
   "source": [
    "# voters = [f'{params[\"model_path\"]}_{params[\"rounds\"]-1}/model_{i}.pt' for i in range(1,10)]\n",
    "# voters.append(f'{params[\"model_path\"]}_{params[\"rounds\"]-1}/main_Unet.pt')"
   ]
  },
  {
   "cell_type": "code",
   "execution_count": 10,
   "id": "c1d93537-5745-40ad-94cf-3f80c2623a75",
   "metadata": {},
   "outputs": [],
   "source": [
    "# test_df_slice = test_df[i:i+1]\n",
    "test_df_slice = train_df[:100]\n",
    "# def get_data(handler, train_df, test_df):\n",
    "#     return Data(train_df[\"images\"].to_list(), train_df[\"masks\"].to_list(), test_df[\"images\"].to_list(), test_df[\"masks\"].to_list(), handler, img_size=params[\"img_size\"], df=train_df, path= main_path+\"/data/processed/\", use_sam=params['use_sam'])\n",
    "\n",
    "# data = get_data(Handler, test_df_slice, test_df_slice)\n",
    "# data.initialize_labels(params[\"init_set_size\"])"
   ]
  },
  {
   "cell_type": "code",
   "execution_count": 11,
   "id": "95ba816e-ee4c-4682-8e3e-25843ecb56f3",
   "metadata": {},
   "outputs": [],
   "source": [
    "# model = UNet(n_channels=3, n_classes=1, bilinear=True)\n",
    "# net = Net(model, params, device = torch.device(\"cuda\"))"
   ]
  },
  {
   "cell_type": "code",
   "execution_count": 12,
   "id": "4a926deb-63b0-442c-be9b-968930af39ef",
   "metadata": {},
   "outputs": [],
   "source": [
    "# sam = SAMOracle(checkpoint_path=sam_path, img_size=params[\"img_size\"])"
   ]
  },
  {
   "cell_type": "code",
   "execution_count": 13,
   "id": "537c3121-b4bb-40e2-8b79-ad7d618b798e",
   "metadata": {},
   "outputs": [],
   "source": [
    "# def predict(net, model_state:str):\n",
    "#     net.net.load_state_dict(torch.load(model_state))\n",
    "#     net.clf = net.net.to(torch.device(\"cuda\"))\n",
    "#     mask = net.predict(data.get_test_data())[0]\n",
    "#     mask = (mask.squeeze().cpu().sigmoid()> 0.5).float()\n",
    "    \n",
    "#     return mask"
   ]
  },
  {
   "cell_type": "code",
   "execution_count": 14,
   "id": "cbaa5711-5259-40da-93bf-59b937b5f871",
   "metadata": {},
   "outputs": [],
   "source": [
    "# def get_boxes(mask):\n",
    "#     if torch.is_tensor(mask):\n",
    "#         mask = mask.numpy()\n",
    "#         mask = np.array(mask, np.uint8)\n",
    "#     # _, thresh = cv2.threshold(mask, 0.5, 1, 0)\n",
    "#     contours, _ = cv2.findContours(mask, cv2.RETR_TREE, cv2.CHAIN_APPROX_SIMPLE)\n",
    "#     cnts = []\n",
    "#     for cnt in contours:\n",
    "#         x,y,w,h = cv2.boundingRect(cnt)\n",
    "#         box = np.array([x, y, x+w, y+h])\n",
    "#         cnts.append(box)\n",
    "#     return np.array(cnts)   "
   ]
  },
  {
   "cell_type": "code",
   "execution_count": 15,
   "id": "214e8cde-979e-49bf-b3b6-46e104fa9570",
   "metadata": {},
   "outputs": [],
   "source": [
    "# tmp_masks = [predict(net, path) for path in voters]\n",
    "# voters_masks =[]\n",
    "# for j in range(len(tmp_masks[0])):\n",
    "#     voters_masks.append([tmp_masks[i][j] for i in range(len(tmp_masks))])"
   ]
  },
  {
   "cell_type": "code",
   "execution_count": 16,
   "id": "3cddfe75-4af8-4a26-9927-78bb27845e2a",
   "metadata": {},
   "outputs": [],
   "source": [
    "# voters_boxes = [[get_boxes(mask) for mask in masks] for masks in voters_masks]"
   ]
  },
  {
   "cell_type": "code",
   "execution_count": 17,
   "id": "ab780812-8023-4334-9399-47ce4e9fe8d9",
   "metadata": {},
   "outputs": [],
   "source": [
    "mask_paths = []\n",
    "gt_paths =[]\n",
    "mask_paths_remove=[]\n",
    "for i in range(len(test_df_slice)):\n",
    "    gt_mask= np.load(test_df_slice[\"masks\"][i], allow_pickle=True)\n",
    "    if gt_mask.sum()>0:\n",
    "        for j in range(10):\n",
    "            mask_paths.append(similarity_train_data_path + f\"sam_{j}_\" + os.path.basename(test_df_slice[\"masks\"][i]))\n",
    "            gt_paths.append(test_df_slice[\"masks\"][i])\n",
    "    # else:\n",
    "    #     for j in range(10):\n",
    "    #         mask_paths_remove.append(similarity_train_data_path + f\"sam_{j}_\" + os.path.basename(test_df_slice[\"masks\"][i]))"
   ]
  },
  {
   "cell_type": "code",
   "execution_count": 18,
   "id": "0b2aeaa7-be47-4a60-8cfc-d416c756f7c7",
   "metadata": {},
   "outputs": [],
   "source": [
    "# for path in mask_paths_remove:\n",
    "#     os.remove(path)"
   ]
  },
  {
   "cell_type": "code",
   "execution_count": 19,
   "id": "57bbc354-b25c-4dc6-902d-dc9c2f76184f",
   "metadata": {},
   "outputs": [],
   "source": [
    "# comp_df = pd.DataFrame({\"mask\":mask_paths,\n",
    "#                       \"gt_mask\":gt_paths})\n",
    "\n",
    "# comp_df.to_csv(dataframes_path+\"comp_df.csv\")"
   ]
  },
  {
   "cell_type": "code",
   "execution_count": 20,
   "id": "450753a0-d652-456a-aab7-79f619344ca7",
   "metadata": {},
   "outputs": [],
   "source": [
    "# # voters_sam =[[sam.get_mask(img_path=test_df_slice[\"images\"][i], boxes=box).squeeze() for box in boxes]for i,boxes in enumerate(voters_dbscan_dropout_boxes)]\n",
    "# voters_sam=[]\n",
    "# for i,boxes in enumerate(voters_boxes):\n",
    "#     tmp_sams=[]\n",
    "#     for j,box in enumerate(boxes):\n",
    "#         tmp_sam = sam.get_mask(img_path=test_df_slice[\"images\"][i], boxes=box).squeeze()\n",
    "#         tmp_sams.append(tmp_sam)\n",
    "#         path = similarity_train_data_path + f\"sam_{j}_\" + os.path.basename(test_df_slice[\"masks\"][i])\n",
    "#         np.save(path, tmp_sam)"
   ]
  },
  {
   "cell_type": "code",
   "execution_count": 21,
   "id": "8db3dfbe-c8ec-4b4c-8666-05adbaa7d3a2",
   "metadata": {},
   "outputs": [],
   "source": [
    "class SimEmbeddings(torch.nn.Module):\n",
    "    def __init__(self, dim):\n",
    "        super(SimEmbeddings, self).__init__()\n",
    "        dim_2 = int(dim/2)\n",
    "        self.layer1 = torch.nn.Linear(dim, dim_2)\n",
    "        self.layer2 = torch.nn.Linear(dim_2, dim_2)\n",
    "        self.layer3 = torch.nn.Linear(dim_2, 1, bias=False)\n",
    "        self.layer4 = torch.nn.Linear(dim, 1, bias=False)\n",
    "        # self.relu = torch.nn.ReLU()\n",
    "        self.sigmoid = torch.nn.Sigmoid()\n",
    "        \n",
    "    def forward(self, x):\n",
    "        x1 = self.layer1(x)\n",
    "        # print(x1.shape)\n",
    "        x2 = self.layer2(x1)\n",
    "        # print(x2.shape)\n",
    "        x3 = self.layer3(x2)\n",
    "        # print(x3.shape)\n",
    "        x4 = self.layer4(torch.permute(x3,(0, 2, 1)))\n",
    "        # print(x4.shape)\n",
    "        return self.sigmoid(x4)\n",
    "        # return self.relu(x4)"
   ]
  },
  {
   "cell_type": "code",
   "execution_count": 22,
   "id": "7a82422b-9894-4525-989d-73c637789bee",
   "metadata": {},
   "outputs": [],
   "source": [
    "emb = SimEmbeddings(params[\"img_size\"][0])"
   ]
  },
  {
   "cell_type": "code",
   "execution_count": 23,
   "id": "a4b7d749-159c-40da-a2fb-9dca604e9a08",
   "metadata": {},
   "outputs": [],
   "source": [
    "class SimNet:\n",
    "    def __init__(self, sim_model, params):\n",
    "        self.sim_model = sim_model\n",
    "        self.params = params\n",
    "        self.optimizer = optim.SGD(list(self.sim_model.parameters()),lr = 1e-5, momentum=0.9, weight_decay=1e-2)\n",
    "        self.loss_fn = torch.nn.MSELoss()\n",
    "\n",
    "    def get_similarity(self, masks, gt_masks):\n",
    "        tp, fp, fn, tn = smp.metrics.get_stats(masks.long(), gt_masks.long(), mode=\"binary\", threshold=0.5)\n",
    "        iou = smp.metrics.iou_score(tp, fp, fn, tn, reduction=\"micro\")\n",
    "        return iou\n",
    "\n",
    "    def train(self, data):\n",
    "        n_epoch = self.params['n_epoch']\n",
    "        self.sim_model = self.sim_model.to(\"cuda\")\n",
    "        self.sim_model.train()\n",
    "        \n",
    "        loader = DataLoader(data, shuffle=True, batch_size=64)\n",
    "        prog_bar = tqdm.tqdm(range(1, self.params[\"n_epoch\"] + 1), ncols = 100, disable = False)\n",
    "        for epoch in prog_bar:\n",
    "            for batch_idx, (x, y) in enumerate(loader):\n",
    "                x, y = x.cuda(), y.cuda()\n",
    "                # self.optimizer.zero_grad()\n",
    "                        \n",
    "                predicted_similarity = self.sim_model(x).squeeze()\n",
    "                gt_similarity = self.get_similarity(x,y).squeeze()\n",
    "                loss = self.loss_fn(predicted_similarity, gt_similarity)                \n",
    "                \n",
    "                loss.backward(retain_graph=True)\n",
    "\n",
    "                self.optimizer.step()\n",
    "                \n",
    "                prog_bar.set_postfix(loss=loss.item())\n",
    "\n",
    "    def predict(self, mask_path):\n",
    "        self.sim_model = self.sim_model.to(\"cuda\")\n",
    "        self.sim_model.eval()\n",
    "        mask = torch.Tensor(np.load(mask_path, allow_pickle=True)).view(1,self.params[\"img_size\"][0],self.params[\"img_size\"][1]).cuda()\n",
    "        return self.sim_model(mask)\n",
    "        \n",
    "        "
   ]
  },
  {
   "cell_type": "code",
   "execution_count": 24,
   "id": "0e3d4b38-8888-492f-bc60-8ecf2a75de55",
   "metadata": {},
   "outputs": [],
   "source": [
    "class CustomImageDataset(Dataset):\n",
    "    def __init__(self, comp_df, transform=None, target_transform=None):\n",
    "        self.comp_df = comp_df\n",
    "        self.transform = transform\n",
    "        self.target_transform = target_transform\n",
    "\n",
    "    def __len__(self):\n",
    "        return len(self.comp_df)\n",
    "\n",
    "    def __getitem__(self, index):\n",
    "        image = torch.Tensor(np.load(self.comp_df[\"mask\"][index], allow_pickle=True))\n",
    "        label = torch.Tensor(np.load(self.comp_df[\"gt_mask\"][index], allow_pickle=True))\n",
    "        if self.transform:\n",
    "            image = self.transform(image)\n",
    "        if self.target_transform:\n",
    "            label = self.target_transform(label)\n",
    "        return image, label"
   ]
  },
  {
   "cell_type": "code",
   "execution_count": 25,
   "id": "f2533815-d24e-4c3f-896c-6653ffc562dc",
   "metadata": {},
   "outputs": [],
   "source": [
    "dataset = CustomImageDataset(comp_df=comp_df)"
   ]
  },
  {
   "cell_type": "code",
   "execution_count": 26,
   "id": "ba197fbc-f264-4d23-8d06-04344e412b7b",
   "metadata": {},
   "outputs": [],
   "source": [
    "loader = DataLoader(dataset, batch_size=100, shuffle=True)\n"
   ]
  },
  {
   "cell_type": "code",
   "execution_count": 27,
   "id": "f5977337-a05b-4255-80cc-58a10cba9660",
   "metadata": {},
   "outputs": [],
   "source": [
    "net = SimNet(sim_model=SimEmbeddings(params[\"img_size\"][0]),\n",
    "             params=params)"
   ]
  },
  {
   "cell_type": "code",
   "execution_count": 28,
   "id": "d2fcf318-da7b-48fc-8ff9-c86cf61e3ec7",
   "metadata": {},
   "outputs": [
    {
     "data": {
      "text/plain": [
       "tensor([[[0.5016]]], device='cuda:0', grad_fn=<SigmoidBackward0>)"
      ]
     },
     "execution_count": 28,
     "metadata": {},
     "output_type": "execute_result"
    }
   ],
   "source": [
    "idx = 5\n",
    "net.predict(comp_df[\"mask\"][idx])"
   ]
  },
  {
   "cell_type": "code",
   "execution_count": 29,
   "id": "c07a91e5-082e-4ce5-9b5d-c597299ece58",
   "metadata": {},
   "outputs": [
    {
     "name": "stderr",
     "output_type": "stream",
     "text": [
      "  0%|                                                                        | 0/35 [00:00<?, ?it/s]UserWarning: Using a target size (torch.Size([])) that is different to the input size (torch.Size([64])). This will likely lead to incorrect results due to broadcasting. Please ensure they have the same size.\n",
      "  0%|                                                           | 0/35 [00:10<?, ?it/s, loss=0.0204]UserWarning: Using a target size (torch.Size([])) that is different to the input size (torch.Size([24])). This will likely lead to incorrect results due to broadcasting. Please ensure they have the same size.\n",
      "100%|██████████████████████████████████████████████████| 35/35 [00:22<00:00,  1.55it/s, loss=0.0149]\n"
     ]
    }
   ],
   "source": [
    "net.train(dataset)"
   ]
  },
  {
   "cell_type": "code",
   "execution_count": 30,
   "id": "1b86135c-a9ab-432f-8e5b-7ceea39ad947",
   "metadata": {},
   "outputs": [
    {
     "data": {
      "text/plain": [
       "tensor([[[0.7429]]], device='cuda:0', grad_fn=<SigmoidBackward0>)"
      ]
     },
     "execution_count": 30,
     "metadata": {},
     "output_type": "execute_result"
    }
   ],
   "source": [
    "idx = 5\n",
    "net.predict(comp_df[\"mask\"][idx])"
   ]
  },
  {
   "cell_type": "code",
   "execution_count": 31,
   "id": "1e368c2a-de3f-482f-8dd4-84e7883c186d",
   "metadata": {},
   "outputs": [],
   "source": [
    "mask = torch.Tensor(np.load(comp_df[\"mask\"][idx], allow_pickle=True))\n",
    "gt_mask = torch.Tensor(np.load(comp_df[\"gt_mask\"][idx], allow_pickle=True))"
   ]
  },
  {
   "cell_type": "code",
   "execution_count": 32,
   "id": "631428ce-87ea-47eb-9bd4-a32ad50d834f",
   "metadata": {},
   "outputs": [],
   "source": [
    "# loss_fn = smp.losses.DiceLoss(smp.losses.BINARY_MODE, from_logits = False)"
   ]
  },
  {
   "cell_type": "code",
   "execution_count": 33,
   "id": "50e80c6c-d93f-4066-80e2-fa22689ed84c",
   "metadata": {},
   "outputs": [],
   "source": [
    "# loss_fn(gt_mask.long(), mask.long())"
   ]
  },
  {
   "cell_type": "code",
   "execution_count": 34,
   "id": "b560f894-33d3-4ba1-be30-e25f80242fbf",
   "metadata": {},
   "outputs": [
    {
     "data": {
      "text/plain": [
       "tensor(0.6118)"
      ]
     },
     "execution_count": 34,
     "metadata": {},
     "output_type": "execute_result"
    }
   ],
   "source": [
    "net.get_similarity(mask,gt_mask)"
   ]
  },
  {
   "cell_type": "code",
   "execution_count": null,
   "id": "b077a75d-e0b1-4dec-a021-acacbc545901",
   "metadata": {},
   "outputs": [],
   "source": []
  },
  {
   "cell_type": "code",
   "execution_count": 35,
   "id": "96e04918-9726-4cae-acdd-2c956d1c9c9d",
   "metadata": {},
   "outputs": [
    {
     "data": {
      "image/png": "[encoded data removed]",
      "text/plain": [
       "<Figure size 1200x1200 with 2 Axes>"
      ]
     },
     "metadata": {},
     "output_type": "display_data"
    }
   ],
   "source": [
    "sv.plot_images_grid(\n",
    "    images=[mask.cpu().numpy(), gt_mask.cpu().numpy()],\n",
    "    grid_size=(1,2)\n",
    ")"
   ]
  },
  {
   "cell_type": "code",
   "execution_count": null,
   "id": "cb97a5df-ced9-43a5-8654-f454f4993009",
   "metadata": {},
   "outputs": [],
   "source": []
  }
 ],
 "metadata": {
  "kernelspec": {
   "display_name": "Python [conda env:myenv]",
   "language": "python",
   "name": "conda-env-myenv-py"
  },
  "language_info": {
   "codemirror_mode": {
    "name": "ipython",
    "version": 3
   },
   "file_extension": ".py",
   "mimetype": "text/x-python",
   "name": "python",
   "nbconvert_exporter": "python",
   "pygments_lexer": "ipython3",
   "version": "3.9.18"
  }
 },
 "nbformat": 4,
 "nbformat_minor": 5
}
