{
 "cells": [
  {
   "cell_type": "code",
   "execution_count": 1,
   "id": "5cb6dc32-4d6b-434c-bd6c-402dc16bdbd3",
   "metadata": {},
   "outputs": [
    {
     "name": "stderr",
     "output_type": "stream",
     "text": [
      "TqdmWarning: IProgress not found. Please update jupyter and ipywidgets. See https://ipywidgets.readthedocs.io/en/stable/user_install.html\n"
     ]
    }
   ],
   "source": [
    "import torch\n",
    "import os\n",
    "import pickle\n",
    "import numpy as np\n",
    "import matplotlib.pyplot as plt\n",
    "from segment_anything import sam_model_registry, SamAutomaticMaskGenerator, SamPredictor\n",
    "import sys\n",
    "sys.path.append('../src')\n",
    "import pandas as pd\n",
    "\n",
    "import cv2\n",
    "import numpy as np\n",
    "import supervision as sv\n",
    "from os.path import expanduser\n",
    "import json\n",
    "from unet_model import *\n",
    "import segmentation_models_pytorch as smp\n",
    "from scipy.spatial.distance import cdist\n",
    "from strategies import *\n",
    "from custom_datasets import *\n",
    "import torch.optim as optim"
   ]
  },
  {
   "cell_type": "code",
   "execution_count": 2,
   "id": "6c481698-0095-4612-95aa-032cc13f7f74",
   "metadata": {},
   "outputs": [],
   "source": [
    "home = expanduser(\"~\")\n",
    "main_path = home+\"/Active-Learning-Segmentation/\"\n",
    "dataframes_path = main_path + \"data/dataframes/\"\n",
    "sam_path = main_path + \"sam/sam_vit_h_4b8939.pth\"\n",
    "notebooks_path = main_path + \"scripts/notebooks/\"\n",
    "expirements_path = main_path+\"expirements/\"\n",
    "processed_data_path = main_path + \"data/processed/\"\n",
    "trained_models = main_path + \"scripts/notebooks/trained_models/\"\n",
    "combinations_dataframe_path = dataframes_path + \"comp_df.csv\"\n",
    "similarity_train_data_path = processed_data_path + \"train_similarity/\""
   ]
  },
  {
   "cell_type": "code",
   "execution_count": 3,
   "id": "53539f41-7d8e-42f9-9bf8-dcb4ab1654fa",
   "metadata": {},
   "outputs": [],
   "source": [
    "if not os.path.exists(similarity_train_data_path):\n",
    "    os.makedirs(similarity_train_data_path)"
   ]
  },
  {
   "cell_type": "code",
   "execution_count": 4,
   "id": "ad215578-7e23-476b-acd3-c0bdfc0df6a7",
   "metadata": {},
   "outputs": [],
   "source": [
    "# df_name = \"lung_df\"\n",
    "# train_df = pd.read_csv(dataframes_path+\"lung_df_train.csv\")\n",
    "# test_df = pd.read_csv(dataframes_path+\"lung_df_test.csv\")\n",
    "\n",
    "df_name = \"brain_df\"\n",
    "train_df = pd.read_csv(dataframes_path+\"brain_df_train.csv\")\n",
    "test_df = pd.read_csv(dataframes_path+\"brain_df_test.csv\")\n",
    "\n",
    "\n"
   ]
  },
  {
   "cell_type": "code",
   "execution_count": 5,
   "id": "824322df-974c-47cd-a57e-bc1612ed20d9",
   "metadata": {},
   "outputs": [],
   "source": [
    "with open(\"brain_params.json\", \"r\") as f:\n",
    "    params = json.load(f)\n",
    "# with open(\"lung_params.json\", \"r\") as f:\n",
    "#     params = json.load(f)\n",
    "\n",
    "# with open(\"lunar_params.json\", \"r\") as f:\n",
    "#     params = json.load(f)"
   ]
  },
  {
   "cell_type": "code",
   "execution_count": 6,
   "id": "142e6ac2-99d2-4db1-9d77-b8ccd2d38008",
   "metadata": {},
   "outputs": [],
   "source": [
    "if params[\"init_set_size\"] == len(train_df):\n",
    "    params[\"training_type\"] = \"no_active\"\n",
    "elif not params[\"use_sam\"]:\n",
    "    params[\"training_type\"] = \"no_sam\"\n",
    "elif params[\"voting\"]:\n",
    "    params[\"training_type\"] = \"voters\"\n",
    "else:\n",
    "    params[\"training_type\"]=\"withSAM_NoVoting\"\n",
    "\n",
    "if params[\"training_type\"] == \"no_active\":\n",
    "    if params[\"pre_trained\"]:\n",
    "        params[\"model_path\"] = f'{notebooks_path}trained_models/{params[\"dataset\"]}/no_active/pre_trained_Unet_{params[\"img_size\"][0]}.pt'\n",
    "    else:\n",
    "        params[\"model_path\"] = f'{notebooks_path}trained_models/{params[\"dataset\"]}/no_active/not_pre_trained_Unet_{params[\"img_size\"][0]}.pt'\n",
    "else:\n",
    "    if params[\"pre_trained\"]:\n",
    "        params[\"model_path\"] = f'{notebooks_path}trained_models/{params[\"dataset\"]}/{params[\"training_type\"]}/pre_trained/{params[\"init_set_size\"]}'\n",
    "    else:\n",
    "        params[\"model_path\"] = f'{notebooks_path}trained_models/{params[\"dataset\"]}/{params[\"training_type\"]}/not_pre_trained/{params[\"init_set_size\"]}'\n",
    "\n",
    "notes = f'{params[\"training_type\"]}_{params[\"init_set_size\"]}'\n",
    "\n",
    "if params[\"dropout\"] and params[\"training_type\"] != \"voters\":\n",
    "    params[\"model_path\"] = f'{params[\"model_path\"]}_dropout'\n",
    "    notes = f\"{notes}_dropout\"\n",
    "\n",
    "params['test_set_size'] = len(test_df)\n",
    "params['df'] = df_name\n",
    "params['query_num'] = int(0.05 * params['init_set_size'])\n",
    "if params['query_num'] == 0:\n",
    "    params['query_num'] = 1\n",
    "params[\"strategy\"] = \"MarginSampling\"\n",
    "\n",
    "\n",
    "\n",
    "if params[\"training_type\"] == \"voters\":\n",
    "    if params[\"similarity_check\"]:\n",
    "        params[\"model_path\"] = f'{params[\"model_path\"]}_dbscan'\n",
    "        notes = f\"{notes}_dbscan\"\n",
    "    if params[\"dropout\"]:\n",
    "        params[\"model_path\"] = f'{params[\"model_path\"]}_dropout'\n",
    "    params[\"model_path\"] = f'{params[\"model_path\"]}/voters_{params[\"img_size\"][0]}'\n",
    "        "
   ]
  },
  {
   "cell_type": "code",
   "execution_count": 7,
   "id": "761a658a-d2e7-4f0d-b1ed-11f08a0ec331",
   "metadata": {},
   "outputs": [
    {
     "data": {
      "text/plain": [
       "'/home/jovyan/Active-Learning-Segmentation/scripts/notebooks/trained_models/Brain_Tumor_Segmentation/voters/pre_trained/100_dbscan/voters_128'"
      ]
     },
     "execution_count": 7,
     "metadata": {},
     "output_type": "execute_result"
    }
   ],
   "source": [
    "params[\"model_path\"]"
   ]
  },
  {
   "cell_type": "code",
   "execution_count": 8,
   "id": "07aae703-4b46-457d-b483-a459f06a5113",
   "metadata": {},
   "outputs": [],
   "source": [
    "voters = [f'{params[\"model_path\"]}_{1}/model_{i}.pt' for i in range(1,10)]\n",
    "voters.append(f'{params[\"model_path\"]}_{1}/main_Unet.pt')"
   ]
  },
  {
   "cell_type": "code",
   "execution_count": 9,
   "id": "a15723e2-52a3-4384-b8c9-72f54a67f7b7",
   "metadata": {},
   "outputs": [],
   "source": [
    "test_df_slice = train_df[:300]\n",
    "def get_data(handler, train_df, test_df):\n",
    "    return Data(train_df[\"images\"].to_list(), train_df[\"masks\"].to_list(), test_df[\"images\"].to_list(), test_df[\"masks\"].to_list(), handler, img_size=params[\"img_size\"], df=train_df, path= main_path+\"/data/processed/\", use_sam=params['use_sam'])\n",
    "\n",
    "data = get_data(Handler, test_df_slice, test_df_slice)\n",
    "data.initialize_labels(params[\"init_set_size\"])"
   ]
  },
  {
   "cell_type": "code",
   "execution_count": 10,
   "id": "2a02ef9d-30fb-4085-a480-87ae455f17f7",
   "metadata": {},
   "outputs": [],
   "source": [
    "if params[\"pre_trained\"]:\n",
    "    model = smp.create_model('Unet', encoder_name='resnet34', in_channels=3, classes = 1)\n",
    "else:\n",
    "    model = UNet(n_channels=3, n_classes=1, bilinear=True)\n",
    "net = Net(model, params, device = torch.device(\"cuda\"))"
   ]
  },
  {
   "cell_type": "code",
   "execution_count": 11,
   "id": "6a46078b-8974-4611-8847-a29160f748e5",
   "metadata": {},
   "outputs": [],
   "source": [
    "sam = SAMOracle(checkpoint_path=sam_path, img_size=params[\"img_size\"])"
   ]
  },
  {
   "cell_type": "code",
   "execution_count": 12,
   "id": "7d400b79-f08e-479e-9987-daebee4f4b5e",
   "metadata": {},
   "outputs": [],
   "source": [
    "def predict(net, model_state:str):\n",
    "    net.net.load_state_dict(torch.load(model_state))\n",
    "    net.clf = net.net.to(torch.device(\"cuda\"))\n",
    "    mask = net.predict(data.get_test_data())[0]\n",
    "    mask = (mask.squeeze().cpu().sigmoid()> 0.5).float()\n",
    "    \n",
    "    return mask"
   ]
  },
  {
   "cell_type": "code",
   "execution_count": 13,
   "id": "6b2eb96f-9484-48ca-bc39-6ad144553ea5",
   "metadata": {},
   "outputs": [],
   "source": [
    "def get_boxes(mask):\n",
    "    if torch.is_tensor(mask):\n",
    "        mask = mask.numpy()\n",
    "        mask = np.array(mask, np.uint8)\n",
    "    # _, thresh = cv2.threshold(mask, 0.5, 1, 0)\n",
    "    contours, _ = cv2.findContours(mask, cv2.RETR_TREE, cv2.CHAIN_APPROX_SIMPLE)\n",
    "    cnts = []\n",
    "    for cnt in contours:\n",
    "        x,y,w,h = cv2.boundingRect(cnt)\n",
    "        box = np.array([x, y, x+w, y+h])\n",
    "        cnts.append(box)\n",
    "    return np.array(cnts)   "
   ]
  },
  {
   "cell_type": "code",
   "execution_count": 14,
   "id": "bf9a3cf7-d182-410c-bc12-c293795f6154",
   "metadata": {},
   "outputs": [],
   "source": [
    "tmp_masks = [predict(net, path) for path in voters]\n",
    "voters_masks =[]\n",
    "for j in range(len(tmp_masks[0])):\n",
    "    voters_masks.append([tmp_masks[i][j] for i in range(len(tmp_masks))])"
   ]
  },
  {
   "cell_type": "code",
   "execution_count": 15,
   "id": "580a2e6c-b0b0-4719-963e-c2d1a4c21b01",
   "metadata": {},
   "outputs": [],
   "source": [
    "voters_boxes = [[get_boxes(mask) for mask in masks] for masks in voters_masks]"
   ]
  },
  {
   "cell_type": "code",
   "execution_count": 16,
   "id": "624b102d-7db4-486f-82a3-98eeb534e842",
   "metadata": {},
   "outputs": [],
   "source": [
    "mask_paths = []\n",
    "gt_paths =[]\n",
    "mask_paths_remove=[]\n",
    "for i in range(len(test_df_slice)):\n",
    "    gt_mask= np.load(test_df_slice[\"masks\"][i], allow_pickle=True)\n",
    "    if gt_mask.sum()>0:\n",
    "        for j in range(10):\n",
    "            mask_paths.append(similarity_train_data_path + f\"sam_{j}_\" + os.path.basename(test_df_slice[\"masks\"][i]))\n",
    "            gt_paths.append(test_df_slice[\"masks\"][i])\n",
    "    else:\n",
    "        for j in range(10):\n",
    "            mask_paths_remove.append(similarity_train_data_path + f\"sam_{j}_\" + os.path.basename(test_df_slice[\"masks\"][i]))"
   ]
  },
  {
   "cell_type": "code",
   "execution_count": 17,
   "id": "c3c596e7-7d11-464d-b5be-afe19c9456cf",
   "metadata": {},
   "outputs": [],
   "source": [
    "comp_df = pd.DataFrame({\"mask\":mask_paths,\n",
    "                      \"gt_mask\":gt_paths})\n",
    "\n",
    "# comp_df.to_csv(dataframes_path+\"comp_df.csv\")\n",
    "\n",
    "# comp_df = pd.read_csv(dataframes_path+\"comp_df.csv\")"
   ]
  },
  {
   "cell_type": "code",
   "execution_count": 18,
   "id": "6b40adc3-39eb-4776-920f-eddb91f68923",
   "metadata": {},
   "outputs": [
    {
     "data": {
      "text/plain": [
       "1080"
      ]
     },
     "execution_count": 18,
     "metadata": {},
     "output_type": "execute_result"
    }
   ],
   "source": [
    "len(comp_df)"
   ]
  },
  {
   "cell_type": "code",
   "execution_count": 19,
   "id": "8dfa334e-b909-4cc8-98d0-2a8e56d2269b",
   "metadata": {},
   "outputs": [],
   "source": [
    "train_size = int(0.7*len(comp_df)/10)*10"
   ]
  },
  {
   "cell_type": "code",
   "execution_count": 20,
   "id": "12ae42fc-de77-406b-bc59-b34d42ef1986",
   "metadata": {},
   "outputs": [
    {
     "data": {
      "text/plain": [
       "750"
      ]
     },
     "execution_count": 20,
     "metadata": {},
     "output_type": "execute_result"
    }
   ],
   "source": [
    "train_size"
   ]
  },
  {
   "cell_type": "code",
   "execution_count": 21,
   "id": "5b871a44-8f69-4bcd-a72f-361689c84ab8",
   "metadata": {},
   "outputs": [],
   "source": [
    "train_comp_df = comp_df[:train_size]\n",
    "\n",
    "test_comp_df = comp_df[train_size:].reset_index(drop=True)\n",
    "\n",
    "# train_comp_df.to_csv(dataframes_path+\"train_comp_df.csv\")\n",
    "# test_comp_df.to_csv(dataframes_path+\"test_comp_df.csv\")"
   ]
  },
  {
   "cell_type": "code",
   "execution_count": 22,
   "id": "77cc402b-3ec8-48ce-81dc-75a33c1d01ca",
   "metadata": {},
   "outputs": [],
   "source": [
    "# train_comp_df = pd.read_csv(dataframes_path+\"train_comp_df.csv\")\n",
    "# test_comp_df = pd.read_csv(dataframes_path+\"test_comp_df.csv\")"
   ]
  },
  {
   "cell_type": "code",
   "execution_count": 23,
   "id": "6f5e6b01-46e6-4d3c-aebd-3c9a443dea38",
   "metadata": {},
   "outputs": [],
   "source": [
    "voters_sam=[]\n",
    "for i,boxes in enumerate(voters_boxes):\n",
    "    tmp_sams=[]\n",
    "    for j,box in enumerate(boxes):\n",
    "        path = similarity_train_data_path + f\"sam_{j}_\" + os.path.basename(test_df_slice[\"masks\"][i])\n",
    "        if not os.path.isfile(path):\n",
    "            tmp_sam = sam.get_mask(img_path=test_df_slice[\"images\"][i], boxes=box).squeeze()\n",
    "            tmp_sams.append(tmp_sam)\n",
    "            np.save(path, tmp_sam)"
   ]
  },
  {
   "cell_type": "code",
   "execution_count": 24,
   "id": "567b1a38-aefe-46ed-a923-d433cc7933fb",
   "metadata": {},
   "outputs": [],
   "source": [
    "# for path in mask_paths_remove:\n",
    "#     os.remove(path)"
   ]
  },
  {
   "cell_type": "code",
   "execution_count": 25,
   "id": "79e5e1b2-44a7-499f-9fc2-d5941c6574f6",
   "metadata": {},
   "outputs": [],
   "source": [
    "def get_similarity(masks, gt_masks):\n",
    "    iou = torch.zeros((masks.shape[0],1))\n",
    "    for i in range(len(masks)):\n",
    "        tp, fp, fn, tn = smp.metrics.get_stats(masks[i].long(), gt_masks[i].long(), mode=\"binary\", threshold=0.5)\n",
    "        iou[i] = smp.metrics.iou_score(tp, fp, fn, tn, reduction=\"micro\")\n",
    "    return iou\n",
    "        "
   ]
  },
  {
   "cell_type": "code",
   "execution_count": 26,
   "id": "2385427a-41eb-4967-ae32-6c1f8e09bfa5",
   "metadata": {},
   "outputs": [],
   "source": [
    "comps = []\n",
    "poses=[]\n",
    "negs=[]\n",
    "pos=[]\n",
    "neg=[]\n",
    "for i in range(0, train_size,10):\n",
    "    for j in range(i,i+10):\n",
    "        mask = torch.Tensor(np.load(train_comp_df[\"mask\"][j], allow_pickle=True)).view(1,128,128)\n",
    "        gt_mask = torch.Tensor(np.load(train_comp_df[\"gt_mask\"][j], allow_pickle=True)).view(1,128,128)\n",
    "        if get_similarity(mask, gt_mask).squeeze()>0.5:\n",
    "            pos.append(j)\n",
    "        if get_similarity(mask, gt_mask).squeeze()<=0.5:\n",
    "            neg.append(j)\n",
    "    if len(pos) >0 and len(neg) >0:\n",
    "        # print(\"pos:\",pos,\"neg:\",neg)\n",
    "        poses.append(pos)\n",
    "        negs.append(neg)\n",
    "    pos=[]\n",
    "    neg=[]\n",
    "\n",
    "comp = []\n",
    "for pos, neg in zip(poses, negs):\n",
    "    for p in pos:\n",
    "        for n in neg:\n",
    "            comp.append((p,n))\n",
    "\n",
    "pos_paths=[]\n",
    "neg_paths=[]\n",
    "gt_paths=[]\n",
    "for com in comp:\n",
    "    pos_paths.append(comp_df[\"mask\"][com[0]])\n",
    "    neg_paths.append(comp_df[\"mask\"][com[1]])\n",
    "    gt_paths.append(comp_df[\"gt_mask\"][com[1]])\n",
    "\n",
    "\n",
    "train_triplet_df = pd.DataFrame({\"pos\":pos_paths,\n",
    "                          \"neg\":neg_paths,\n",
    "                          \"anchor\":gt_paths})"
   ]
  },
  {
   "cell_type": "code",
   "execution_count": 27,
   "id": "520b8d1b-0977-4718-b5c2-0937417b1ba9",
   "metadata": {},
   "outputs": [],
   "source": [
    "comps = []\n",
    "poses=[]\n",
    "negs=[]\n",
    "pos=[]\n",
    "neg=[]\n",
    "for i in range(0, len(test_comp_df),10):\n",
    "    for j in range(i,i+10):\n",
    "        mask = torch.Tensor(np.load(test_comp_df[\"mask\"][j], allow_pickle=True)).view(1,128,128)\n",
    "        gt_mask = torch.Tensor(np.load(test_comp_df[\"gt_mask\"][j], allow_pickle=True)).view(1,128,128)\n",
    "        if get_similarity(mask, gt_mask).squeeze()>0.5:\n",
    "            pos.append(j)\n",
    "        if get_similarity(mask, gt_mask).squeeze()<=0.5:\n",
    "            neg.append(j)\n",
    "    if len(pos) >0 and len(neg) >0:\n",
    "        # print(\"pos:\",pos,\"neg:\",neg)\n",
    "        poses.append(pos)\n",
    "        negs.append(neg)\n",
    "    pos=[]\n",
    "    neg=[]\n",
    "\n",
    "comp = []\n",
    "for pos, neg in zip(poses, negs):\n",
    "    for p in pos:\n",
    "        for n in neg:\n",
    "            comp.append((p,n))\n",
    "\n",
    "\n",
    "pos_paths=[]\n",
    "neg_paths=[]\n",
    "gt_paths=[]\n",
    "for com in comp:\n",
    "    pos_paths.append(test_comp_df[\"mask\"][com[0]])\n",
    "    neg_paths.append(test_comp_df[\"mask\"][com[1]])\n",
    "    gt_paths.append(test_comp_df[\"gt_mask\"][com[1]])\n",
    "\n",
    "test_triplet_df = pd.DataFrame({\"pos\":pos_paths,\n",
    "                          \"neg\":neg_paths,\n",
    "                          \"anchor\":gt_paths})"
   ]
  },
  {
   "cell_type": "code",
   "execution_count": 28,
   "id": "f4cd909d-df08-4acd-8048-c61f70c3cdea",
   "metadata": {},
   "outputs": [],
   "source": [
    "# train_triplet_df.to_csv(dataframes_path+\"train_triplet_df.csv\")\n",
    "# test_triplet_df.to_csv(dataframes_path+\"test_triplet_df.csv\")\n",
    "\n",
    "# train_triplet_df = pd.read_csv(dataframes_path+\"train_triplet_df.csv\")\n",
    "# test_triplet_df = pd.read_csv(dataframes_path+\"test_triplet_df.csv\")"
   ]
  },
  {
   "cell_type": "code",
   "execution_count": 29,
   "id": "2965fa1a-3750-4484-a306-b112c66d3743",
   "metadata": {},
   "outputs": [
    {
     "name": "stdout",
     "output_type": "stream",
     "text": [
      "683\n"
     ]
    }
   ],
   "source": [
    "triplet_df = pd.concat([train_triplet_df, test_triplet_df]).reset_index(drop=True)\n",
    "# triplet_df.to_csv(dataframes_path+\"triplet_df.csv\")\n",
    "\n",
    "# triplet_df = pd.read_csv(dataframes_path+\"triplet_df.csv\")\n",
    "\n",
    "print(len(triplet_df))"
   ]
  },
  {
   "cell_type": "code",
   "execution_count": null,
   "id": "faa0f392-c2b9-44e0-83c1-49b6b1cbd478",
   "metadata": {},
   "outputs": [],
   "source": []
  },
  {
   "cell_type": "code",
   "execution_count": 30,
   "id": "fd950b11-1d94-4cbc-831e-eaaafc9b7e47",
   "metadata": {},
   "outputs": [],
   "source": [
    "from pytorch_metric_learning import distances, losses, miners, reducers, testers\n",
    "from pytorch_metric_learning.utils.accuracy_calculator import AccuracyCalculator"
   ]
  },
  {
   "cell_type": "code",
   "execution_count": 31,
   "id": "fc3648f0-7dcd-423a-b936-68043fa58724",
   "metadata": {},
   "outputs": [],
   "source": [
    "class SimEmbeddings(nn.Module):\n",
    "    def __init__(self, inp_dim):\n",
    "        super(SimEmbeddings, self).__init__()\n",
    "        self.conv1 = nn.Conv2d(in_channels=1, out_channels=32, kernel_size=3, stride=1)\n",
    "        self.conv2 = nn.Conv2d(in_channels=32, out_channels=64, kernel_size=3, stride=1)\n",
    "        self.dropout1 = nn.Dropout2d(0.25)\n",
    "        self.dropout2 = nn.Dropout2d(0.5)\n",
    "        #After Conv\n",
    "        # new_shape = ((old_shape−Kernal_Size+2Padding)/Stride)+1.\n",
    "        inp_dim-=4\n",
    "        #After Maxpooling\n",
    "        #new_shape = old_shape/pooling_size\n",
    "        inp_dim/=2\n",
    "        #Flatten\n",
    "        #64 out channels of the last conv layer\n",
    "        inp_dim*=inp_dim*64\n",
    "        self.fc1 = nn.Linear(int(inp_dim), 128)\n",
    "\n",
    "    def forward(self, x):\n",
    "        x = self.conv1(x)\n",
    "        # print(x.shape)\n",
    "        x = F.relu(x)\n",
    "        x = self.conv2(x)\n",
    "        # print(x.shape)\n",
    "        x = F.relu(x)\n",
    "        x = F.max_pool2d(x, 2)\n",
    "        # print(x.shape)\n",
    "        x = self.dropout1(x)\n",
    "        x = torch.flatten(x, 1)\n",
    "        # print(x.shape)\n",
    "        x = self.fc1(x)\n",
    "        # print(x.shape)\n",
    "        return x"
   ]
  },
  {
   "cell_type": "code",
   "execution_count": 32,
   "id": "da2a8a4a-f304-4a36-b178-eb3abaa19f6d",
   "metadata": {},
   "outputs": [],
   "source": [
    "# class SimEmbeddings(torch.nn.Module):\n",
    "#     def __init__(self, dim):\n",
    "#         super(SimEmbeddings, self).__init__()\n",
    "#         dim_2 = int(dim/2)\n",
    "#         self.layer1 = torch.nn.Linear(dim, dim_2)\n",
    "#         self.layer2 = torch.nn.Linear(dim_2, dim_2)\n",
    "#         self.layer3 = torch.nn.Linear(dim_2, 1)\n",
    "#         self.layer4 = torch.nn.Linear(dim, 1)\n",
    "#         # self.relu = torch.nn.ReLU()\n",
    "#         # self.sigmoid = torch.nn.Sigmoid()\n",
    "        \n",
    "#     def forward(self, x):\n",
    "#         x1 = self.layer1(x)\n",
    "#         # print(x1.shape)\n",
    "#         x2 = self.layer2(x1)\n",
    "#         # print(x2.shape)\n",
    "#         x3 = self.layer3(x2)\n",
    "#         # print(x3.shape)\n",
    "#         # x4 = self.layer4(torch.permute(x3,(0, 2, 1)))\n",
    "#         # print(x4.shape)\n",
    "#         return torch.permute(x3,(0,1, 3, 2))\n",
    "#         # return self.sigmoid(x4)\n",
    "#         # return self.relu(x4)"
   ]
  },
  {
   "cell_type": "code",
   "execution_count": 64,
   "id": "811a9edd-ec53-49ec-ae90-a0a09b547a97",
   "metadata": {},
   "outputs": [],
   "source": [
    "class SimNet:\n",
    "    def __init__(self, sim_model, params):\n",
    "        self.sim_model = sim_model\n",
    "        self.params = params\n",
    "        # self.optimizer = optim.SGD(list(self.sim_model.parameters()),lr = 5e-5, momentum=0.9)\n",
    "        self.optimizer = optim.Adam(list(self.sim_model.parameters()),lr = 2e-5)\n",
    "        self.loss_fn = torch.nn.TripletMarginLoss(margin=11.0)\n",
    "\n",
    "    def get_similarity(self, masks, gt_masks):\n",
    "        iou = torch.zeros((masks.shape[0],1))\n",
    "        for i in range(len(masks)):\n",
    "            tp, fp, fn, tn = smp.metrics.get_stats(masks[i].long(), gt_masks[i].long(), mode=\"binary\", threshold=0.5)\n",
    "            iou[i] = smp.metrics.iou_score(tp, fp, fn, tn, reduction=\"micro\")\n",
    "        return iou\n",
    "        \n",
    "        # iou = smp.metrics.iou_score(tp, fp, fn, tn, reduction=\"none\")\n",
    "        # return iou.sum(axis=1)/masks.shape[1]\n",
    "\n",
    "    def train(self, data):\n",
    "        losses = []\n",
    "        epoch_loss=[]\n",
    "        n_epoch = self.params['n_epoch']\n",
    "        self.sim_model = self.sim_model.to(\"cuda\")\n",
    "        self.sim_model.train()\n",
    "        \n",
    "        loader = DataLoader(data, shuffle=True, batch_size=32)\n",
    "        prog_bar = tqdm.tqdm(range(1, 60 + 1), ncols = 100, disable = False)\n",
    "        for epoch in prog_bar:\n",
    "            # for batch_idx, (x, y) in enumerate(loader):\n",
    "            for batch_idx, (anchor, pos, neg) in enumerate(loader):\n",
    "            \n",
    "                # x, y = x.cuda(), y.cuda()\n",
    "                anchor, pos, neg = anchor.cuda(), pos.cuda(), neg.cuda()\n",
    "                self.optimizer.zero_grad()\n",
    "\n",
    "                # predicted_similarity = self.sim_model(x).squeeze()\n",
    "                anchor = self.sim_model(anchor)\n",
    "                pos = self.sim_model(pos)\n",
    "                neg = self.sim_model(neg)\n",
    "                # gt_similarity = self.get_similarity(x,y).squeeze()\n",
    "                # loss = self.loss_fn(predicted_similarity, gt_similarity)                \n",
    "                loss = self.loss_fn(anchor, pos, neg) \n",
    "                loss.backward()\n",
    "                epoch_loss.append(loss.item())\n",
    "                self.optimizer.step()\n",
    "                \n",
    "                prog_bar.set_postfix(loss=loss.item())\n",
    "            losses.append(sum(epoch_loss)/len(epoch_loss))\n",
    "            epoch_loss=[]\n",
    "        return losses\n",
    "\n",
    "    def predict(self, mask_path):\n",
    "        self.sim_model = self.sim_model.to(\"cuda\")\n",
    "        self.sim_model.eval()\n",
    "        mask = torch.Tensor(np.load(mask_path, allow_pickle=True)).view(1,self.params[\"img_size\"][0],self.params[\"img_size\"][1]).cuda()\n",
    "        return self.sim_model(mask)\n",
    "        \n",
    "        "
   ]
  },
  {
   "cell_type": "code",
   "execution_count": 65,
   "id": "caba0722-9a26-41e9-9cb8-0a0958ba35b1",
   "metadata": {},
   "outputs": [],
   "source": [
    "class CustomImageDataset(Dataset):\n",
    "    def __init__(self, comp_df, transform=None, target_transform=None):\n",
    "        self.comp_df = comp_df\n",
    "        self.transform = transform\n",
    "        self.target_transform = target_transform\n",
    "\n",
    "    def __len__(self):\n",
    "        return len(self.comp_df)\n",
    "\n",
    "    def __getitem__(self, index):\n",
    "        # image = torch.Tensor(np.load(self.comp_df[\"mask\"][index], allow_pickle=True))\n",
    "        # label = torch.Tensor(np.load(self.comp_df[\"gt_mask\"][index], allow_pickle=True))\n",
    "        \n",
    "        pos = torch.Tensor(np.load(self.comp_df[\"pos\"][index], allow_pickle=True)).view(1,128,128)\n",
    "        anchor = torch.Tensor(np.load(self.comp_df[\"anchor\"][index], allow_pickle=True)).view(1,128,128)\n",
    "        neg = torch.Tensor(np.load(self.comp_df[\"neg\"][index], allow_pickle=True)).view(1,128,128)\n",
    "        \n",
    "        # return image, label\n",
    "        return anchor, pos, neg"
   ]
  },
  {
   "cell_type": "code",
   "execution_count": 66,
   "id": "2f3f27a0-7fe8-4088-8151-081a72fc8a75",
   "metadata": {},
   "outputs": [],
   "source": [
    "dataset = CustomImageDataset(comp_df=train_triplet_df)\n",
    "# dataset = CustomImageDataset(comp_df=triplet_df)"
   ]
  },
  {
   "cell_type": "code",
   "execution_count": 67,
   "id": "e32c8745-46f6-45ca-a08c-54de17eb01cd",
   "metadata": {},
   "outputs": [],
   "source": [
    "# loader = DataLoader(dataset, batch_size=10, shuffle=True)"
   ]
  },
  {
   "cell_type": "code",
   "execution_count": 68,
   "id": "a90b7db4-2c17-445d-9e29-f3dbf34c5fef",
   "metadata": {},
   "outputs": [],
   "source": [
    "net = SimNet(sim_model=SimEmbeddings(inp_dim=128),\n",
    "             params=params)\n",
    "\n",
    "# net = SimNet(sim_model=SimEmbeddings(128),\n",
    "#              params=params)"
   ]
  },
  {
   "cell_type": "code",
   "execution_count": 69,
   "id": "22272456-e6bc-47b4-b693-edef6568278b",
   "metadata": {},
   "outputs": [],
   "source": [
    "# x = torch.Tensor(np.load(test_comp_df[\"mask\"][0], allow_pickle=True)).view(1,128,128)\n",
    "# y = torch.Tensor(np.load(test_comp_df[\"gt_mask\"][0], allow_pickle=True)).view(1,128,128)\n",
    "# sim = net.get_similarity(x,y)\n",
    "# sim.shape"
   ]
  },
  {
   "cell_type": "code",
   "execution_count": 70,
   "id": "7291890f-c112-4917-87c8-e667fae0e01d",
   "metadata": {},
   "outputs": [],
   "source": [
    "# for batch_idx, (x, y) in enumerate(loader):\n",
    "#     print(x.shape)\n",
    "#     sim = net.get_similarity(x,y)\n",
    "#     break\n",
    "# sim.shape"
   ]
  },
  {
   "cell_type": "code",
   "execution_count": 71,
   "id": "cc14095c-1d77-4882-9478-71ead27e040f",
   "metadata": {},
   "outputs": [],
   "source": [
    "# net.sim_model(mask)"
   ]
  },
  {
   "cell_type": "code",
   "execution_count": 72,
   "id": "d5bd939e-004c-4634-948d-1689675c4708",
   "metadata": {},
   "outputs": [
    {
     "name": "stderr",
     "output_type": "stream",
     "text": [
      "100%|███████████████████████████████████████████████████████| 60/60 [00:31<00:00,  1.90it/s, loss=0]\n"
     ]
    }
   ],
   "source": [
    "losses = net.train(dataset)\n"
   ]
  },
  {
   "cell_type": "code",
   "execution_count": null,
   "id": "07f31b82-3815-4797-afb2-06943c19e528",
   "metadata": {},
   "outputs": [],
   "source": []
  },
  {
   "cell_type": "code",
   "execution_count": 73,
   "id": "d2b036eb-bd6d-4499-a84d-07df23756e74",
   "metadata": {},
   "outputs": [],
   "source": [
    "# torch.save(net.sim_model.state_dict(), notebooks_path+\"trained_models/similarity_network.pt\")\n",
    "# net.sim_model.load_state_dict(torch.load(notebooks_path+\"trained_models/similarity_network.pt\"))"
   ]
  },
  {
   "cell_type": "code",
   "execution_count": 74,
   "id": "bb24c749-b833-4cd5-ae26-cdcfbf06034b",
   "metadata": {},
   "outputs": [
    {
     "data": {
      "image/png": "[encoded data removed]",
      "text/plain": [
       "<Figure size 640x480 with 1 Axes>"
      ]
     },
     "metadata": {},
     "output_type": "display_data"
    }
   ],
   "source": [
    "import matplotlib.pyplot as plt\n",
    "plt.plot(losses)\n",
    "plt.show()"
   ]
  },
  {
   "cell_type": "code",
   "execution_count": 75,
   "id": "ec65350c-4c25-4535-b9c6-d206ff8b965f",
   "metadata": {},
   "outputs": [],
   "source": [
    "# mask = torch.Tensor(np.load(test_comp_df[\"mask\"][0], allow_pickle=True)).view(1,1,128,128)\n",
    "# mask = torch.Tensor(np.load(test_comp_df[\"mask\"][0], allow_pickle=True)).view(1,1,128,128)"
   ]
  },
  {
   "cell_type": "code",
   "execution_count": 76,
   "id": "ca37d57e-e291-49ff-91f1-fa1a5469aaea",
   "metadata": {},
   "outputs": [],
   "source": [
    "# net.sim_model(mask.cuda()).shape"
   ]
  },
  {
   "cell_type": "code",
   "execution_count": 77,
   "id": "245af970-7fc9-45fb-a17f-c1d8b757caf3",
   "metadata": {},
   "outputs": [],
   "source": [
    "test_dataset = CustomImageDataset(comp_df=test_triplet_df)\n",
    "test_loader = DataLoader(test_dataset, shuffle=True, batch_size=len(test_triplet_df))"
   ]
  },
  {
   "cell_type": "code",
   "execution_count": 78,
   "id": "6e2aef9c-ee09-45c7-b587-2a10f3e2756a",
   "metadata": {},
   "outputs": [],
   "source": [
    "anchor_0, pos_0, neg_0 = next(iter(test_loader))"
   ]
  },
  {
   "cell_type": "code",
   "execution_count": 79,
   "id": "c1f58ba3-094e-49f5-af15-ac83aa6f9e22",
   "metadata": {},
   "outputs": [],
   "source": [
    "anchor = net.sim_model(anchor_0.cuda())\n",
    "pos = net.sim_model(pos_0.cuda())\n",
    "neg = net.sim_model(neg_0.cuda())"
   ]
  },
  {
   "cell_type": "code",
   "execution_count": 80,
   "id": "0a07f9cd-feb6-45c8-85ce-e117456afea6",
   "metadata": {},
   "outputs": [
    {
     "data": {
      "text/plain": [
       "tensor(3.0502, device='cuda:0', grad_fn=<MeanBackward0>)"
      ]
     },
     "execution_count": 80,
     "metadata": {},
     "output_type": "execute_result"
    }
   ],
   "source": [
    "net.loss_fn(anchor, pos, neg)"
   ]
  },
  {
   "cell_type": "code",
   "execution_count": 81,
   "id": "de14e899-66e2-4175-8ba3-48b6b850a01d",
   "metadata": {},
   "outputs": [],
   "source": [
    "train_loader = DataLoader(dataset, shuffle=True, batch_size=len(train_triplet_df))\n",
    "_, train_pos, train_neg = next(iter(train_loader))"
   ]
  },
  {
   "cell_type": "code",
   "execution_count": 82,
   "id": "3d8a80d2-5357-4312-a5cc-19012bf41b7c",
   "metadata": {},
   "outputs": [],
   "source": [
    "def get_embeddings(model, masks):\n",
    "    return model(masks)"
   ]
  },
  {
   "cell_type": "code",
   "execution_count": 83,
   "id": "694c7583-fbc5-41ce-9b57-f2737a3c0f70",
   "metadata": {},
   "outputs": [],
   "source": [
    "from scipy.spatial.distance import cdist"
   ]
  },
  {
   "cell_type": "code",
   "execution_count": 84,
   "id": "4b835e18-aa78-41bf-8534-9224b06b36d1",
   "metadata": {},
   "outputs": [],
   "source": [
    "def eculidian_distance(x, y):\n",
    "    return (x - y).pow(2).sum().sqrt()/2.0\n",
    "    # return (x - y).pow(2).sum()"
   ]
  },
  {
   "cell_type": "code",
   "execution_count": null,
   "id": "9f7d735a-89be-425f-ab58-fc8b6391bb32",
   "metadata": {},
   "outputs": [],
   "source": []
  },
  {
   "cell_type": "code",
   "execution_count": 85,
   "id": "ea5b2f6b-7619-4bc5-ba8f-08850bd5e0c2",
   "metadata": {},
   "outputs": [],
   "source": [
    "train_pos_embeddings = get_embeddings(net.sim_model, train_pos.cuda()).cpu().detach()\n",
    "train_neg_embeddings = get_embeddings(net.sim_model, train_neg.cuda()).cpu().detach()"
   ]
  },
  {
   "cell_type": "code",
   "execution_count": 86,
   "id": "b49f536a-8491-4ec1-9a67-4c5bd1bdf791",
   "metadata": {},
   "outputs": [],
   "source": [
    "distance_modes=[\"euclidean\",\n",
    "               'minkowski',\n",
    "               'cityblock',\n",
    "               'sqeuclidean',\n",
    "               'correlation',\n",
    "               'chebyshev',\n",
    "               'canberra',\n",
    "               'braycurtis',\n",
    "               'dice']"
   ]
  },
  {
   "cell_type": "code",
   "execution_count": 87,
   "id": "99a14530-49d6-4b40-8053-03ea22545a68",
   "metadata": {},
   "outputs": [],
   "source": [
    "def distance(x,y,mode=\"euclidean\"):\n",
    "    return cdist(x,y, mode).sum()/y.shape[0]\n",
    "    # return cdist(x,y, 'euclidean').sum()/y.shape[0]\n",
    "    # return cdist(x,y, 'minkowski').sum()/y.shape[0]\n",
    "    # return cdist(x, y, 'cityblock').sum()/y.shape[0]\n",
    "    # return cdist(x, y, 'sqeuclidean').sum()/y.shape[0]\n",
    "    # return cdist(x, y, 'correlation').sum()/y.shape[0] # Give False with neg samples\n",
    "    # return cdist(x, y, 'chebyshev').sum()/y.shape[0]\n",
    "    # return cdist(x, y, 'canberra').sum()/y.shape[0] # Give False with neg samples\n",
    "    # return cdist(x, y, 'braycurtis').sum()/y.shape[0] # Give False with neg samples\n",
    "    # return cdist(x, y, 'dice').sum()/y.shape[0] # Failed evaluation distance\n",
    "    \n",
    "    # return cdist(x, y, 'mahalanobis', VI=None).sum()/y.shape[0] # Search on it\n",
    "    # return cdist(x, y, 'hamming').sum()/y.shape[0] # always gives 1\n",
    "    # return cdist(x, y, 'jaccard').sum()/y.shape[0] # always gives 1\n",
    "    # return cdist(x, y, 'jensenshannon').sum()/y.shape[0] # always inf # For probability vectors.\n",
    "    # return cdist(x, y, 'yule').sum()/y.shape[0] # only for boolean vectors\n",
    "    # return cdist(x, y, 'matching').sum()/y.shape[0] #Same as Hamming\n"
   ]
  },
  {
   "cell_type": "code",
   "execution_count": 88,
   "id": "dec1d2d1-9cb5-46d5-bb43-25b198c3b765",
   "metadata": {},
   "outputs": [],
   "source": [
    "results = []\n",
    "for mode in distance_modes:\n",
    "    tp = fn = 0\n",
    "    pos_paths=list(set(test_triplet_df[\"pos\"]))\n",
    "    for i in range(len(pos_paths)):\n",
    "        mask = torch.Tensor(np.load(pos_paths[i], allow_pickle=True)).view(1,1,128,128)\n",
    "        mask_emb = net.sim_model(mask.cuda()).cpu().detach()\n",
    "        pos_distance = distance(mask_emb, train_pos_embeddings)\n",
    "        neg_distance = distance(mask_emb, train_neg_embeddings)\n",
    "        if pos_distance<neg_distance:\n",
    "            tp+=1\n",
    "        else:\n",
    "            fn+=1\n",
    "            \n",
    "    tn = fp = 0\n",
    "    neg_paths=list(set(test_triplet_df[\"neg\"]))\n",
    "    for i in range(len(neg_paths)):\n",
    "        mask = torch.Tensor(np.load(neg_paths[i], allow_pickle=True)).view(1,1,128,128)\n",
    "        mask_emb = net.sim_model(mask.cuda()).cpu().detach()\n",
    "        pos_distance = distance(mask_emb, train_pos_embeddings)\n",
    "        neg_distance = distance(mask_emb, train_neg_embeddings)\n",
    "        if pos_distance>neg_distance:\n",
    "            tn+=1\n",
    "        else:\n",
    "            fp+=1\n",
    "\n",
    "    results.append({\"mode\":mode,\n",
    "                    \"tp\":tp,\n",
    "                    \"fp\":fp,\n",
    "                    \"tn\":tn,\n",
    "                    \"fn\":fn})"
   ]
  },
  {
   "cell_type": "code",
   "execution_count": 91,
   "id": "a1a466e4-ff3f-4786-83ec-e450d130bad7",
   "metadata": {},
   "outputs": [
    {
     "data": {
      "text/plain": [
       "71"
      ]
     },
     "execution_count": 91,
     "metadata": {},
     "output_type": "execute_result"
    }
   ],
   "source": [
    "len(neg_paths)"
   ]
  },
  {
   "cell_type": "code",
   "execution_count": 89,
   "id": "acacf078-5e17-4743-a754-8b8088402159",
   "metadata": {},
   "outputs": [
    {
     "name": "stdout",
     "output_type": "stream",
     "text": [
      "mode    tp\n",
      "------  ---------\n",
      "mode    euclidean\n",
      "tp      68\n",
      "fp      50\n",
      "tn      21\n",
      "fn      1\n",
      "mode    tp\n",
      "------  ---------\n",
      "mode    minkowski\n",
      "tp      68\n",
      "fp      52\n",
      "tn      19\n",
      "fn      1\n",
      "mode    tp\n",
      "------  ---------\n",
      "mode    cityblock\n",
      "tp      68\n",
      "fp      50\n",
      "tn      21\n",
      "fn      1\n",
      "mode    tp\n",
      "------  -----------\n",
      "mode    sqeuclidean\n",
      "tp      68\n",
      "fp      50\n",
      "tn      21\n",
      "fn      1\n",
      "mode    tp\n",
      "------  -----------\n",
      "mode    correlation\n",
      "tp      68\n",
      "fp      55\n",
      "tn      16\n",
      "fn      1\n",
      "mode    tp\n",
      "------  ---------\n",
      "mode    chebyshev\n",
      "tp      68\n",
      "fp      52\n",
      "tn      19\n",
      "fn      1\n",
      "mode    tp\n",
      "------  --------\n",
      "mode    canberra\n",
      "tp      68\n",
      "fp      49\n",
      "tn      22\n",
      "fn      1\n",
      "mode    tp\n",
      "------  ----------\n",
      "mode    braycurtis\n",
      "tp      68\n",
      "fp      51\n",
      "tn      20\n",
      "fn      1\n",
      "mode    tp\n",
      "------  ----\n",
      "mode    dice\n",
      "tp      68\n",
      "fp      50\n",
      "tn      21\n",
      "fn      1\n"
     ]
    }
   ],
   "source": [
    "from tabulate import tabulate\n",
    "headers = [\"mode\", \"tp\", \"fp\", \"tn\", \"fn\"]\n",
    "for result in results:\n",
    "    print(tabulate(result.items(), headers = headers))"
   ]
  },
  {
   "cell_type": "code",
   "execution_count": 63,
   "id": "f7d1002b-c3fc-43a6-8296-f7494181c80a",
   "metadata": {},
   "outputs": [
    {
     "data": {
      "image/png": "[encoded data removed]",
      "text/plain": [
       "<Figure size 1200x1200 with 3 Axes>"
      ]
     },
     "metadata": {},
     "output_type": "display_data"
    },
    {
     "data": {
      "image/png": "[encoded data removed]",
      "text/plain": [
       "<Figure size 1200x1200 with 3 Axes>"
      ]
     },
     "metadata": {},
     "output_type": "display_data"
    },
    {
     "data": {
      "image/png": "[encoded data removed]",
      "text/plain": [
       "<Figure size 1200x1200 with 3 Axes>"
      ]
     },
     "metadata": {},
     "output_type": "display_data"
    },
    {
     "data": {
      "image/png": "[encoded data removed]",
      "text/plain": [
       "<Figure size 1200x1200 with 3 Axes>"
      ]
     },
     "metadata": {},
     "output_type": "display_data"
    },
    {
     "data": {
      "image/png": "[encoded data removed]",
      "text/plain": [
       "<Figure size 1200x1200 with 3 Axes>"
      ]
     },
     "metadata": {},
     "output_type": "display_data"
    },
    {
     "data": {
      "image/png": "[encoded data removed]",
      "text/plain": [
       "<Figure size 1200x1200 with 3 Axes>"
      ]
     },
     "metadata": {},
     "output_type": "display_data"
    },
    {
     "data": {
      "image/png": "[encoded data removed]",
      "text/plain": [
       "<Figure size 1200x1200 with 3 Axes>"
      ]
     },
     "metadata": {},
     "output_type": "display_data"
    },
    {
     "data": {
      "image/png": "[encoded data removed]",
      "text/plain": [
       "<Figure size 1200x1200 with 3 Axes>"
      ]
     },
     "metadata": {},
     "output_type": "display_data"
    },
    {
     "data": {
      "image/png": "[encoded data removed]",
      "text/plain": [
       "<Figure size 1200x1200 with 3 Axes>"
      ]
     },
     "metadata": {},
     "output_type": "display_data"
    },
    {
     "data": {
      "image/png": "[encoded data removed]",
      "text/plain": [
       "<Figure size 1200x1200 with 3 Axes>"
      ]
     },
     "metadata": {},
     "output_type": "display_data"
    }
   ],
   "source": [
    "idx = 40\n",
    "for i in range(idx, idx+10):\n",
    "    sv.plot_images_grid(\n",
    "        images=[anchor_0[i][0].cpu().detach().numpy(), pos_0[i][0].cpu().detach().numpy(), neg_0[i][0].cpu().detach().numpy()],\n",
    "        grid_size=(1,3),\n",
    "        titles=[\"anchor\", \"pos\", \"neg\"]\n",
    "    )"
   ]
  },
  {
   "cell_type": "code",
   "execution_count": 71,
   "id": "0f35a6d2-68b0-46b8-9df7-1de0962ef109",
   "metadata": {},
   "outputs": [],
   "source": [
    "# print(\"Pred\", \"||\", \"GT\")\n",
    "# for x,y in zip(pred_sims, gt_sims):\n",
    "#     print(x.cpu().squeeze(), \"||\", y)\n",
    "    "
   ]
  },
  {
   "cell_type": "code",
   "execution_count": null,
   "id": "1112c2c6-3685-4e15-8d09-e0d08733bc5a",
   "metadata": {},
   "outputs": [],
   "source": []
  }
 ],
 "metadata": {
  "kernelspec": {
   "display_name": "Python [conda env:myenv]",
   "language": "python",
   "name": "conda-env-myenv-py"
  },
  "language_info": {
   "codemirror_mode": {
    "name": "ipython",
    "version": 3
   },
   "file_extension": ".py",
   "mimetype": "text/x-python",
   "name": "python",
   "nbconvert_exporter": "python",
   "pygments_lexer": "ipython3",
   "version": "3.9.18"
  }
 },
 "nbformat": 4,
 "nbformat_minor": 5
}
