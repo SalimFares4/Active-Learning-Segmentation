{
 "cells": [
  {
   "cell_type": "code",
   "execution_count": 1,
   "id": "d0bd03b5-b329-4870-a7cb-b53e20b713df",
   "metadata": {},
   "outputs": [
    {
     "name": "stderr",
     "output_type": "stream",
     "text": [
      "TqdmWarning: IProgress not found. Please update jupyter and ipywidgets. See https://ipywidgets.readthedocs.io/en/stable/user_install.html\n"
     ]
    }
   ],
   "source": [
    "import torch\n",
    "import os\n",
    "import pickle\n",
    "import numpy as np\n",
    "import matplotlib.pyplot as plt\n",
    "from segment_anything import sam_model_registry, SamAutomaticMaskGenerator, SamPredictor\n",
    "import sys\n",
    "sys.path.append('../src')\n",
    "import pandas as pd\n",
    "\n",
    "import cv2\n",
    "import numpy as np\n",
    "import supervision as sv\n",
    "from os.path import expanduser\n",
    "import json\n",
    "from unet_model import *\n",
    "import segmentation_models_pytorch as smp\n",
    "from scipy.spatial.distance import cdist\n",
    "from strategies import *\n",
    "from custom_datasets import *\n",
    "import torch.optim as optim"
   ]
  },
  {
   "cell_type": "code",
   "execution_count": 2,
   "id": "6be3d63a-0702-49d8-ad0f-1f026be5b6b1",
   "metadata": {},
   "outputs": [],
   "source": [
    "home = expanduser(\"~\")\n",
    "main_path = home+\"/Active-Learning-Segmentation/\"\n",
    "dataframes_path = main_path + \"data/dataframes/\"\n",
    "sam_path = main_path + \"sam/sam_vit_h_4b8939.pth\"\n",
    "notebooks_path = main_path + \"scripts/notebooks/\"\n",
    "expirements_path = main_path+\"expirements/\"\n",
    "processed_data_path = main_path + \"data/processed/\"\n",
    "trained_models = main_path + \"scripts/notebooks/trained_models/\"\n",
    "combinations_dataframe_path = dataframes_path + \"comp_df.csv\"\n",
    "similarity_train_data_path = processed_data_path + \"train_similarity/\""
   ]
  },
  {
   "cell_type": "code",
   "execution_count": 77,
   "id": "ad215578-7e23-476b-acd3-c0bdfc0df6a7",
   "metadata": {},
   "outputs": [],
   "source": [
    "df_name = \"lung_df\"\n",
    "train_df = pd.read_csv(dataframes_path+\"lung_df_train.csv\")\n",
    "test_df = pd.read_csv(dataframes_path+\"lung_df_test.csv\")\n",
    "comp_df = pd.read_csv(dataframes_path+\"comp_df.csv\")\n",
    "train_triplet_df = pd.read_csv(dataframes_path+\"train_triplet_df.csv\")\n",
    "test_triplet_df = pd.read_csv(dataframes_path+\"test_triplet_df.csv\")\n",
    "triplet_df = pd.read_csv(dataframes_path+\"triplet_df.csv\")"
   ]
  },
  {
   "cell_type": "code",
   "execution_count": 78,
   "id": "254da3b7-8892-4a03-8ae1-ea8799e122ab",
   "metadata": {},
   "outputs": [
    {
     "data": {
      "text/plain": [
       "596"
      ]
     },
     "execution_count": 78,
     "metadata": {},
     "output_type": "execute_result"
    }
   ],
   "source": [
    "len(triplet_df)*2"
   ]
  },
  {
   "cell_type": "code",
   "execution_count": 4,
   "id": "2965fa1a-3750-4484-a306-b112c66d3743",
   "metadata": {},
   "outputs": [],
   "source": [
    "# triplet_df = pd.concat([train_triplet_df, test_triplet_df]).reset_index(drop=True)\n",
    "\n",
    "# triplet_df.to_csv(dataframes_path+\"triplet_df.csv\")"
   ]
  },
  {
   "cell_type": "code",
   "execution_count": 5,
   "id": "53539f41-7d8e-42f9-9bf8-dcb4ab1654fa",
   "metadata": {},
   "outputs": [],
   "source": [
    "# if not os.path.exists(similarity_train_data_path):\n",
    "#     os.makedirs(similarity_train_data_path)"
   ]
  },
  {
   "cell_type": "code",
   "execution_count": 6,
   "id": "ae127465-db95-4a96-92b8-06ff21ee5efe",
   "metadata": {},
   "outputs": [
    {
     "data": {
      "text/plain": [
       "{'n_epoch': 35,\n",
       " 'train_args': {'batch_size': 16, 'num_workers': 1},\n",
       " 'test_args': {'batch_size': 512, 'num_workers': 1},\n",
       " 'optimizer_args': {'lr': 0.005, 'momentum': 0.9},\n",
       " 'use_sam': True,\n",
       " 'use_predictor': True,\n",
       " 'use_generator': False,\n",
       " 'init_set_size': 100,\n",
       " 'rounds': 15,\n",
       " 'activate_sam_at_round': 1,\n",
       " 'img_size': [128, 128],\n",
       " 'voting': True,\n",
       " 'pre_trained': False,\n",
       " 'dataset': 'Lunar_Rocky_Landscape',\n",
       " 'similarity_check': True,\n",
       " 'dropout': True}"
      ]
     },
     "execution_count": 6,
     "metadata": {},
     "output_type": "execute_result"
    }
   ],
   "source": [
    "params"
   ]
  },
  {
   "cell_type": "code",
   "execution_count": 7,
   "id": "7ca35a28-d404-4520-9afd-a9e370821696",
   "metadata": {},
   "outputs": [],
   "source": [
    "if params[\"init_set_size\"] == len(train_df):\n",
    "    params[\"training_type\"] = \"no_active\"\n",
    "elif not params[\"use_sam\"]:\n",
    "    params[\"training_type\"] = \"no_sam\"\n",
    "elif params[\"voting\"]:\n",
    "    params[\"training_type\"] = \"voters\"\n",
    "else:\n",
    "    params[\"training_type\"]=\"withSAM_NoVoting\"\n",
    "\n",
    "if params[\"training_type\"] == \"no_active\":\n",
    "    if params[\"pre_trained\"]:\n",
    "        params[\"model_path\"] = f'{notebooks_path}trained_models/{params[\"dataset\"]}/no_active/pre_trained_Unet_{params[\"img_size\"][0]}.pt'\n",
    "    else:\n",
    "        params[\"model_path\"] = f'{notebooks_path}trained_models/{params[\"dataset\"]}/no_active/not_pre_trained_Unet_{params[\"img_size\"][0]}.pt'\n",
    "else:\n",
    "    if params[\"pre_trained\"]:\n",
    "        params[\"model_path\"] = f'{notebooks_path}trained_models/{params[\"dataset\"]}/{params[\"training_type\"]}/pre_trained/{params[\"init_set_size\"]}'\n",
    "    else:\n",
    "        params[\"model_path\"] = f'{notebooks_path}trained_models/{params[\"dataset\"]}/{params[\"training_type\"]}/not_pre_trained/{params[\"init_set_size\"]}'\n",
    "\n",
    "notes = f'{params[\"training_type\"]}_{params[\"init_set_size\"]}'\n",
    "\n",
    "if params[\"dropout\"] and params[\"training_type\"] != \"voters\":\n",
    "    params[\"model_path\"] = f'{params[\"model_path\"]}_dropout'\n",
    "    notes = f\"{notes}_dropout\"\n",
    "\n",
    "params['test_set_size'] = len(test_df)\n",
    "params['df'] = df_name\n",
    "params['query_num'] = int(0.05 * params['init_set_size'])\n",
    "if params['query_num'] == 0:\n",
    "    params['query_num'] = 1\n",
    "params[\"strategy\"] = \"MarginSampling\"\n",
    "\n",
    "\n",
    "\n",
    "if params[\"training_type\"] == \"voters\":\n",
    "    if params[\"similarity_check\"]:\n",
    "        params[\"model_path\"] = f'{params[\"model_path\"]}_dbscan'\n",
    "        notes = f\"{notes}_dbscan\"\n",
    "    if params[\"dropout\"]:\n",
    "        params[\"model_path\"] = f'{params[\"model_path\"]}_dropout'\n",
    "    params[\"model_path\"] = f'{params[\"model_path\"]}/voters_{params[\"img_size\"][0]}'\n",
    "        "
   ]
  },
  {
   "cell_type": "code",
   "execution_count": 8,
[\"model_path\"]"
   "id": "75dc11fc-a4de-40fe-9871-9702c5f7d8c8",
   "metadata": {},
   "outputs": [],
   "source": [
    "# params[\"model_path\"]"
   ]
  },
  {
   "cell_type": "code",
   "execution_count": 9,
   "id": "9556ba4e-e9c6-4ec9-adcf-e7a5d310e673",
   "metadata": {},
   "outputs": [],
   "source": [
    "# voters = [f'{params[\"model_path\"]}_{params[\"rounds\"]-1}/model_{i}.pt' for i in range(1,10)]\n",
    "# voters.append(f'{params[\"model_path\"]}_{params[\"rounds\"]-1}/main_Unet.pt')"
   ]
  },
  {
   "cell_type": "code",
   "execution_count": 10,
   "id": "c1d93537-5745-40ad-94cf-3f80c2623a75",
   "metadata": {},
   "outputs": [],
   "source": [
    "# test_df_slice = test_df[i:i+1]\n",
    "test_df_slice = train_df[:100]\n",
    "# def get_data(handler, train_df, test_df):\n",
    "#     return Data(train_df[\"images\"].to_list(), train_df[\"masks\"].to_list(), test_df[\"images\"].to_list(), test_df[\"masks\"].to_list(), handler, img_size=params[\"img_size\"], df=train_df, path= main_path+\"/data/processed/\", use_sam=params['use_sam'])\n",
    "\n",
    "# data = get_data(Handler, test_df_slice, test_df_slice)\n",
    "# data.initialize_labels(params[\"init_set_size\"])"
   ]
  },
  {
   "cell_type": "code",
   "execution_count": 11,
   "id": "95ba816e-ee4c-4682-8e3e-25843ecb56f3",
   "metadata": {},
   "outputs": [],
   "source": [
    "# model = UNet(n_channels=3, n_classes=1, bilinear=True)\n",
    "# net = Net(model, params, device = torch.device(\"cuda\"))"
   ]
  },
  {
   "cell_type": "code",
   "execution_count": 12,
   "id": "4a926deb-63b0-442c-be9b-968930af39ef",
   "metadata": {},
   "outputs": [],
   "source": [
    "# sam = SAMOracle(checkpoint_path=sam_path, img_size=params[\"img_size\"])"
   ]
  },
  {
   "cell_type": "code",
   "execution_count": 13,
   "id": "537c3121-b4bb-40e2-8b79-ad7d618b798e",
   "metadata": {},
   "outputs": [],
   "source": [
    "# def predict(net, model_state:str):\n",
    "#     net.net.load_state_dict(torch.load(model_state))\n",
    "#     net.clf = net.net.to(torch.device(\"cuda\"))\n",
    "#     mask = net.predict(data.get_test_data())[0]\n",
    "#     mask = (mask.squeeze().cpu().sigmoid()> 0.5).float()\n",
    "    \n",
    "#     return mask"
   ]
  },
  {
   "cell_type": "code",
   "execution_count": 14,
   "id": "cbaa5711-5259-40da-93bf-59b937b5f871",
   "metadata": {},
   "outputs": [],
   "source": [
    "# def get_boxes(mask):\n",
    "#     if torch.is_tensor(mask):\n",
    "#         mask = mask.numpy()\n",
    "#         mask = np.array(mask, np.uint8)\n",
    "#     # _, thresh = cv2.threshold(mask, 0.5, 1, 0)\n",
    "#     contours, _ = cv2.findContours(mask, cv2.RETR_TREE, cv2.CHAIN_APPROX_SIMPLE)\n",
    "#     cnts = []\n",
    "#     for cnt in contours:\n",
    "#         x,y,w,h = cv2.boundingRect(cnt)\n",
    "#         box = np.array([x, y, x+w, y+h])\n",
    "#         cnts.append(box)\n",
    "#     return np.array(cnts)   "
   ]
  },
  {
   "cell_type": "code",
   "execution_count": 15,
   "id": "214e8cde-979e-49bf-b3b6-46e104fa9570",
   "metadata": {},
   "outputs": [],
   "source": [
    "# tmp_masks = [predict(net, path) for path in voters]\n",
    "# voters_masks =[]\n",
    "# for j in range(len(tmp_masks[0])):\n",
    "#     voters_masks.append([tmp_masks[i][j] for i in range(len(tmp_masks))])"
   ]
  },
  {
   "cell_type": "code",
   "execution_count": 16,
   "id": "3cddfe75-4af8-4a26-9927-78bb27845e2a",
   "metadata": {},
   "outputs": [],
   "source": [
    "# voters_boxes = [[get_boxes(mask) for mask in masks] for masks in voters_masks]"
   ]
  },
  {
   "cell_type": "code",
   "execution_count": 17,
   "id": "ab780812-8023-4334-9399-47ce4e9fe8d9",
   "metadata": {},
   "outputs": [],
   "source": [
    "mask_paths = []\n",
    "gt_paths =[]\n",
    "mask_paths_remove=[]\n",
    "for i in range(len(test_df_slice)):\n",
    "    gt_mask= np.load(test_df_slice[\"masks\"][i], allow_pickle=True)\n",
    "    if gt_mask.sum()>0:\n",
    "        for j in range(10):\n",
    "            mask_paths.append(similarity_train_data_path + f\"sam_{j}_\" + os.path.basename(test_df_slice[\"masks\"][i]))\n",
    "            gt_paths.append(test_df_slice[\"masks\"][i])\n",
    "    # else:\n",
    "    #     for j in range(10):\n",
    "    #         mask_paths_remove.append(similarity_train_data_path + f\"sam_{j}_\" + os.path.basename(test_df_slice[\"masks\"][i]))"
   ]
  },
  {
   "cell_type": "code",
   "execution_count": 18,
   "id": "0b2aeaa7-be47-4a60-8cfc-d416c756f7c7",
   "metadata": {},
   "outputs": [],
   "source": [
    "# for path in mask_paths_remove:\n",
    "#     os.remove(path)"
   ]
  },
  {
   "cell_type": "code",
   "execution_count": 19,
   "id": "c3c596e7-7d11-464d-b5be-afe19c9456cf",
   "metadata": {},
   "outputs": [],
   "source": [
    "# comp_df = pd.DataFrame({\"mask\":mask_paths,\n",
    "#                       \"gt_mask\":gt_paths})\n",
    "\n",
    "# comp_df.to_csv(dataframes_path+\"comp_df.csv\")"
   ]
  },
  {
   "cell_type": "code",
   "execution_count": 20,
   "id": "5b871a44-8f69-4bcd-a72f-361689c84ab8",
   "metadata": {},
   "outputs": [],
   "source": [
    "train_comp_df = comp_df[:700]\n",
    "\n",
    "test_comp_df = comp_df[700:].reset_index(drop=True)"
   ]
  },
  {
   "cell_type": "code",
   "execution_count": null,
   "id": "faa0f392-c2b9-44e0-83c1-49b6b1cbd478",
   "metadata": {},
   "outputs": [],
   "source": []
  },
  {
   "cell_type": "code",
   "execution_count": 21,
   "id": "6f5e6b01-46e6-4d3c-aebd-3c9a443dea38",
   "metadata": {},
   "outputs": [],
   "source": [
    "# # voters_sam =[[sam.get_mask(img_path=test_df_slice[\"images\"][i], boxes=box).squeeze() for box in boxes]for i,boxes in enumerate(voters_dbscan_dropout_boxes)]\n",
    "# voters_sam=[]\n",
    "# for i,boxes in enumerate(voters_boxes):\n",
    "#     tmp_sams=[]\n",
    "#     for j,box in enumerate(boxes):\n",
    "#         tmp_sam = sam.get_mask(img_path=test_df_slice[\"images\"][i], boxes=box).squeeze()\n",
    "#         tmp_sams.append(tmp_sam)\n",
    "#         path = similarity_train_data_path + f\"sam_{j}_\" + os.path.basename(test_df_slice[\"masks\"][i])\n",
    "#         np.save(path, tmp_sam)"
   ]
  },
  {
   "cell_type": "code",
   "execution_count": 22,
   "id": "fd950b11-1d94-4cbc-831e-eaaafc9b7e47",
   "metadata": {},
   "outputs": [],
   "source": [
    "from pytorch_metric_learning import distances, losses, miners, reducers, testers\n",
    "from pytorch_metric_learning.utils.accuracy_calculator import AccuracyCalculator"
   ]
  },
  {
   "cell_type": "code",
   "execution_count": 23,
   "id": "fc3648f0-7dcd-423a-b936-68043fa58724",
   "metadata": {},
   "outputs": [],
   "source": [
    "class SimEmbeddings(nn.Module):\n",
    "    def __init__(self, inp_dim):\n",
    "        super(SimEmbeddings, self).__init__()\n",
    "        self.conv1 = nn.Conv2d(in_channels=1, out_channels=32, kernel_size=3, stride=1)\n",
    "        self.conv2 = nn.Conv2d(in_channels=32, out_channels=64, kernel_size=3, stride=1)\n",
    "        self.dropout1 = nn.Dropout2d(0.25)\n",
    "        self.dropout2 = nn.Dropout2d(0.5)\n",
    "        #After Conv\n",
    "        # new_shape = ((old_shape−Kernal_Size+2Padding)/Stride)+1.\n",
    "        inp_dim-=4\n",
    "        #After Maxpooling\n",
    "        #new_shape = old_shape/pooling_size\n",
    "        inp_dim/=2\n",
    "        #Flatten\n",
    "        #64 out channels of the last conv layer\n",
    "        inp_dim*=inp_dim*64\n",
    "        self.fc1 = nn.Linear(int(inp_dim), 128)\n",
    "\n",
    "    def forward(self, x):\n",
    "        x = self.conv1(x)\n",
    "        # print(x.shape)\n",
    "        x = F.relu(x)\n",
    "        x = self.conv2(x)\n",
    "        # print(x.shape)\n",
    "        x = F.relu(x)\n",
    "        x = F.max_pool2d(x, 2)\n",
    "        # print(x.shape)\n",
    "        x = self.dropout1(x)\n",
    "        x = torch.flatten(x, 1)\n",
    "        # print(x.shape)\n",
    "        x = self.fc1(x)\n",
    "        # print(x.shape)\n",
    "        return x"
   ]
  },
  {
   "cell_type": "code",
   "execution_count": 24,
   "id": "da2a8a4a-f304-4a36-b178-eb3abaa19f6d",
   "metadata": {},
   "outputs": [],
   "source": [
    "# class SimEmbeddings(torch.nn.Module):\n",
    "#     def __init__(self, dim):\n",
    "#         super(SimEmbeddings, self).__init__()\n",
    "#         dim_2 = int(dim/2)\n",
    "#         self.layer1 = torch.nn.Linear(dim, dim_2)\n",
    "#         self.layer2 = torch.nn.Linear(dim_2, dim_2)\n",
    "#         self.layer3 = torch.nn.Linear(dim_2, 1)\n",
    "#         self.layer4 = torch.nn.Linear(dim, 1)\n",
    "#         # self.relu = torch.nn.ReLU()\n",
    "#         # self.sigmoid = torch.nn.Sigmoid()\n",
    "        \n",
    "#     def forward(self, x):\n",
    "#         x1 = self.layer1(x)\n",
    "#         # print(x1.shape)\n",
    "#         x2 = self.layer2(x1)\n",
    "#         # print(x2.shape)\n",
    "#         x3 = self.layer3(x2)\n",
    "#         # print(x3.shape)\n",
    "#         # x4 = self.layer4(torch.permute(x3,(0, 2, 1)))\n",
    "#         # print(x4.shape)\n",
    "#         return torch.permute(x3,(0,1, 3, 2))\n",
    "#         # return self.sigmoid(x4)\n",
    "#         # return self.relu(x4)"
   ]
  },
  {
   "cell_type": "code",
   "execution_count": 25,
   "id": "811a9edd-ec53-49ec-ae90-a0a09b547a97",
   "metadata": {},
   "outputs": [],
   "source": [
    "class SimNet:\n",
    "    def __init__(self, sim_model, params):\n",
    "        self.sim_model = sim_model\n",
    "        self.params = params\n",
    "        self.optimizer = optim.SGD(list(self.sim_model.parameters()),lr = 1e-3, momentum=0.9)\n",
    "        self.loss_fn = torch.nn.TripletMarginLoss(margin=3.0)\n",
    "\n",
    "    def get_similarity(self, masks, gt_masks):\n",
    "        iou = torch.zeros((masks.shape[0],1))\n",
    "        for i in range(len(masks)):\n",
    "            tp, fp, fn, tn = smp.metrics.get_stats(masks[i].long(), gt_masks[i].long(), mode=\"binary\", threshold=0.5)\n",
    "            iou[i] = smp.metrics.iou_score(tp, fp, fn, tn, reduction=\"micro\")\n",
    "        return iou\n",
    "        \n",
    "        # iou = smp.metrics.iou_score(tp, fp, fn, tn, reduction=\"none\")\n",
    "        # return iou.sum(axis=1)/masks.shape[1]\n",
    "\n",
    "    def train(self, data):\n",
    "        losses = []\n",
    "        epoch_loss=[]\n",
    "        n_epoch = self.params['n_epoch']\n",
    "        self.sim_model = self.sim_model.to(\"cuda\")\n",
    "        self.sim_model.train()\n",
    "        \n",
    "        loader = DataLoader(data, shuffle=True, batch_size=32)\n",
    "        prog_bar = tqdm.tqdm(range(1, 150 + 1), ncols = 100, disable = False)\n",
    "        for epoch in prog_bar:\n",
    "            # for batch_idx, (x, y) in enumerate(loader):\n",
    "            for batch_idx, (anchor, pos, neg) in enumerate(loader):\n",
    "            \n",
    "                # x, y = x.cuda(), y.cuda()\n",
    "                anchor, pos, neg = anchor.cuda(), pos.cuda(), neg.cuda()\n",
    "                self.optimizer.zero_grad()\n",
    "\n",
    "                # predicted_similarity = self.sim_model(x).squeeze()\n",
    "                anchor = self.sim_model(anchor)\n",
    "                pos = self.sim_model(pos)\n",
    "                neg = self.sim_model(neg)\n",
    "                # gt_similarity = self.get_similarity(x,y).squeeze()\n",
    "                # loss = self.loss_fn(predicted_similarity, gt_similarity)                \n",
    "                loss = self.loss_fn(anchor, pos, neg) \n",
    "                loss.backward()\n",
    "                epoch_loss.append(loss.item())\n",
    "                self.optimizer.step()\n",
    "                \n",
    "                prog_bar.set_postfix(loss=loss.item())\n",
    "            losses.append(sum(epoch_loss)/len(epoch_loss))\n",
    "            epoch_loss=[]\n",
    "        return losses\n",
    "\n",
    "    def predict(self, mask_path):\n",
    "        self.sim_model = self.sim_model.to(\"cuda\")\n",
    "        self.sim_model.eval()\n",
    "        mask = torch.Tensor(np.load(mask_path, allow_pickle=True)).view(1,self.params[\"img_size\"][0],self.params[\"img_size\"][1]).cuda()\n",
    "        return self.sim_model(mask)\n",
    "        \n",
    "        "
   ]
  },
  {
   "cell_type": "code",
   "execution_count": 26,
   "id": "caba0722-9a26-41e9-9cb8-0a0958ba35b1",
   "metadata": {},
   "outputs": [],
   "source": [
    "class CustomImageDataset(Dataset):\n",
    "    def __init__(self, comp_df, transform=None, target_transform=None):\n",
    "        self.comp_df = comp_df\n",
    "        self.transform = transform\n",
    "        self.target_transform = target_transform\n",
    "\n",
    "    def __len__(self):\n",
    "        return len(self.comp_df)\n",
    "\n",
    "    def __getitem__(self, index):\n",
    "        # image = torch.Tensor(np.load(self.comp_df[\"mask\"][index], allow_pickle=True))\n",
    "        # label = torch.Tensor(np.load(self.comp_df[\"gt_mask\"][index], allow_pickle=True))\n",
    "        \n",
    "        pos = torch.Tensor(np.load(self.comp_df[\"pos\"][index], allow_pickle=True)).view(1,128,128)\n",
    "        anchor = torch.Tensor(np.load(self.comp_df[\"anchor\"][index], allow_pickle=True)).view(1,128,128)\n",
    "        neg = torch.Tensor(np.load(self.comp_df[\"neg\"][index], allow_pickle=True)).view(1,128,128)\n",
    "        \n",
    "        # return image, label\n",
    "        return anchor, pos, neg"
   ]
  },
  {
   "cell_type": "code",
   "execution_count": 27,
   "id": "2f3f27a0-7fe8-4088-8151-081a72fc8a75",
   "metadata": {},
   "outputs": [],
   "source": [
    "# dataset = CustomImageDataset(comp_df=train_triplet_df)\n",
    "dataset = CustomImageDataset(comp_df=triplet_df)"
   ]
  },
  {
   "cell_type": "code",
   "execution_count": 28,
   "id": "e32c8745-46f6-45ca-a08c-54de17eb01cd",
   "metadata": {},
   "outputs": [],
   "source": [
    "# loader = DataLoader(dataset, batch_size=10, shuffle=True)"
   ]
  },
  {
   "cell_type": "code",
   "execution_count": 29,
   "id": "a90b7db4-2c17-445d-9e29-f3dbf34c5fef",
   "metadata": {},
   "outputs": [],
   "source": [
    "net = SimNet(sim_model=SimEmbeddings(inp_dim=128),\n",
    "             params=params)\n",
    "\n",
    "# net = SimNet(sim_model=SimEmbeddings(128),\n",
    "#              params=params)"
   ]
  },
  {
   "cell_type": "code",
   "execution_count": 30,
   "id": "22272456-e6bc-47b4-b693-edef6568278b",
   "metadata": {},
   "outputs": [],
   "source": [
    "# x = torch.Tensor(np.load(test_comp_df[\"mask\"][0], allow_pickle=True)).view(1,128,128)\n",
    "# y = torch.Tensor(np.load(test_comp_df[\"gt_mask\"][0], allow_pickle=True)).view(1,128,128)\n",
    "# sim = net.get_similarity(x,y)\n",
    "# sim.shape"
   ]
  },
  {
   "cell_type": "code",
   "execution_count": 31,
   "id": "7291890f-c112-4917-87c8-e667fae0e01d",
   "metadata": {},
   "outputs": [],
   "source": [
    "# for batch_idx, (x, y) in enumerate(loader):\n",
    "#     print(x.shape)\n",
    "#     sim = net.get_similarity(x,y)\n",
    "#     break\n",
    "# sim.shape"
   ]
  },
  {
   "cell_type": "code",
   "execution_count": 32,
   "id": "cc14095c-1d77-4882-9478-71ead27e040f",
   "metadata": {},
   "outputs": [],
   "source": [
    "# net.sim_model(mask)"
   ]
  },
  {
   "cell_type": "code",
   "execution_count": null,
   "id": "07f31b82-3815-4797-afb2-06943c19e528",
   "metadata": {},
   "outputs": [],
   "source": [
    "# net.sim_model.load_state_dict(torch.load(notebooks_path+\"trained_models/similarity_network.pt\"))"
   ]
  },
  {
   "cell_type": "code",
   "execution_count": 33,
   "id": "d5bd939e-004c-4634-948d-1689675c4708",
   "metadata": {},
   "outputs": [
    {
     "name": "stderr",
     "output_type": "stream",
     "text": [
      "100%|█████████████████████████████████████████████████████| 150/150 [01:28<00:00,  1.69it/s, loss=0]\n"
     ]
    }
   ],
   "source": [
    "losses = net.train(dataset)"
   ]
  },
  {
   "cell_type": "code",
   "execution_count": 34,
   "id": "d2b036eb-bd6d-4499-a84d-07df23756e74",
   "metadata": {},
   "outputs": [],
   "source": [
    "torch.save(net.sim_model.state_dict(), notebooks_path+\"trained_models/similarity_network.pt\")\n"
   ]
  },
  {
   "cell_type": "code",
   "execution_count": 35,
   "id": "bb24c749-b833-4cd5-ae26-cdcfbf06034b",
   "metadata": {},
   "outputs": [
    {
     "data": {
      "image/png": "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",
      "text/plain": [
       "<Figure size 640x480 with 1 Axes>"
      ]
     },
     "metadata": {},
     "output_type": "display_data"
    }
   ],
   "source": [
    "import matplotlib.pyplot as plt\n",
    "plt.plot(losses)\n",
    "plt.show()"
   ]
  },
  {
   "cell_type": "code",
   "execution_count": 36,
   "id": "ec65350c-4c25-4535-b9c6-d206ff8b965f",
   "metadata": {},
   "outputs": [],
   "source": [
    "# mask = torch.Tensor(np.load(test_comp_df[\"mask\"][0], allow_pickle=True)).view(1,1,128,128)\n",
    "# mask = torch.Tensor(np.load(test_comp_df[\"mask\"][0], allow_pickle=True)).view(1,1,128,128)"
   ]
  },
  {
   "cell_type": "code",
   "execution_count": 37,
   "id": "ca37d57e-e291-49ff-91f1-fa1a5469aaea",
   "metadata": {},
   "outputs": [],
   "source": [
    "# net.sim_model(mask.cuda()).shape"
   ]
  },
  {
   "cell_type": "code",
   "execution_count": 38,
   "id": "245af970-7fc9-45fb-a17f-c1d8b757caf3",
   "metadata": {},
   "outputs": [],
   "source": [
    "test_dataset = CustomImageDataset(comp_df=test_triplet_df)\n",
    "test_loader = DataLoader(test_dataset, shuffle=True, batch_size=len(test_triplet_df))"
   ]
  },
  {
   "cell_type": "code",
   "execution_count": 39,
   "id": "6e2aef9c-ee09-45c7-b587-2a10f3e2756a",
   "metadata": {},
   "outputs": [],
   "source": [
    "anchor_0, pos_0, neg_0 = next(iter(test_loader))"
   ]
  },
  {
   "cell_type": "code",
   "execution_count": 40,
   "id": "c1f58ba3-094e-49f5-af15-ac83aa6f9e22",
   "metadata": {},
   "outputs": [],
   "source": [
    "anchor = net.sim_model(anchor_0.cuda())\n",
    "pos = net.sim_model(pos_0.cuda())\n",
    "neg = net.sim_model(neg_0.cuda())"
   ]
  },
  {
   "cell_type": "code",
   "execution_count": 41,
   "id": "0a07f9cd-feb6-45c8-85ce-e117456afea6",
   "metadata": {},
   "outputs": [
    {
     "data": {
      "text/plain": [
       "tensor(0., device='cuda:0', grad_fn=<MeanBackward0>)"
      ]
     },
     "execution_count": 41,
     "metadata": {},
     "output_type": "execute_result"
    }
   ],
   "source": [
    "net.loss_fn(anchor, pos, neg)"
   ]
  },
  {
   "cell_type": "code",
   "execution_count": 42,
   "id": "de14e899-66e2-4175-8ba3-48b6b850a01d",
   "metadata": {},
   "outputs": [],
   "source": [
    "train_loader = DataLoader(dataset, shuffle=True, batch_size=len(train_triplet_df))\n",
    "_, train_pos, train_neg = next(iter(train_loader))"
   ]
  },
  {
   "cell_type": "code",
   "execution_count": 43,
   "id": "3d8a80d2-5357-4312-a5cc-19012bf41b7c",
   "metadata": {},
   "outputs": [],
   "source": [
    "def get_embeddings(model, masks):\n",
    "    return model(masks)"
   ]
  },
  {
   "cell_type": "code",
   "execution_count": 44,
   "id": "694c7583-fbc5-41ce-9b57-f2737a3c0f70",
   "metadata": {},
   "outputs": [],
   "source": [
    "from scipy.spatial.distance import cdist"
   ]
  },
  {
   "cell_type": "code",
   "execution_count": 45,
   "id": "4b835e18-aa78-41bf-8534-9224b06b36d1",
   "metadata": {},
   "outputs": [],
   "source": [
    "def eculidian_distance(x, y):\n",
    "    return (x - y).pow(2).sum().sqrt()/2.0\n",
    "    # return (x - y).pow(2).sum()"
   ]
  },
  {
   "cell_type": "code",
   "execution_count": null,
   "id": "9f7d735a-89be-425f-ab58-fc8b6391bb32",
   "metadata": {},
   "outputs": [],
   "source": []
  },
  {
   "cell_type": "code",
   "execution_count": 46,
   "id": "ea5b2f6b-7619-4bc5-ba8f-08850bd5e0c2",
   "metadata": {},
   "outputs": [],
   "source": [
    "train_pos_embeddings = get_embeddings(net.sim_model, train_pos.cuda()).cpu().detach()\n",
    "train_neg_embeddings = get_embeddings(net.sim_model, train_neg.cuda()).cpu().detach()"
   ]
  },
  {
   "cell_type": "code",
   "execution_count": 47,
   "id": "b49f536a-8491-4ec1-9a67-4c5bd1bdf791",
   "metadata": {},
   "outputs": [],
   "source": [
    "distance_modes=[\"euclidean\",\n",
    "               'minkowski',\n",
    "               'cityblock',\n",
    "               'sqeuclidean',\n",
    "               'correlation',\n",
    "               'chebyshev',\n",
    "               'canberra',\n",
    "               'braycurtis',\n",
    "               'dice']"
   ]
  },
  {
   "cell_type": "code",
   "execution_count": 48,
   "id": "99a14530-49d6-4b40-8053-03ea22545a68",
   "metadata": {},
   "outputs": [],
   "source": [
    "def distance(x,y,mode=\"euclidean\"):\n",
    "    return cdist(x,y, mode).sum()/y.shape[0]\n",
    "    # return cdist(x,y, 'euclidean').sum()/y.shape[0]\n",
    "    # return cdist(x,y, 'minkowski').sum()/y.shape[0]\n",
    "    # return cdist(x, y, 'cityblock').sum()/y.shape[0]\n",
    "    # return cdist(x, y, 'sqeuclidean').sum()/y.shape[0]\n",
    "    # return cdist(x, y, 'correlation').sum()/y.shape[0] # Give False with neg samples\n",
    "    # return cdist(x, y, 'chebyshev').sum()/y.shape[0]\n",
    "    # return cdist(x, y, 'canberra').sum()/y.shape[0] # Give False with neg samples\n",
    "    # return cdist(x, y, 'braycurtis').sum()/y.shape[0] # Give False with neg samples\n",
    "    # return cdist(x, y, 'dice').sum()/y.shape[0] # Failed evaluation distance\n",
    "    \n",
    "    # return cdist(x, y, 'mahalanobis', VI=None).sum()/y.shape[0] # Search on it\n",
    "    # return cdist(x, y, 'hamming').sum()/y.shape[0] # always gives 1\n",
    "    # return cdist(x, y, 'jaccard').sum()/y.shape[0] # always gives 1\n",
    "    # return cdist(x, y, 'jensenshannon').sum()/y.shape[0] # always inf # For probability vectors.\n",
    "    # return cdist(x, y, 'yule').sum()/y.shape[0] # only for boolean vectors\n",
    "    # return cdist(x, y, 'matching').sum()/y.shape[0] #Same as Hamming\n"
   ]
  },
  {
   "cell_type": "code",
   "execution_count": 49,
   "id": "dec1d2d1-9cb5-46d5-bb43-25b198c3b765",
   "metadata": {},
   "outputs": [],
   "source": [
    "results = []\n",
    "for mode in distance_modes:\n",
    "    tp = fn = 0\n",
    "    pos_paths=list(set(test_triplet_df[\"pos\"]))\n",
    "    for i in range(len(pos_paths)):\n",
    "        mask = torch.Tensor(np.load(pos_paths[i], allow_pickle=True)).view(1,1,128,128)\n",
    "        mask_emb = net.sim_model(mask.cuda()).cpu().detach()\n",
    "        pos_distance = distance(mask_emb, train_pos_embeddings)\n",
    "        neg_distance = distance(mask_emb, train_neg_embeddings)\n",
    "        if pos_distance<neg_distance:\n",
    "            tp+=1\n",
    "        else:\n",
    "            fn+=1\n",
    "            \n",
    "    tn = fp = 0\n",
    "    neg_paths=list(set(test_triplet_df[\"neg\"]))\n",
    "    for i in range(len(neg_paths)):\n",
    "        mask = torch.Tensor(np.load(neg_paths[i], allow_pickle=True)).view(1,1,128,128)\n",
    "        mask_emb = net.sim_model(mask.cuda()).cpu().detach()\n",
    "        pos_distance = distance(mask_emb, train_pos_embeddings)\n",
    "        neg_distance = distance(mask_emb, train_neg_embeddings)\n",
    "        if pos_distance>neg_distance:\n",
    "            tn+=1\n",
    "        else:\n",
    "            fp+=1\n",
    "\n",
    "    results.append({\"mode\":mode,\n",
    "                    \"tp\":tp,\n",
    "                    \"fp\":fp,\n",
    "                    \"tn\":tn,\n",
    "                    \"fn\":fn})"
   ]
  },
  {
   "cell_type": "code",
   "execution_count": 73,
   "id": "acacf078-5e17-4743-a754-8b8088402159",
   "metadata": {},
   "outputs": [],
   "source": [
    "# from tabulate import tabulate\n",
    "# headers = [\"mode\", \"tp\", \"fp\", \"tn\", \"fn\"]\n",
    "# for result in results:\n",
    "#     print(tabulate(result.items(), headers = headers))"
   ]
  },
  {
   "cell_type": "code",
   "execution_count": 74,
   "id": "c5b064e7-1007-44b0-b95e-a298f587d51f",
   "metadata": {},
   "outputs": [],
   "source": [
    "# for result in results:\n",
    "#     print(result, \"\\n\")"
   ]
  },
  {
   "cell_type": "code",
   "execution_count": 52,
   "id": "567c2032-e4d0-4113-99be-fd29e9495d6e",
   "metadata": {},
   "outputs": [],
   "source": [
    "# print(\"Eculidian distances between test pos mask embedding to training pos and negative embedding\\n\")\n",
    "# print(\"To pos embedding\", \"||\", \"To neg embedding\", \"||\", \"Evaluation\")\n",
    "# print(\"---------------------------------------------------\")\n",
    "# tp = fn = 0\n",
    "# pos_paths=list(set(test_triplet_df[\"pos\"]))\n",
    "# for i in range(len(pos_paths)):\n",
    "#     mask = torch.Tensor(np.load(pos_paths[i], allow_pickle=True)).view(1,1,128,128)\n",
    "#     mask_emb = net.sim_model(mask.cuda()).cpu().detach()\n",
    "#     pos_distance = distance(mask_emb, train_pos_embeddings)\n",
    "#     neg_distance = distance(mask_emb, train_neg_embeddings)\n",
    "#     if pos_distance<neg_distance:\n",
    "#         tp+=1\n",
    "#     else:\n",
    "#         fn+=1\n",
    "    # print(pos_distance, \"||\", neg_distance, \"||\", pos_distance<neg_distance)\n",
    "    # print(\"---------------------------------------------------\")"
   ]
  },
  {
   "cell_type": "code",
   "execution_count": 53,
   "id": "b4e6bfd6-865e-4aa7-a1a7-4dcbb43b7afa",
   "metadata": {},
   "outputs": [],
   "source": [
    "# print(\"Eculidian distances between test neg mask embedding to training pos and negative embedding\\n\")\n",
    "# print(\"To pos embedding\", \"||\", \"To neg embedding\", \"||\", \"Evaluation\")\n",
    "# print(\"---------------------------------------------------\")\n",
    "# tn = fp = 0\n",
    "# neg_paths=list(set(test_triplet_df[\"neg\"]))\n",
    "# for i in range(len(neg_paths)):\n",
    "#     mask = torch.Tensor(np.load(neg_paths[i], allow_pickle=True)).view(1,1,128,128)\n",
    "#     mask_emb = net.sim_model(mask.cuda()).cpu().detach()\n",
    "#     pos_distance = distance(mask_emb, train_pos_embeddings)\n",
    "#     neg_distance = distance(mask_emb, train_neg_embeddings)\n",
    "#     if pos_distance>neg_distance:\n",
    "#         tn+=1\n",
    "#     else:\n",
    "#         fp+=1\n",
    "    # print(pos_distance, \"||\", neg_distance, \"||\", pos_distance>neg_distance)\n",
    "    # print(\"---------------------------------------------------\")"
   ]
  },
  {
   "cell_type": "code",
   "execution_count": 54,
   "id": "51e724aa-c238-4cc6-bf90-64edbfb5d37b",
   "metadata": {},
   "outputs": [],
   "source": [
    "# tp,fp,tn,fn"
   ]
  },
  {
   "cell_type": "code",
   "execution_count": null,
   "id": "ae7808c2-af8c-4a2f-9e22-b6c72a36b4e4",
   "metadata": {},
   "outputs": [],
   "source": []
  },
  {
   "cell_type": "code",
   "execution_count": 55,
   "id": "26578771-00df-4be5-8f11-c09e82613fb9",
   "metadata": {},
   "outputs": [],
   "source": [
    "# len(pos_paths)+len(neg_paths) == tp+tn+fp+fn"
   ]
  },
  {
   "cell_type": "code",
   "execution_count": 56,
   "id": "1813a1ff-8e79-4f13-891e-3f92c105cb1c",
   "metadata": {},
   "outputs": [],
   "source": [
    "# len(pos_paths)"
   ]
  },
  {
   "cell_type": "code",
   "execution_count": 57,
   "id": "d962433f-b27b-4903-846f-3dbccd79d13d",
   "metadata": {},
   "outputs": [],
   "source": [
    "# tp+tn+fp+fn"
   ]
  },
  {
   "cell_type": "code",
   "execution_count": 58,
   "id": "e5df56a8-5057-4a49-9608-703e72bfe957",
   "metadata": {},
   "outputs": [],
   "source": [
    "# distance(torch.rand(1,128), torch.rand(64,128))"
   ]
  },
  {
   "cell_type": "code",
   "execution_count": 59,
   "id": "9f8f6365-a49e-4834-bb75-12c306378a4d",
   "metadata": {},
   "outputs": [],
   "source": [
    "# mask = torch.Tensor(np.load(test_triplet_df[\"neg\"][6], allow_pickle=True)).view(1,1,128,128)"
   ]
  },
  {
   "cell_type": "code",
   "execution_count": 60,
   "id": "4e3b637e-40ca-4713-bb0e-2b0126dc6a00",
   "metadata": {},
   "outputs": [],
   "source": [
    "# mask_emb = net.sim_model(mask.cuda()).cpu().detach()"
   ]
  },
  {
   "cell_type": "code",
   "execution_count": 61,
   "id": "606bb1de-5e9c-4fcb-aff7-72d702a7fd44",
   "metadata": {},
   "outputs": [],
   "source": [
    "# mask_emb.shape"
   ]
  },
  {
   "cell_type": "code",
   "execution_count": 62,
   "id": "f7d1002b-c3fc-43a6-8296-f7494181c80a",
   "metadata": {},
   "outputs": [],
   "source": [
    "# for i in range(30, 64):\n",
    "#     sv.plot_images_grid(\n",
    "#         images=[anchor_0[i][0].cpu().detach().numpy(), pos_0[i][0].cpu().detach().numpy(), neg_0[i][0].cpu().detach().numpy()],\n",
    "#         grid_size=(1,3),\n",
    "#         titles=[\"anchor\", \"pos\", \"neg\"]\n",
    "#     )"
   ]
  },
  {
   "cell_type": "code",
   "execution_count": 63,
   "id": "2385427a-41eb-4967-ae32-6c1f8e09bfa5",
   "metadata": {},
   "outputs": [],
   "source": [
    "# comps = []\n",
    "# poses=[]\n",
    "# negs=[]\n",
    "# pos=[]\n",
    "# neg=[]\n",
    "# for i in range(0, 700,10):\n",
    "#     for j in range(i,i+10):\n",
    "#         mask = torch.Tensor(np.load(train_comp_df[\"mask\"][j], allow_pickle=True)).view(1,128,128)\n",
    "#         gt_mask = torch.Tensor(np.load(train_comp_df[\"gt_mask\"][j], allow_pickle=True)).view(1,128,128)\n",
    "#         if net.get_similarity(mask, gt_mask).squeeze()>0.5:\n",
    "#             pos.append(j)\n",
    "#         if net.get_similarity(mask, gt_mask).squeeze()<=0.5:\n",
    "#             neg.append(j)\n",
    "#     if len(pos) >0 and len(neg) >0:\n",
    "#         # print(\"pos:\",pos,\"neg:\",neg)\n",
    "#         poses.append(pos)\n",
    "#         negs.append(neg)\n",
    "#     pos=[]\n",
    "#     neg=[]\n",
    "\n",
    "# comp = []\n",
    "# for pos, neg in zip(poses, negs):\n",
    "#     for p in pos:\n",
    "#         for n in neg:\n",
    "#             comp.append((p,n))\n",
    "\n",
    "# pos_paths=[]\n",
    "# neg_paths=[]\n",
    "# gt_paths=[]\n",
    "# for com in comp:\n",
    "#     pos_paths.append(comp_df[\"mask\"][com[0]])\n",
    "#     neg_paths.append(comp_df[\"mask\"][com[1]])\n",
    "#     gt_paths.append(comp_df[\"gt_mask\"][com[1]])\n",
    "\n",
    "\n",
    "# train_triplet_df = pd.DataFrame({\"pos\":pos_paths,\n",
    "#                           \"neg\":neg_paths,\n",
    "#                           \"anchor\":gt_paths})"
   ]
  },
  {
   "cell_type": "code",
   "execution_count": 64,
   "id": "1aed1d8c-819f-4b89-9f28-73459a37601d",
   "metadata": {},
   "outputs": [
    {
     "data": {
      "text/plain": [
       "23"
      ]
     },
     "execution_count": 64,
     "metadata": {},
     "output_type": "execute_result"
    }
   ],
   "source": [
    "len(set(pos_paths))"
   ]
  },
  {
   "cell_type": "code",
   "execution_count": 65,
   "id": "27553b9f-1cf0-4167-ae93-dcf4fc9b354e",
   "metadata": {},
   "outputs": [
    {
     "data": {
      "text/plain": [
       "37"
      ]
     },
     "execution_count": 65,
     "metadata": {},
     "output_type": "execute_result"
    }
   ],
   "source": [
    "len(set(neg_paths))"
   ]
  },
  {
   "cell_type": "code",
   "execution_count": 66,
   "id": "106fd410-aed5-42d0-a47c-10e053e33d41",
   "metadata": {},
   "outputs": [
    {
     "data": {
      "text/plain": [
       "225"
      ]
     },
     "execution_count": 66,
     "metadata": {},
     "output_type": "execute_result"
    }
   ],
   "source": [
    "len(train_triplet_df)"
   ]
  },
  {
   "cell_type": "code",
   "execution_count": 67,
   "id": "520b8d1b-0977-4718-b5c2-0937417b1ba9",
   "metadata": {},
   "outputs": [],
   "source": [
    "# comps = []\n",
    "# poses=[]\n",
    "# negs=[]\n",
    "# pos=[]\n",
    "# neg=[]\n",
    "# for i in range(0, 300,10):\n",
    "#     for j in range(i,i+10):\n",
    "#         mask = torch.Tensor(np.load(test_comp_df[\"mask\"][j], allow_pickle=True)).view(1,128,128)\n",
    "#         gt_mask = torch.Tensor(np.load(test_comp_df[\"gt_mask\"][j], allow_pickle=True)).view(1,128,128)\n",
    "#         if net.get_similarity(mask, gt_mask).squeeze()>0.5:\n",
    "#             pos.append(j)\n",
    "#         if net.get_similarity(mask, gt_mask).squeeze()<=0.5:\n",
    "#             neg.append(j)\n",
    "#     if len(pos) >0 and len(neg) >0:\n",
    "#         # print(\"pos:\",pos,\"neg:\",neg)\n",
    "#         poses.append(pos)\n",
    "#         negs.append(neg)\n",
    "#     pos=[]\n",
    "#     neg=[]\n",
    "\n",
    "# comp = []\n",
    "# for pos, neg in zip(poses, negs):\n",
    "#     for p in pos:\n",
    "#         for n in neg:\n",
    "#             comp.append((p,n))\n",
    "\n",
    "\n",
    "# pos_paths=[]\n",
    "# neg_paths=[]\n",
    "# gt_paths=[]\n",
    "# for com in comp:\n",
    "#     pos_paths.append(test_comp_df[\"mask\"][com[0]])\n",
    "#     neg_paths.append(test_comp_df[\"mask\"][com[1]])\n",
    "#     gt_paths.append(test_comp_df[\"gt_mask\"][com[1]])\n",
    "\n",
    "# test_triplet_df = pd.DataFrame({\"pos\":pos_paths,\n",
    "#                           \"neg\":neg_paths,\n",
    "#                           \"anchor\":gt_paths})"
   ]
  },
  {
   "cell_type": "code",
   "execution_count": 68,
   "id": "41bf3169-31f1-4b28-bab2-454c73e672cc",
   "metadata": {},
   "outputs": [
    {
     "data": {
      "text/plain": [
       "23"
      ]
     },
     "execution_count": 68,
     "metadata": {},
     "output_type": "execute_result"
    }
   ],
   "source": [
    "len(set(pos_paths))"
   ]
  },
  {
   "cell_type": "code",
   "execution_count": 69,
   "id": "499f4697-369b-467b-8b35-ef52333d492c",
   "metadata": {},
   "outputs": [
    {
     "data": {
      "text/plain": [
       "37"
      ]
     },
     "execution_count": 69,
     "metadata": {},
     "output_type": "execute_result"
    }
   ],
   "source": [
    "len(set(neg_paths))"
   ]
  },
  {
   "cell_type": "code",
   "execution_count": 70,
   "id": "7c651e1c-d035-479c-a467-7af47f99d01d",
   "metadata": {},
   "outputs": [
    {
     "data": {
      "text/plain": [
       "73"
      ]
     },
     "execution_count": 70,
     "metadata": {},
     "output_type": "execute_result"
    }
   ],
   "source": [
    "len(test_triplet_df)"
   ]
  },
  {
   "cell_type": "code",
   "execution_count": 71,
   "id": "f4cd909d-df08-4acd-8048-c61f70c3cdea",
   "metadata": {},
   "outputs": [],
   "source": [
    "# train_triplet_df.to_csv(dataframes_path+\"train_triplet_df.csv\")\n",
    "# test_triplet_df.to_csv(dataframes_path+\"test_triplet_df.csv\")"
   ]
  },
  {
   "cell_type": "code",
   "execution_count": 72,
   "id": "0f35a6d2-68b0-46b8-9df7-1de0962ef109",
   "metadata": {},
   "outputs": [],
   "source": [
    "# print(\"Pred\", \"||\", \"GT\")\n",
    "# for x,y in zip(pred_sims, gt_sims):\n",
    "#     print(x.cpu().squeeze(), \"||\", y)\n",
    "    "
   ]
  },
  {
   "cell_type": "code",
   "execution_count": null,
   "id": "cb97a5df-ced9-43a5-8654-f454f4993009",
   "metadata": {},
   "outputs": [],
   "source": []
  }
 ],
 "metadata": {
  "kernelspec": {
   "display_name": "Python [conda env:myenv]",
   "language": "python",
   "name": "conda-env-myenv-py"
  },
  "language_info": {
   "codemirror_mode": {
    "name": "ipython",
    "version": 3
   },
   "file_extension": ".py",
   "mimetype": "text/x-python",
   "name": "python",
   "nbconvert_exporter": "python",
   "pygments_lexer": "ipython3",
   "version": "3.9.18"
  }
 },
 "nbformat": 4,
 "nbformat_minor": 5
}
