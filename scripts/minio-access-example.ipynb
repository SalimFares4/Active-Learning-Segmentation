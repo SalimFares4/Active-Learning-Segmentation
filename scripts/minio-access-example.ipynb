{
 "cells": [
  {
   "cell_type": "markdown",
   "id": "ff57d687",
   "metadata": {},
   "source": [
    "# Introduction\n",
    "You can find a web interface for MinIO at [console.share.pads.fim.uni-passau.de](https://console.share.pads.fim.uni-passau.de/).\n",
    "Create a service account under /account to obtain an **access key** and a **secret key**. These have to immediately noted down (but you can create multiple such pairs). They are used as access credentials with a MinIO client."
   ]
  },
  {
   "cell_type": "markdown",
   "id": "77c58b2c",
   "metadata": {},
   "source": [
    "# Imports"
   ]
  },
  {
   "cell_type": "code",
   "execution_count": 65,
   "id": "cf5bbc18",
   "metadata": {},
   "outputs": [],
   "source": [
    "import os\n",
    "import json\n",
    "import s3fs\n",
    "import uuid\n",
    "import requests\n",
    "import pandas as pd\n",
    "\n",
    "from tqdm import tqdm\n",
    "from minio import Minio\n",
    "from minio.error import S3Error"
   ]
  },
  {
   "cell_type": "markdown",
   "id": "b3c10194",
   "metadata": {},
   "source": [
    "# Obtaining an MinIO Access Token\n",
    "- links to the infrastructure\n",
    "- link to the wiki explaining that as well\n",
    "- OAuth2 reference"
   ]
  },
  {
   "cell_type": "code",
   "execution_count": 77,
   "id": "7e0fcf06",
   "metadata": {},
   "outputs": [],
   "source": [
    "MINIO_ACCESS_KEY = os.getenv(\"MINIO_ACCESS_KEY\")\n",
    "MINIO_SECRET_KEY = os.getenv(\"MINIO_SECRET_KEY\")\n",
    "config_access = {\n",
    "    \"accesskey\": MINIO_ACCESS_KEY,\n",
    "    \"secretkey\": MINIO_SECRET_KEY,\n",
    "    \"endpoint\": \"https://share.innkube.fim.uni-passau.de/\",\n",
    "}"
   ]
  },
  {
   "cell_type": "code",
   "execution_count": 78,
   "id": "ada7fe16",
   "metadata": {},
   "outputs": [
    {
     "data": {
      "text/plain": [
       "'Swbbp1T9AMXHrqzwteHU'"
      ]
     },
     "execution_count": 78,
     "metadata": {},
     "output_type": "execute_result"
    }
   ],
   "source": [
    "config_access[\"accesskey\"]"
   ]
  },
  {
   "cell_type": "code",
   "execution_count": 79,
   "id": "439535df",
   "metadata": {},
   "outputs": [],
   "source": [
    "path_pads_config = os.path.join(os.path.expanduser(\"~\"), \".pypads\", \"access-minio.json\")"
   ]
  },
  {
   "cell_type": "code",
   "execution_count": 80,
   "id": "0e5e5e51",
   "metadata": {},
   "outputs": [
    {
     "name": "stdout",
     "output_type": "stream",
     "text": [
      "Do not forget to deactivate this cell again via the above `if True` condition.\n"
     ]
    }
   ],
   "source": [
    "if True:  # Set this to true to remove your local configuration file\n",
    "    os.remove(path_pads_config)\n",
    "    print(\"Do not forget to deactivate this cell again via the above `if True` condition.\")"
   ]
  },
  {
   "cell_type": "code",
   "execution_count": 81,
   "id": "20ac8171",
   "metadata": {},
   "outputs": [
    {
     "name": "stdout",
     "output_type": "stream",
     "text": [
      "Endpoint in your access configuration is set to\n",
      "\thttps://console.share.innkube.fim.uni-passau.de/\n",
      "Written access config to '/root/.pypads/access-minio.json'.\n"
     ]
    }
   ],
   "source": [
    "overwrite = False\n",
    "if not os.path.exists(path_pads_config):\n",
    "    overwrite = True\n",
    "    path_pads_base = os.path.dirname(path_pads_config)\n",
    "    if not os.path.exists(path_pads_base):\n",
    "        os.makedirs(path_pads_base)\n",
    "else:\n",
    "    with open(path_pads_config, \"r\") as handle_read_pads_config:\n",
    "        config_access = json.load(handle_read_pads_config)\n",
    "\n",
    "print(\"Endpoint in your access configuration is set to\\n\\t%s\" % config_access[\"endpoint\"])\n",
    "\n",
    "if config_access[\"accesskey\"] is None or config_access[\"accesskey\"] == \"\":\n",
    "    print(\"WARNING: your accesskey is currently not set in %s\" % path_pads_config)\n",
    "    overwrite = True\n",
    "if config_access[\"secretkey\"] is None or config_access[\"secretkey\"] == \"\":\n",
    "    print(\"WARNING: your secretkey is currently not set in %s\" % path_pads_config)\n",
    "    overwrite = True\n",
    "    \n",
    "if overwrite:\n",
    "    with open(path_pads_config, \"w+\") as handle_write_pads_config:\n",
    "        json.dump(config_access, handle_write_pads_config)\n",
    "        print(\"Written access config to '%s'.\" % path_pads_config)\n",
    "\n",
    "accesskey = config_access[\"accesskey\"]\n",
    "secretkey = config_access[\"secretkey\"]"
   ]
  },
  {
   "cell_type": "markdown",
   "id": "4d8df970",
   "metadata": {},
   "source": [
    "# Connect to MinIO with S3FileSystem Client"
   ]
  },
  {
   "cell_type": "code",
   "execution_count": 91,
   "id": "361d20a4",
   "metadata": {},
   "outputs": [],
   "source": [
    "s3 = s3fs.S3FileSystem(\n",
    "    key=accesskey,\n",
    "    secret=secretkey,\n",
    "    use_ssl=True,\n",
    "    client_kwargs={\n",
    "      \"region_name\"       : \"Europe\",\n",
    "      \"endpoint_url\": \"https://share.innkube.fim.uni-passau.de/\"\n",
    "    }\n",
    ")"
   ]
  },
  {
   "cell_type": "code",
   "execution_count": 92,
   "id": "0ab48f81",
   "metadata": {},
   "outputs": [
    {
     "ename": "PermissionError",
     "evalue": "Access Denied.",
     "output_type": "error",
     "traceback": [
      "\u001b[0;31m---------------------------------------------------------------------------\u001b[0m",
      "\u001b[0;31mClientError\u001b[0m                               Traceback (most recent call last)",
      "File \u001b[0;32m/opt/conda/envs/al_env/lib/python3.9/site-packages/s3fs/core.py:706\u001b[0m, in \u001b[0;36mS3FileSystem._lsdir\u001b[0;34m(self, path, refresh, max_items, delimiter, prefix, versions)\u001b[0m\n\u001b[1;32m    705\u001b[0m files \u001b[38;5;241m=\u001b[39m []\n\u001b[0;32m--> 706\u001b[0m \u001b[38;5;28;01masync\u001b[39;00m \u001b[38;5;28;01mfor\u001b[39;00m c \u001b[38;5;129;01min\u001b[39;00m \u001b[38;5;28mself\u001b[39m\u001b[38;5;241m.\u001b[39m_iterdir(\n\u001b[1;32m    707\u001b[0m     bucket,\n\u001b[1;32m    708\u001b[0m     max_items\u001b[38;5;241m=\u001b[39mmax_items,\n\u001b[1;32m    709\u001b[0m     delimiter\u001b[38;5;241m=\u001b[39mdelimiter,\n\u001b[1;32m    710\u001b[0m     prefix\u001b[38;5;241m=\u001b[39mprefix,\n\u001b[1;32m    711\u001b[0m     versions\u001b[38;5;241m=\u001b[39mversions,\n\u001b[1;32m    712\u001b[0m ):\n\u001b[1;32m    713\u001b[0m     \u001b[38;5;28;01mif\u001b[39;00m c[\u001b[38;5;124m\"\u001b[39m\u001b[38;5;124mtype\u001b[39m\u001b[38;5;124m\"\u001b[39m] \u001b[38;5;241m==\u001b[39m \u001b[38;5;124m\"\u001b[39m\u001b[38;5;124mdirectory\u001b[39m\u001b[38;5;124m\"\u001b[39m:\n",
      "File \u001b[0;32m/opt/conda/envs/al_env/lib/python3.9/site-packages/s3fs/core.py:756\u001b[0m, in \u001b[0;36mS3FileSystem._iterdir\u001b[0;34m(self, bucket, max_items, delimiter, prefix, versions)\u001b[0m\n\u001b[1;32m    749\u001b[0m it \u001b[38;5;241m=\u001b[39m pag\u001b[38;5;241m.\u001b[39mpaginate(\n\u001b[1;32m    750\u001b[0m     Bucket\u001b[38;5;241m=\u001b[39mbucket,\n\u001b[1;32m    751\u001b[0m     Prefix\u001b[38;5;241m=\u001b[39mprefix,\n\u001b[0;32m   (...)\u001b[0m\n\u001b[1;32m    754\u001b[0m     \u001b[38;5;241m*\u001b[39m\u001b[38;5;241m*\u001b[39m\u001b[38;5;28mself\u001b[39m\u001b[38;5;241m.\u001b[39mreq_kw,\n\u001b[1;32m    755\u001b[0m )\n\u001b[0;32m--> 756\u001b[0m \u001b[38;5;28;01masync\u001b[39;00m \u001b[38;5;28;01mfor\u001b[39;00m i \u001b[38;5;129;01min\u001b[39;00m it:\n\u001b[1;32m    757\u001b[0m     \u001b[38;5;28;01mfor\u001b[39;00m l \u001b[38;5;129;01min\u001b[39;00m i\u001b[38;5;241m.\u001b[39mget(\u001b[38;5;124m\"\u001b[39m\u001b[38;5;124mCommonPrefixes\u001b[39m\u001b[38;5;124m\"\u001b[39m, []):\n",
      "File \u001b[0;32m/opt/conda/envs/al_env/lib/python3.9/site-packages/aiobotocore/paginate.py:30\u001b[0m, in \u001b[0;36mAioPageIterator.__anext__\u001b[0;34m(self)\u001b[0m\n\u001b[1;32m     29\u001b[0m \u001b[38;5;28;01mwhile\u001b[39;00m \u001b[38;5;28;01mTrue\u001b[39;00m:\n\u001b[0;32m---> 30\u001b[0m     response \u001b[38;5;241m=\u001b[39m \u001b[38;5;28;01mawait\u001b[39;00m \u001b[38;5;28mself\u001b[39m\u001b[38;5;241m.\u001b[39m_make_request(current_kwargs)\n\u001b[1;32m     31\u001b[0m     parsed \u001b[38;5;241m=\u001b[39m \u001b[38;5;28mself\u001b[39m\u001b[38;5;241m.\u001b[39m_extract_parsed_response(response)\n",
      "File \u001b[0;32m/opt/conda/envs/al_env/lib/python3.9/site-packages/aiobotocore/client.py:408\u001b[0m, in \u001b[0;36mAioBaseClient._make_api_call\u001b[0;34m(self, operation_name, api_params)\u001b[0m\n\u001b[1;32m    407\u001b[0m     error_class \u001b[38;5;241m=\u001b[39m \u001b[38;5;28mself\u001b[39m\u001b[38;5;241m.\u001b[39mexceptions\u001b[38;5;241m.\u001b[39mfrom_code(error_code)\n\u001b[0;32m--> 408\u001b[0m     \u001b[38;5;28;01mraise\u001b[39;00m error_class(parsed_response, operation_name)\n\u001b[1;32m    409\u001b[0m \u001b[38;5;28;01melse\u001b[39;00m:\n",
      "\u001b[0;31mClientError\u001b[0m: An error occurred (AccessDenied) when calling the ListObjectsV2 operation: Access Denied.",
      "\nThe above exception was the direct cause of the following exception:\n",
      "\u001b[0;31mPermissionError\u001b[0m                           Traceback (most recent call last)",
      "Cell \u001b[0;32mIn[92], line 1\u001b[0m\n\u001b[0;32m----> 1\u001b[0m files \u001b[38;5;241m=\u001b[39m \u001b[43ms3\u001b[49m\u001b[38;5;241;43m.\u001b[39;49m\u001b[43mls\u001b[49m\u001b[43m(\u001b[49m\u001b[38;5;124;43m\"\u001b[39;49m\u001b[38;5;124;43mpublic\u001b[39;49m\u001b[38;5;124;43m\"\u001b[39;49m\u001b[43m)\u001b[49m\n",
      "File \u001b[0;32m/opt/conda/envs/al_env/lib/python3.9/site-packages/fsspec/asyn.py:118\u001b[0m, in \u001b[0;36msync_wrapper.<locals>.wrapper\u001b[0;34m(*args, **kwargs)\u001b[0m\n\u001b[1;32m    115\u001b[0m \u001b[38;5;129m@functools\u001b[39m\u001b[38;5;241m.\u001b[39mwraps(func)\n\u001b[1;32m    116\u001b[0m \u001b[38;5;28;01mdef\u001b[39;00m \u001b[38;5;21mwrapper\u001b[39m(\u001b[38;5;241m*\u001b[39margs, \u001b[38;5;241m*\u001b[39m\u001b[38;5;241m*\u001b[39mkwargs):\n\u001b[1;32m    117\u001b[0m     \u001b[38;5;28mself\u001b[39m \u001b[38;5;241m=\u001b[39m obj \u001b[38;5;129;01mor\u001b[39;00m args[\u001b[38;5;241m0\u001b[39m]\n\u001b[0;32m--> 118\u001b[0m     \u001b[38;5;28;01mreturn\u001b[39;00m \u001b[43msync\u001b[49m\u001b[43m(\u001b[49m\u001b[38;5;28;43mself\u001b[39;49m\u001b[38;5;241;43m.\u001b[39;49m\u001b[43mloop\u001b[49m\u001b[43m,\u001b[49m\u001b[43m \u001b[49m\u001b[43mfunc\u001b[49m\u001b[43m,\u001b[49m\u001b[43m \u001b[49m\u001b[38;5;241;43m*\u001b[39;49m\u001b[43margs\u001b[49m\u001b[43m,\u001b[49m\u001b[43m \u001b[49m\u001b[38;5;241;43m*\u001b[39;49m\u001b[38;5;241;43m*\u001b[39;49m\u001b[43mkwargs\u001b[49m\u001b[43m)\u001b[49m\n",
      "File \u001b[0;32m/opt/conda/envs/al_env/lib/python3.9/site-packages/fsspec/asyn.py:103\u001b[0m, in \u001b[0;36msync\u001b[0;34m(loop, func, timeout, *args, **kwargs)\u001b[0m\n\u001b[1;32m    101\u001b[0m     \u001b[38;5;28;01mraise\u001b[39;00m FSTimeoutError \u001b[38;5;28;01mfrom\u001b[39;00m \u001b[38;5;21;01mreturn_result\u001b[39;00m\n\u001b[1;32m    102\u001b[0m \u001b[38;5;28;01melif\u001b[39;00m \u001b[38;5;28misinstance\u001b[39m(return_result, \u001b[38;5;167;01mBaseException\u001b[39;00m):\n\u001b[0;32m--> 103\u001b[0m     \u001b[38;5;28;01mraise\u001b[39;00m return_result\n\u001b[1;32m    104\u001b[0m \u001b[38;5;28;01melse\u001b[39;00m:\n\u001b[1;32m    105\u001b[0m     \u001b[38;5;28;01mreturn\u001b[39;00m return_result\n",
      "File \u001b[0;32m/opt/conda/envs/al_env/lib/python3.9/site-packages/fsspec/asyn.py:56\u001b[0m, in \u001b[0;36m_runner\u001b[0;34m(event, coro, result, timeout)\u001b[0m\n\u001b[1;32m     54\u001b[0m     coro \u001b[38;5;241m=\u001b[39m asyncio\u001b[38;5;241m.\u001b[39mwait_for(coro, timeout\u001b[38;5;241m=\u001b[39mtimeout)\n\u001b[1;32m     55\u001b[0m \u001b[38;5;28;01mtry\u001b[39;00m:\n\u001b[0;32m---> 56\u001b[0m     result[\u001b[38;5;241m0\u001b[39m] \u001b[38;5;241m=\u001b[39m \u001b[38;5;28;01mawait\u001b[39;00m coro\n\u001b[1;32m     57\u001b[0m \u001b[38;5;28;01mexcept\u001b[39;00m \u001b[38;5;167;01mException\u001b[39;00m \u001b[38;5;28;01mas\u001b[39;00m ex:\n\u001b[1;32m     58\u001b[0m     result[\u001b[38;5;241m0\u001b[39m] \u001b[38;5;241m=\u001b[39m ex\n",
      "File \u001b[0;32m/opt/conda/envs/al_env/lib/python3.9/site-packages/s3fs/core.py:985\u001b[0m, in \u001b[0;36mS3FileSystem._ls\u001b[0;34m(self, path, detail, refresh, versions)\u001b[0m\n\u001b[1;32m    983\u001b[0m     files \u001b[38;5;241m=\u001b[39m \u001b[38;5;28;01mawait\u001b[39;00m \u001b[38;5;28mself\u001b[39m\u001b[38;5;241m.\u001b[39m_lsbuckets(refresh)\n\u001b[1;32m    984\u001b[0m \u001b[38;5;28;01melse\u001b[39;00m:\n\u001b[0;32m--> 985\u001b[0m     files \u001b[38;5;241m=\u001b[39m \u001b[38;5;28;01mawait\u001b[39;00m \u001b[38;5;28mself\u001b[39m\u001b[38;5;241m.\u001b[39m_lsdir(path, refresh, versions\u001b[38;5;241m=\u001b[39mversions)\n\u001b[1;32m    986\u001b[0m     \u001b[38;5;28;01mif\u001b[39;00m \u001b[38;5;129;01mnot\u001b[39;00m files \u001b[38;5;129;01mand\u001b[39;00m \u001b[38;5;124m\"\u001b[39m\u001b[38;5;124m/\u001b[39m\u001b[38;5;124m\"\u001b[39m \u001b[38;5;129;01min\u001b[39;00m path:\n\u001b[1;32m    987\u001b[0m         files \u001b[38;5;241m=\u001b[39m \u001b[38;5;28;01mawait\u001b[39;00m \u001b[38;5;28mself\u001b[39m\u001b[38;5;241m.\u001b[39m_lsdir(\n\u001b[1;32m    988\u001b[0m             \u001b[38;5;28mself\u001b[39m\u001b[38;5;241m.\u001b[39m_parent(path), refresh\u001b[38;5;241m=\u001b[39mrefresh, versions\u001b[38;5;241m=\u001b[39mversions\n\u001b[1;32m    989\u001b[0m         )\n",
      "File \u001b[0;32m/opt/conda/envs/al_env/lib/python3.9/site-packages/s3fs/core.py:719\u001b[0m, in \u001b[0;36mS3FileSystem._lsdir\u001b[0;34m(self, path, refresh, max_items, delimiter, prefix, versions)\u001b[0m\n\u001b[1;32m    717\u001b[0m     files \u001b[38;5;241m+\u001b[39m\u001b[38;5;241m=\u001b[39m dirs\n\u001b[1;32m    718\u001b[0m \u001b[38;5;28;01mexcept\u001b[39;00m ClientError \u001b[38;5;28;01mas\u001b[39;00m e:\n\u001b[0;32m--> 719\u001b[0m     \u001b[38;5;28;01mraise\u001b[39;00m translate_boto_error(e)\n\u001b[1;32m    721\u001b[0m \u001b[38;5;28;01mif\u001b[39;00m delimiter \u001b[38;5;129;01mand\u001b[39;00m files \u001b[38;5;129;01mand\u001b[39;00m \u001b[38;5;129;01mnot\u001b[39;00m versions:\n\u001b[1;32m    722\u001b[0m     \u001b[38;5;28mself\u001b[39m\u001b[38;5;241m.\u001b[39mdircache[path] \u001b[38;5;241m=\u001b[39m files\n",
      "\u001b[0;31mPermissionError\u001b[0m: Access Denied."
     ]
    }
   ],
   "source": [
    "files = s3.ls(\"public\")"
   ]
  },
  {
   "cell_type": "code",
   "execution_count": 83,
   "id": "d966e358",
   "metadata": {},
   "outputs": [
    {
     "ename": "OSError",
     "evalue": "[Errno 22] S3 API Requests must be made to API port.",
     "output_type": "error",
     "traceback": [
      "\u001b[0;31m---------------------------------------------------------------------------\u001b[0m",
      "\u001b[0;31mClientError\u001b[0m                               Traceback (most recent call last)",
      "File \u001b[0;32m/opt/conda/envs/al_env/lib/python3.9/site-packages/s3fs/core.py:113\u001b[0m, in \u001b[0;36m_error_wrapper\u001b[0;34m(func, args, kwargs, retries)\u001b[0m\n\u001b[1;32m    112\u001b[0m \u001b[38;5;28;01mtry\u001b[39;00m:\n\u001b[0;32m--> 113\u001b[0m     \u001b[38;5;28;01mreturn\u001b[39;00m \u001b[38;5;28;01mawait\u001b[39;00m func(\u001b[38;5;241m*\u001b[39margs, \u001b[38;5;241m*\u001b[39m\u001b[38;5;241m*\u001b[39mkwargs)\n\u001b[1;32m    114\u001b[0m \u001b[38;5;28;01mexcept\u001b[39;00m S3_RETRYABLE_ERRORS \u001b[38;5;28;01mas\u001b[39;00m e:\n",
      "File \u001b[0;32m/opt/conda/envs/al_env/lib/python3.9/site-packages/aiobotocore/client.py:408\u001b[0m, in \u001b[0;36mAioBaseClient._make_api_call\u001b[0;34m(self, operation_name, api_params)\u001b[0m\n\u001b[1;32m    407\u001b[0m     error_class \u001b[38;5;241m=\u001b[39m \u001b[38;5;28mself\u001b[39m\u001b[38;5;241m.\u001b[39mexceptions\u001b[38;5;241m.\u001b[39mfrom_code(error_code)\n\u001b[0;32m--> 408\u001b[0m     \u001b[38;5;28;01mraise\u001b[39;00m error_class(parsed_response, operation_name)\n\u001b[1;32m    409\u001b[0m \u001b[38;5;28;01melse\u001b[39;00m:\n",
      "\u001b[0;31mClientError\u001b[0m: An error occurred (InvalidArgument) when calling the ListBuckets operation: S3 API Requests must be made to API port.",
      "\nThe above exception was the direct cause of the following exception:\n",
      "\u001b[0;31mOSError\u001b[0m                                   Traceback (most recent call last)",
      "Cell \u001b[0;32mIn[83], line 1\u001b[0m\n\u001b[0;32m----> 1\u001b[0m \u001b[43ms3\u001b[49m\u001b[38;5;241;43m.\u001b[39;49m\u001b[43mls\u001b[49m\u001b[43m(\u001b[49m\u001b[38;5;124;43m\"\u001b[39;49m\u001b[38;5;124;43m/\u001b[39;49m\u001b[38;5;124;43m\"\u001b[39;49m\u001b[43m)\u001b[49m\n",
      "File \u001b[0;32m/opt/conda/envs/al_env/lib/python3.9/site-packages/fsspec/asyn.py:118\u001b[0m, in \u001b[0;36msync_wrapper.<locals>.wrapper\u001b[0;34m(*args, **kwargs)\u001b[0m\n\u001b[1;32m    115\u001b[0m \u001b[38;5;129m@functools\u001b[39m\u001b[38;5;241m.\u001b[39mwraps(func)\n\u001b[1;32m    116\u001b[0m \u001b[38;5;28;01mdef\u001b[39;00m \u001b[38;5;21mwrapper\u001b[39m(\u001b[38;5;241m*\u001b[39margs, \u001b[38;5;241m*\u001b[39m\u001b[38;5;241m*\u001b[39mkwargs):\n\u001b[1;32m    117\u001b[0m     \u001b[38;5;28mself\u001b[39m \u001b[38;5;241m=\u001b[39m obj \u001b[38;5;129;01mor\u001b[39;00m args[\u001b[38;5;241m0\u001b[39m]\n\u001b[0;32m--> 118\u001b[0m     \u001b[38;5;28;01mreturn\u001b[39;00m \u001b[43msync\u001b[49m\u001b[43m(\u001b[49m\u001b[38;5;28;43mself\u001b[39;49m\u001b[38;5;241;43m.\u001b[39;49m\u001b[43mloop\u001b[49m\u001b[43m,\u001b[49m\u001b[43m \u001b[49m\u001b[43mfunc\u001b[49m\u001b[43m,\u001b[49m\u001b[43m \u001b[49m\u001b[38;5;241;43m*\u001b[39;49m\u001b[43margs\u001b[49m\u001b[43m,\u001b[49m\u001b[43m \u001b[49m\u001b[38;5;241;43m*\u001b[39;49m\u001b[38;5;241;43m*\u001b[39;49m\u001b[43mkwargs\u001b[49m\u001b[43m)\u001b[49m\n",
      "File \u001b[0;32m/opt/conda/envs/al_env/lib/python3.9/site-packages/fsspec/asyn.py:103\u001b[0m, in \u001b[0;36msync\u001b[0;34m(loop, func, timeout, *args, **kwargs)\u001b[0m\n\u001b[1;32m    101\u001b[0m     \u001b[38;5;28;01mraise\u001b[39;00m FSTimeoutError \u001b[38;5;28;01mfrom\u001b[39;00m \u001b[38;5;21;01mreturn_result\u001b[39;00m\n\u001b[1;32m    102\u001b[0m \u001b[38;5;28;01melif\u001b[39;00m \u001b[38;5;28misinstance\u001b[39m(return_result, \u001b[38;5;167;01mBaseException\u001b[39;00m):\n\u001b[0;32m--> 103\u001b[0m     \u001b[38;5;28;01mraise\u001b[39;00m return_result\n\u001b[1;32m    104\u001b[0m \u001b[38;5;28;01melse\u001b[39;00m:\n\u001b[1;32m    105\u001b[0m     \u001b[38;5;28;01mreturn\u001b[39;00m return_result\n",
      "File \u001b[0;32m/opt/conda/envs/al_env/lib/python3.9/site-packages/fsspec/asyn.py:56\u001b[0m, in \u001b[0;36m_runner\u001b[0;34m(event, coro, result, timeout)\u001b[0m\n\u001b[1;32m     54\u001b[0m     coro \u001b[38;5;241m=\u001b[39m asyncio\u001b[38;5;241m.\u001b[39mwait_for(coro, timeout\u001b[38;5;241m=\u001b[39mtimeout)\n\u001b[1;32m     55\u001b[0m \u001b[38;5;28;01mtry\u001b[39;00m:\n\u001b[0;32m---> 56\u001b[0m     result[\u001b[38;5;241m0\u001b[39m] \u001b[38;5;241m=\u001b[39m \u001b[38;5;28;01mawait\u001b[39;00m coro\n\u001b[1;32m     57\u001b[0m \u001b[38;5;28;01mexcept\u001b[39;00m \u001b[38;5;167;01mException\u001b[39;00m \u001b[38;5;28;01mas\u001b[39;00m ex:\n\u001b[1;32m     58\u001b[0m     result[\u001b[38;5;241m0\u001b[39m] \u001b[38;5;241m=\u001b[39m ex\n",
      "File \u001b[0;32m/opt/conda/envs/al_env/lib/python3.9/site-packages/s3fs/core.py:983\u001b[0m, in \u001b[0;36mS3FileSystem._ls\u001b[0;34m(self, path, detail, refresh, versions)\u001b[0m\n\u001b[1;32m    981\u001b[0m path \u001b[38;5;241m=\u001b[39m \u001b[38;5;28mself\u001b[39m\u001b[38;5;241m.\u001b[39m_strip_protocol(path)\u001b[38;5;241m.\u001b[39mrstrip(\u001b[38;5;124m\"\u001b[39m\u001b[38;5;124m/\u001b[39m\u001b[38;5;124m\"\u001b[39m)\n\u001b[1;32m    982\u001b[0m \u001b[38;5;28;01mif\u001b[39;00m path \u001b[38;5;129;01min\u001b[39;00m [\u001b[38;5;124m\"\u001b[39m\u001b[38;5;124m\"\u001b[39m, \u001b[38;5;124m\"\u001b[39m\u001b[38;5;124m/\u001b[39m\u001b[38;5;124m\"\u001b[39m]:\n\u001b[0;32m--> 983\u001b[0m     files \u001b[38;5;241m=\u001b[39m \u001b[38;5;28;01mawait\u001b[39;00m \u001b[38;5;28mself\u001b[39m\u001b[38;5;241m.\u001b[39m_lsbuckets(refresh)\n\u001b[1;32m    984\u001b[0m \u001b[38;5;28;01melse\u001b[39;00m:\n\u001b[1;32m    985\u001b[0m     files \u001b[38;5;241m=\u001b[39m \u001b[38;5;28;01mawait\u001b[39;00m \u001b[38;5;28mself\u001b[39m\u001b[38;5;241m.\u001b[39m_lsdir(path, refresh, versions\u001b[38;5;241m=\u001b[39mversions)\n",
      "File \u001b[0;32m/opt/conda/envs/al_env/lib/python3.9/site-packages/s3fs/core.py:950\u001b[0m, in \u001b[0;36mS3FileSystem._lsbuckets\u001b[0;34m(self, refresh)\u001b[0m\n\u001b[1;32m    948\u001b[0m     \u001b[38;5;28;01mreturn\u001b[39;00m []\n\u001b[1;32m    949\u001b[0m \u001b[38;5;28;01mtry\u001b[39;00m:\n\u001b[0;32m--> 950\u001b[0m     files \u001b[38;5;241m=\u001b[39m (\u001b[38;5;28;01mawait\u001b[39;00m \u001b[38;5;28mself\u001b[39m\u001b[38;5;241m.\u001b[39m_call_s3(\u001b[38;5;124m\"\u001b[39m\u001b[38;5;124mlist_buckets\u001b[39m\u001b[38;5;124m\"\u001b[39m))[\u001b[38;5;124m\"\u001b[39m\u001b[38;5;124mBuckets\u001b[39m\u001b[38;5;124m\"\u001b[39m]\n\u001b[1;32m    951\u001b[0m \u001b[38;5;28;01mexcept\u001b[39;00m ClientError:\n\u001b[1;32m    952\u001b[0m     \u001b[38;5;66;03m# listbucket permission missing\u001b[39;00m\n\u001b[1;32m    953\u001b[0m     \u001b[38;5;28;01mreturn\u001b[39;00m []\n",
      "File \u001b[0;32m/opt/conda/envs/al_env/lib/python3.9/site-packages/s3fs/core.py:348\u001b[0m, in \u001b[0;36mS3FileSystem._call_s3\u001b[0;34m(self, method, *akwarglist, **kwargs)\u001b[0m\n\u001b[1;32m    346\u001b[0m logger\u001b[38;5;241m.\u001b[39mdebug(\u001b[38;5;124m\"\u001b[39m\u001b[38;5;124mCALL: \u001b[39m\u001b[38;5;132;01m%s\u001b[39;00m\u001b[38;5;124m - \u001b[39m\u001b[38;5;132;01m%s\u001b[39;00m\u001b[38;5;124m - \u001b[39m\u001b[38;5;132;01m%s\u001b[39;00m\u001b[38;5;124m\"\u001b[39m, method\u001b[38;5;241m.\u001b[39m\u001b[38;5;18m__name__\u001b[39m, akwarglist, kw2)\n\u001b[1;32m    347\u001b[0m additional_kwargs \u001b[38;5;241m=\u001b[39m \u001b[38;5;28mself\u001b[39m\u001b[38;5;241m.\u001b[39m_get_s3_method_kwargs(method, \u001b[38;5;241m*\u001b[39makwarglist, \u001b[38;5;241m*\u001b[39m\u001b[38;5;241m*\u001b[39mkwargs)\n\u001b[0;32m--> 348\u001b[0m \u001b[38;5;28;01mreturn\u001b[39;00m \u001b[38;5;28;01mawait\u001b[39;00m _error_wrapper(\n\u001b[1;32m    349\u001b[0m     method, kwargs\u001b[38;5;241m=\u001b[39madditional_kwargs, retries\u001b[38;5;241m=\u001b[39m\u001b[38;5;28mself\u001b[39m\u001b[38;5;241m.\u001b[39mretries\n\u001b[1;32m    350\u001b[0m )\n",
      "File \u001b[0;32m/opt/conda/envs/al_env/lib/python3.9/site-packages/s3fs/core.py:140\u001b[0m, in \u001b[0;36m_error_wrapper\u001b[0;34m(func, args, kwargs, retries)\u001b[0m\n\u001b[1;32m    138\u001b[0m         err \u001b[38;5;241m=\u001b[39m e\n\u001b[1;32m    139\u001b[0m err \u001b[38;5;241m=\u001b[39m translate_boto_error(err)\n\u001b[0;32m--> 140\u001b[0m \u001b[38;5;28;01mraise\u001b[39;00m err\n",
      "\u001b[0;31mOSError\u001b[0m: [Errno 22] S3 API Requests must be made to API port."
     ]
    }
   ],
   "source": [
    "s3.ls(\"/\")"
   ]
  },
  {
   "cell_type": "code",
   "execution_count": 13,
   "id": "e425b580",
   "metadata": {},
   "outputs": [
    {
     "data": {
      "text/plain": [
       "['homes/stier/abc']"
      ]
     },
     "execution_count": 13,
     "metadata": {},
     "output_type": "execute_result"
    }
   ],
   "source": [
    "s3.ls(\"/homes/stier/\")"
   ]
  },
  {
   "cell_type": "code",
   "execution_count": 14,
   "id": "06743520",
   "metadata": {},
   "outputs": [],
   "source": [
    "def delete_path(path):\n",
    "    name_base = os.path.dirname(path)\n",
    "    if name_base is None or name_base == \"\" or name_base == \"/\":\n",
    "        raise ValueError(\"Do not delete base buckets easily. You passed %s\" % path)\n",
    "    \n",
    "    if not s3.exists(path):\n",
    "        raise FileNotFoundError(\"No such bucket/path %s\" % path)\n",
    "\n",
    "    if s3.isfile(path):\n",
    "        try:\n",
    "            s3.rm(path)\n",
    "        except FileNotFoundError:\n",
    "            pass\n",
    "    else:\n",
    "        for path_file in s3.ls(path, refresh=True):\n",
    "            delete_path(path_file)\n",
    "        if s3.exists(path):\n",
    "            from botocore.exceptions import ParamValidationError\n",
    "            try:\n",
    "                # The bucket might be already removed, then we catch \n",
    "                s3.rmdir(path)\n",
    "            except ParamValidationError:\n",
    "                #print(\"WARNING: failed removing s3 path '%s'\" % path)\n",
    "                s3.rm(path)"
   ]
  },
  {
   "cell_type": "code",
   "execution_count": 15,
   "id": "f553766b",
   "metadata": {},
   "outputs": [
    {
     "data": {
      "text/plain": [
       "[]"
      ]
     },
     "execution_count": 15,
     "metadata": {},
     "output_type": "execute_result"
    }
   ],
   "source": [
    "s3.ls(\"datasets\")"
   ]
  },
  {
   "cell_type": "code",
   "execution_count": 16,
   "id": "d40a48f9",
   "metadata": {},
   "outputs": [
    {
     "data": {
      "text/plain": [
       "{'CreationDate': datetime.datetime(2021, 12, 10, 12, 42, 47, 785000, tzinfo=tzutc()),\n",
       " 'Key': 'datasets',\n",
       " 'Size': 0,\n",
       " 'StorageClass': 'BUCKET',\n",
       " 'size': 0,\n",
       " 'type': 'directory',\n",
       " 'name': 'datasets'}"
      ]
     },
     "execution_count": 16,
     "metadata": {},
     "output_type": "execute_result"
    }
   ],
   "source": [
    "s3.info(\"datasets\")"
   ]
  },
  {
   "cell_type": "code",
   "execution_count": 17,
   "id": "afc72deb",
   "metadata": {},
   "outputs": [],
   "source": [
    "path_base = \"/homes/stier/\"  # Adapt this to your desired base bucket path"
   ]
  },
  {
   "cell_type": "code",
   "execution_count": 18,
   "id": "cce73f08",
   "metadata": {},
   "outputs": [
    {
     "data": {
      "text/plain": [
       "'/homes/stier/demofolder-c73a373e-8800-4796-8712-1fcc9674af82'"
      ]
     },
     "execution_count": 18,
     "metadata": {},
     "output_type": "execute_result"
    }
   ],
   "source": [
    "# Let's create a demo base folder\n",
    "name_demo = str(uuid.uuid4())\n",
    "path_base_demo = os.path.join(path_base, \"demofolder-\" + name_demo)\n",
    "path_base_demo"
   ]
  },
  {
   "cell_type": "code",
   "execution_count": 19,
   "id": "4ec77436",
   "metadata": {
    "scrolled": false
   },
   "outputs": [
    {
     "name": "stdout",
     "output_type": "stream",
     "text": [
      "Bucket /homes/stier/demofolder-c73a373e-8800-4796-8712-1fcc9674af82 created just now.\n"
     ]
    }
   ],
   "source": [
    "# Execute the creation of the base folder and show infos of the bucket\n",
    "try:\n",
    "    s3.mkdir(path_base_demo)\n",
    "    print(\"Bucket %s created just now.\" % path_base_demo)\n",
    "except FileExistsError:\n",
    "    print(\"Bucket %s already created. Did you execute the cell twice?\" % path_base_demo)"
   ]
  },
  {
   "cell_type": "code",
   "execution_count": 20,
   "id": "7b3c07fe",
   "metadata": {},
   "outputs": [
    {
     "name": "stdout",
     "output_type": "stream",
     "text": [
      "Does /homes/stier/demofolder-c73a373e-8800-4796-8712-1fcc9674af82 exist? False\n"
     ]
    }
   ],
   "source": [
    "# A tool to check whether a specific path exists\n",
    "print(\"Does\", path_base_demo, \"exist?\", s3.exists(path_base_demo))"
   ]
  },
  {
   "cell_type": "code",
   "execution_count": 21,
   "id": "f3d779d8",
   "metadata": {},
   "outputs": [
    {
     "name": "stdout",
     "output_type": "stream",
     "text": [
      "/homes/stier/demofolder-c73a373e-8800-4796-8712-1fcc9674af82/empty_file.txt\n",
      "Does /homes/stier/demofolder-c73a373e-8800-4796-8712-1fcc9674af82/empty_file.txt exist? True\n"
     ]
    }
   ],
   "source": [
    "# Create an empty file by 'touching' it\n",
    "file_empty = os.path.join(path_base_demo, \"empty_file.txt\")\n",
    "print(file_empty)\n",
    "s3.touch(file_empty)\n",
    "print(\"Does\", file_empty, \"exist?\", s3.exists(file_empty))"
   ]
  },
  {
   "cell_type": "code",
   "execution_count": 22,
   "id": "7ca1f562",
   "metadata": {},
   "outputs": [
    {
     "name": "stdout",
     "output_type": "stream",
     "text": [
      "Does /homes/stier/demofolder-c73a373e-8800-4796-8712-1fcc9674af82 exist? True\n"
     ]
    },
    {
     "data": {
      "text/plain": [
       "({'Key': 'homes/stier/demofolder-c73a373e-8800-4796-8712-1fcc9674af82',\n",
       "  'name': 'homes/stier/demofolder-c73a373e-8800-4796-8712-1fcc9674af82',\n",
       "  'type': 'directory',\n",
       "  'Size': 0,\n",
       "  'size': 0,\n",
       "  'StorageClass': 'DIRECTORY'},\n",
       " ['homes/stier/demofolder-c73a373e-8800-4796-8712-1fcc9674af82/empty_file.txt'])"
      ]
     },
     "execution_count": 22,
     "metadata": {},
     "output_type": "execute_result"
    }
   ],
   "source": [
    "# Check whether the path now exists\n",
    "print(\"Does\", path_base_demo, \"exist?\", s3.exists(path_base_demo))\n",
    "s3.info(path_base_demo), s3.ls(path_base_demo)"
   ]
  },
  {
   "cell_type": "code",
   "execution_count": 23,
   "id": "bc2e26c5",
   "metadata": {},
   "outputs": [
    {
     "data": {
      "text/plain": [
       "'/homes/stier/demofolder-c73a373e-8800-4796-8712-1fcc9674af82/hyperparams.json'"
      ]
     },
     "execution_count": 23,
     "metadata": {},
     "output_type": "execute_result"
    }
   ],
   "source": [
    "# Creating a file with UTF-8 encoded json text in it\n",
    "path_file_hyperparams = os.path.join(path_base_demo, \"hyperparams.json\")\n",
    "path_file_hyperparams"
   ]
  },
  {
   "cell_type": "code",
   "execution_count": 24,
   "id": "8ad73b11",
   "metadata": {},
   "outputs": [],
   "source": [
    "hyperparams = {\n",
    "    \"model\": \"ResNet18\",\n",
    "    \"learningrate\": 0.01,\n",
    "    \"numberepochs\": 100\n",
    "}\n",
    "with s3.open(path_file_hyperparams, \"wb\") as handle_hyperparams:\n",
    "    written_json = json.dumps(hyperparams, indent=2)\n",
    "    handle_hyperparams.write(bytes(written_json.encode(\"utf-8\")))"
   ]
  },
  {
   "cell_type": "code",
   "execution_count": 25,
   "id": "13e696c5",
   "metadata": {},
   "outputs": [
    {
     "name": "stdout",
     "output_type": "stream",
     "text": [
      "{'model': 'ResNet18', 'learningrate': 0.01, 'numberepochs': 100}\n"
     ]
    }
   ],
   "source": [
    "# .. let's read back the file and print its content\n",
    "try:\n",
    "    with s3.open(path_file_hyperparams, \"rb\") as handle_hyperparams:\n",
    "        read_bytes = handle_hyperparams.read()\n",
    "        print(json.loads(read_bytes.decode(\"utf-8\")))\n",
    "except FileNotFoundError:\n",
    "    print(\"The file %s does not exist on MinIO anymore!\" % path_file_hyperparams)"
   ]
  },
  {
   "cell_type": "code",
   "execution_count": 26,
   "id": "0804c8d8",
   "metadata": {},
   "outputs": [
    {
     "name": "stdout",
     "output_type": "stream",
     "text": [
      "Does hyperparams.json still exist? False\n"
     ]
    }
   ],
   "source": [
    "# .. and removing the file again\n",
    "s3.rm(path_file_hyperparams)\n",
    "print(\"Does\", os.path.basename(path_file_hyperparams), \"still exist?\", s3.exists(path_file_hyperparams))"
   ]
  },
  {
   "cell_type": "code",
   "execution_count": 27,
   "id": "34314485",
   "metadata": {},
   "outputs": [],
   "source": [
    "# Let's fill it with some auto-generated trash files\n",
    "for ix in range(20):\n",
    "    file_tmp_ix = os.path.join(path_base_demo, \"%s.json\" % ix)\n",
    "    dict_content = {\n",
    "        \"file_idx\": ix\n",
    "    }\n",
    "    with s3.open(file_tmp_ix, \"wb\") as handle_tmp_write:\n",
    "        written_json = json.dumps(dict_content, indent=2)\n",
    "        handle_tmp_write.write(bytes(written_json.encode(\"utf-8\")))"
   ]
  },
  {
   "cell_type": "code",
   "execution_count": 28,
   "id": "51c25726",
   "metadata": {},
   "outputs": [
    {
     "data": {
      "text/plain": [
       "['homes/stier/abc',\n",
       " 'homes/stier/demofolder-c73a373e-8800-4796-8712-1fcc9674af82']"
      ]
     },
     "execution_count": 28,
     "metadata": {},
     "output_type": "execute_result"
    }
   ],
   "source": [
    "s3.ls(\"/homes/stier/\")"
   ]
  },
  {
   "cell_type": "code",
   "execution_count": 29,
   "id": "1f05ccbd",
   "metadata": {},
   "outputs": [
    {
     "data": {
      "text/plain": [
       "['homes/stier/demofolder-c73a373e-8800-4796-8712-1fcc9674af82/0.json',\n",
       " 'homes/stier/demofolder-c73a373e-8800-4796-8712-1fcc9674af82/1.json',\n",
       " 'homes/stier/demofolder-c73a373e-8800-4796-8712-1fcc9674af82/10.json',\n",
       " 'homes/stier/demofolder-c73a373e-8800-4796-8712-1fcc9674af82/11.json',\n",
       " 'homes/stier/demofolder-c73a373e-8800-4796-8712-1fcc9674af82/12.json']"
      ]
     },
     "execution_count": 29,
     "metadata": {},
     "output_type": "execute_result"
    }
   ],
   "source": [
    "s3.ls(path_base_demo, refresh=True)[:5]"
   ]
  },
  {
   "cell_type": "code",
   "execution_count": 30,
   "id": "441422a6",
   "metadata": {},
   "outputs": [],
   "source": [
    "delete_path(path_base_demo)"
   ]
  },
  {
   "cell_type": "code",
   "execution_count": 31,
   "id": "1ac5d30f",
   "metadata": {},
   "outputs": [
    {
     "data": {
      "text/plain": [
       "False"
      ]
     },
     "execution_count": 31,
     "metadata": {},
     "output_type": "execute_result"
    }
   ],
   "source": [
    "s3.exists(\"/homes/stier/demofolder-43640d8b-ae82-4c81-b0dd-aec06e92fa41\")"
   ]
  },
  {
   "cell_type": "code",
   "execution_count": 32,
   "id": "7cac9a82",
   "metadata": {},
   "outputs": [
    {
     "data": {
      "text/plain": [
       "[]"
      ]
     },
     "execution_count": 32,
     "metadata": {},
     "output_type": "execute_result"
    }
   ],
   "source": [
    "s3.ls(\"/homes/stier/demofolder-43640d8b-ae82-4c81-b0dd-aec06e92fa41\", refresh=True)"
   ]
  },
  {
   "cell_type": "code",
   "execution_count": 33,
   "id": "4a2e2c0f",
   "metadata": {},
   "outputs": [],
   "source": [
    "s3.rm(\"/homes/stier/demofolder-43640d8b-ae82-4c81-b0dd-aec06e92fa41\")"
   ]
  },
  {
   "cell_type": "code",
   "execution_count": 34,
   "id": "0868efce",
   "metadata": {},
   "outputs": [],
   "source": [
    "url_data_digits_train = \"https://archive.ics.uci.edu/ml/machine-learning-databases/optdigits/optdigits.tra\"\n",
    "url_data_digits_test = \"https://archive.ics.uci.edu/ml/machine-learning-databases/optdigits/optdigits.tes\"\n",
    "file_data_digits_train = os.path.join(path_base_demo, \"optdigits.tra\")\n",
    "file_data_digits_test = os.path.join(path_base_demo, \"optdigits.tes\")"
   ]
  },
  {
   "cell_type": "code",
   "execution_count": 35,
   "id": "64ba00dd",
   "metadata": {},
   "outputs": [
    {
     "name": "stderr",
     "output_type": "stream",
     "text": [
      "563639it [00:03, 165161.98it/s]\n"
     ]
    },
    {
     "name": "stdout",
     "output_type": "stream",
     "text": [
      "CPU times: user 3.43 s, sys: 30.3 ms, total: 3.46 s\n",
      "Wall time: 4.72 s\n"
     ]
    },
    {
     "data": {
      "text/html": [
       "<div>\n",
       "<style scoped>\n",
       "    .dataframe tbody tr th:only-of-type {\n",
       "        vertical-align: middle;\n",
       "    }\n",
       "\n",
       "    .dataframe tbody tr th {\n",
       "        vertical-align: top;\n",
       "    }\n",
       "\n",
       "    .dataframe thead th {\n",
       "        text-align: right;\n",
       "    }\n",
       "</style>\n",
       "<table border=\"1\" class=\"dataframe\">\n",
       "  <thead>\n",
       "    <tr style=\"text-align: right;\">\n",
       "      <th></th>\n",
       "      <th>0</th>\n",
       "      <th>1</th>\n",
       "      <th>6</th>\n",
       "      <th>15</th>\n",
       "      <th>12</th>\n",
       "      <th>1.1</th>\n",
       "      <th>0.1</th>\n",
       "      <th>0.2</th>\n",
       "      <th>0.3</th>\n",
       "      <th>7</th>\n",
       "      <th>...</th>\n",
       "      <th>0.21</th>\n",
       "      <th>0.22</th>\n",
       "      <th>0.23</th>\n",
       "      <th>6.3</th>\n",
       "      <th>14.1</th>\n",
       "      <th>7.4</th>\n",
       "      <th>1.3</th>\n",
       "      <th>0.24</th>\n",
       "      <th>0.25</th>\n",
       "      <th>0.26</th>\n",
       "    </tr>\n",
       "  </thead>\n",
       "  <tbody>\n",
       "    <tr>\n",
       "      <th>count</th>\n",
       "      <td>3822.0</td>\n",
       "      <td>3822.000000</td>\n",
       "      <td>3822.000000</td>\n",
       "      <td>3822.000000</td>\n",
       "      <td>3822.000000</td>\n",
       "      <td>3822.000000</td>\n",
       "      <td>3822.000000</td>\n",
       "      <td>3822.000000</td>\n",
       "      <td>3822.000000</td>\n",
       "      <td>3822.000000</td>\n",
       "      <td>...</td>\n",
       "      <td>3822.000000</td>\n",
       "      <td>3822.000000</td>\n",
       "      <td>3822.000000</td>\n",
       "      <td>3822.000000</td>\n",
       "      <td>3822.000000</td>\n",
       "      <td>3822.000000</td>\n",
       "      <td>3822.000000</td>\n",
       "      <td>3822.000000</td>\n",
       "      <td>3822.00000</td>\n",
       "      <td>3822.000000</td>\n",
       "    </tr>\n",
       "    <tr>\n",
       "      <th>mean</th>\n",
       "      <td>0.0</td>\n",
       "      <td>0.301151</td>\n",
       "      <td>5.481685</td>\n",
       "      <td>11.805076</td>\n",
       "      <td>11.451334</td>\n",
       "      <td>5.506541</td>\n",
       "      <td>1.387755</td>\n",
       "      <td>0.142334</td>\n",
       "      <td>0.002093</td>\n",
       "      <td>1.959184</td>\n",
       "      <td>...</td>\n",
       "      <td>0.148352</td>\n",
       "      <td>0.000262</td>\n",
       "      <td>0.283098</td>\n",
       "      <td>5.855835</td>\n",
       "      <td>11.942439</td>\n",
       "      <td>11.462323</td>\n",
       "      <td>6.701988</td>\n",
       "      <td>2.106227</td>\n",
       "      <td>0.20225</td>\n",
       "      <td>4.498430</td>\n",
       "    </tr>\n",
       "    <tr>\n",
       "      <th>std</th>\n",
       "      <td>0.0</td>\n",
       "      <td>0.867026</td>\n",
       "      <td>4.632199</td>\n",
       "      <td>4.260055</td>\n",
       "      <td>4.538141</td>\n",
       "      <td>5.613322</td>\n",
       "      <td>3.371810</td>\n",
       "      <td>1.051733</td>\n",
       "      <td>0.088583</td>\n",
       "      <td>3.051663</td>\n",
       "      <td>...</td>\n",
       "      <td>0.767858</td>\n",
       "      <td>0.016175</td>\n",
       "      <td>0.928156</td>\n",
       "      <td>4.980663</td>\n",
       "      <td>4.334947</td>\n",
       "      <td>4.992066</td>\n",
       "      <td>5.775834</td>\n",
       "      <td>4.028649</td>\n",
       "      <td>1.15084</td>\n",
       "      <td>2.869284</td>\n",
       "    </tr>\n",
       "    <tr>\n",
       "      <th>min</th>\n",
       "      <td>0.0</td>\n",
       "      <td>0.000000</td>\n",
       "      <td>0.000000</td>\n",
       "      <td>0.000000</td>\n",
       "      <td>0.000000</td>\n",
       "      <td>0.000000</td>\n",
       "      <td>0.000000</td>\n",
       "      <td>0.000000</td>\n",
       "      <td>0.000000</td>\n",
       "      <td>0.000000</td>\n",
       "      <td>...</td>\n",
       "      <td>0.000000</td>\n",
       "      <td>0.000000</td>\n",
       "      <td>0.000000</td>\n",
       "      <td>0.000000</td>\n",
       "      <td>0.000000</td>\n",
       "      <td>0.000000</td>\n",
       "      <td>0.000000</td>\n",
       "      <td>0.000000</td>\n",
       "      <td>0.00000</td>\n",
       "      <td>0.000000</td>\n",
       "    </tr>\n",
       "    <tr>\n",
       "      <th>25%</th>\n",
       "      <td>0.0</td>\n",
       "      <td>0.000000</td>\n",
       "      <td>1.000000</td>\n",
       "      <td>10.000000</td>\n",
       "      <td>9.000000</td>\n",
       "      <td>0.000000</td>\n",
       "      <td>0.000000</td>\n",
       "      <td>0.000000</td>\n",
       "      <td>0.000000</td>\n",
       "      <td>0.000000</td>\n",
       "      <td>...</td>\n",
       "      <td>0.000000</td>\n",
       "      <td>0.000000</td>\n",
       "      <td>0.000000</td>\n",
       "      <td>1.000000</td>\n",
       "      <td>10.000000</td>\n",
       "      <td>9.000000</td>\n",
       "      <td>0.000000</td>\n",
       "      <td>0.000000</td>\n",
       "      <td>0.00000</td>\n",
       "      <td>2.000000</td>\n",
       "    </tr>\n",
       "    <tr>\n",
       "      <th>50%</th>\n",
       "      <td>0.0</td>\n",
       "      <td>0.000000</td>\n",
       "      <td>5.000000</td>\n",
       "      <td>13.000000</td>\n",
       "      <td>13.000000</td>\n",
       "      <td>4.000000</td>\n",
       "      <td>0.000000</td>\n",
       "      <td>0.000000</td>\n",
       "      <td>0.000000</td>\n",
       "      <td>0.000000</td>\n",
       "      <td>...</td>\n",
       "      <td>0.000000</td>\n",
       "      <td>0.000000</td>\n",
       "      <td>0.000000</td>\n",
       "      <td>5.000000</td>\n",
       "      <td>13.000000</td>\n",
       "      <td>13.000000</td>\n",
       "      <td>6.000000</td>\n",
       "      <td>0.000000</td>\n",
       "      <td>0.00000</td>\n",
       "      <td>4.000000</td>\n",
       "    </tr>\n",
       "    <tr>\n",
       "      <th>75%</th>\n",
       "      <td>0.0</td>\n",
       "      <td>0.000000</td>\n",
       "      <td>9.000000</td>\n",
       "      <td>15.000000</td>\n",
       "      <td>15.000000</td>\n",
       "      <td>10.000000</td>\n",
       "      <td>0.000000</td>\n",
       "      <td>0.000000</td>\n",
       "      <td>0.000000</td>\n",
       "      <td>3.000000</td>\n",
       "      <td>...</td>\n",
       "      <td>0.000000</td>\n",
       "      <td>0.000000</td>\n",
       "      <td>0.000000</td>\n",
       "      <td>10.000000</td>\n",
       "      <td>15.000000</td>\n",
       "      <td>16.000000</td>\n",
       "      <td>12.000000</td>\n",
       "      <td>2.000000</td>\n",
       "      <td>0.00000</td>\n",
       "      <td>7.000000</td>\n",
       "    </tr>\n",
       "    <tr>\n",
       "      <th>max</th>\n",
       "      <td>0.0</td>\n",
       "      <td>8.000000</td>\n",
       "      <td>16.000000</td>\n",
       "      <td>16.000000</td>\n",
       "      <td>16.000000</td>\n",
       "      <td>16.000000</td>\n",
       "      <td>16.000000</td>\n",
       "      <td>16.000000</td>\n",
       "      <td>5.000000</td>\n",
       "      <td>15.000000</td>\n",
       "      <td>...</td>\n",
       "      <td>12.000000</td>\n",
       "      <td>1.000000</td>\n",
       "      <td>10.000000</td>\n",
       "      <td>16.000000</td>\n",
       "      <td>16.000000</td>\n",
       "      <td>16.000000</td>\n",
       "      <td>16.000000</td>\n",
       "      <td>16.000000</td>\n",
       "      <td>16.00000</td>\n",
       "      <td>9.000000</td>\n",
       "    </tr>\n",
       "  </tbody>\n",
       "</table>\n",
       "<p>8 rows × 65 columns</p>\n",
       "</div>"
      ],
      "text/plain": [
       "            0            1            6           15           12  \\\n",
       "count  3822.0  3822.000000  3822.000000  3822.000000  3822.000000   \n",
       "mean      0.0     0.301151     5.481685    11.805076    11.451334   \n",
       "std       0.0     0.867026     4.632199     4.260055     4.538141   \n",
       "min       0.0     0.000000     0.000000     0.000000     0.000000   \n",
       "25%       0.0     0.000000     1.000000    10.000000     9.000000   \n",
       "50%       0.0     0.000000     5.000000    13.000000    13.000000   \n",
       "75%       0.0     0.000000     9.000000    15.000000    15.000000   \n",
       "max       0.0     8.000000    16.000000    16.000000    16.000000   \n",
       "\n",
       "               1.1          0.1          0.2          0.3            7  ...  \\\n",
       "count  3822.000000  3822.000000  3822.000000  3822.000000  3822.000000  ...   \n",
       "mean      5.506541     1.387755     0.142334     0.002093     1.959184  ...   \n",
       "std       5.613322     3.371810     1.051733     0.088583     3.051663  ...   \n",
       "min       0.000000     0.000000     0.000000     0.000000     0.000000  ...   \n",
       "25%       0.000000     0.000000     0.000000     0.000000     0.000000  ...   \n",
       "50%       4.000000     0.000000     0.000000     0.000000     0.000000  ...   \n",
       "75%      10.000000     0.000000     0.000000     0.000000     3.000000  ...   \n",
       "max      16.000000    16.000000    16.000000     5.000000    15.000000  ...   \n",
       "\n",
       "              0.21         0.22         0.23          6.3         14.1  \\\n",
       "count  3822.000000  3822.000000  3822.000000  3822.000000  3822.000000   \n",
       "mean      0.148352     0.000262     0.283098     5.855835    11.942439   \n",
       "std       0.767858     0.016175     0.928156     4.980663     4.334947   \n",
       "min       0.000000     0.000000     0.000000     0.000000     0.000000   \n",
       "25%       0.000000     0.000000     0.000000     1.000000    10.000000   \n",
       "50%       0.000000     0.000000     0.000000     5.000000    13.000000   \n",
       "75%       0.000000     0.000000     0.000000    10.000000    15.000000   \n",
       "max      12.000000     1.000000    10.000000    16.000000    16.000000   \n",
       "\n",
       "               7.4          1.3         0.24        0.25         0.26  \n",
       "count  3822.000000  3822.000000  3822.000000  3822.00000  3822.000000  \n",
       "mean     11.462323     6.701988     2.106227     0.20225     4.498430  \n",
       "std       4.992066     5.775834     4.028649     1.15084     2.869284  \n",
       "min       0.000000     0.000000     0.000000     0.00000     0.000000  \n",
       "25%       9.000000     0.000000     0.000000     0.00000     2.000000  \n",
       "50%      13.000000     6.000000     0.000000     0.00000     4.000000  \n",
       "75%      16.000000    12.000000     2.000000     0.00000     7.000000  \n",
       "max      16.000000    16.000000    16.000000    16.00000     9.000000  \n",
       "\n",
       "[8 rows x 65 columns]"
      ]
     },
     "execution_count": 35,
     "metadata": {},
     "output_type": "execute_result"
    }
   ],
   "source": [
    "%%time\n",
    "# Download digits data from UCI database if it does not exist in MinIO, yet\n",
    "if not s3.exists(file_data_digits_train):\n",
    "    response = requests.get(url_data_digits_train, stream=True)\n",
    "    with s3.open(file_data_digits_train, \"wb\") as handle:\n",
    "        for data in tqdm(response.iter_content()):\n",
    "            handle.write(data)\n",
    "\n",
    "\n",
    "with s3.open(file_data_digits_train, \"rb\") as handle_data_read:\n",
    "    df = pd.read_csv(handle_data_read)\n",
    "\n",
    "df.describe()"
   ]
  },
  {
   "cell_type": "code",
   "execution_count": 36,
   "id": "b9d649da",
   "metadata": {},
   "outputs": [],
   "source": [
    "# Delete cache for digits train file on MinIO\n",
    "s3.rm(file_data_digits_train)"
   ]
  },
  {
   "cell_type": "code",
   "execution_count": 37,
   "id": "fe72ab04",
   "metadata": {},
   "outputs": [
    {
     "name": "stderr",
     "output_type": "stream",
     "text": [
      "264712it [00:01, 145009.21it/s]\n"
     ]
    },
    {
     "name": "stdout",
     "output_type": "stream",
     "text": [
      "CPU times: user 1.77 s, sys: 30 µs, total: 1.77 s\n",
      "Wall time: 2.65 s\n"
     ]
    },
    {
     "data": {
      "text/html": [
       "<div>\n",
       "<style scoped>\n",
       "    .dataframe tbody tr th:only-of-type {\n",
       "        vertical-align: middle;\n",
       "    }\n",
       "\n",
       "    .dataframe tbody tr th {\n",
       "        vertical-align: top;\n",
       "    }\n",
       "\n",
       "    .dataframe thead th {\n",
       "        text-align: right;\n",
       "    }\n",
       "</style>\n",
       "<table border=\"1\" class=\"dataframe\">\n",
       "  <thead>\n",
       "    <tr style=\"text-align: right;\">\n",
       "      <th></th>\n",
       "      <th>0</th>\n",
       "      <th>0.1</th>\n",
       "      <th>5</th>\n",
       "      <th>13</th>\n",
       "      <th>9</th>\n",
       "      <th>1</th>\n",
       "      <th>0.2</th>\n",
       "      <th>0.3</th>\n",
       "      <th>0.4</th>\n",
       "      <th>0.5</th>\n",
       "      <th>...</th>\n",
       "      <th>0.23</th>\n",
       "      <th>0.24</th>\n",
       "      <th>0.25</th>\n",
       "      <th>6</th>\n",
       "      <th>13.2</th>\n",
       "      <th>10.2</th>\n",
       "      <th>0.26</th>\n",
       "      <th>0.27</th>\n",
       "      <th>0.28</th>\n",
       "      <th>0.29</th>\n",
       "    </tr>\n",
       "  </thead>\n",
       "  <tbody>\n",
       "    <tr>\n",
       "      <th>count</th>\n",
       "      <td>1796.0</td>\n",
       "      <td>1796.000000</td>\n",
       "      <td>1796.000000</td>\n",
       "      <td>1796.000000</td>\n",
       "      <td>1796.000000</td>\n",
       "      <td>1796.000000</td>\n",
       "      <td>1796.000000</td>\n",
       "      <td>1796.000000</td>\n",
       "      <td>1796.000000</td>\n",
       "      <td>1796.000000</td>\n",
       "      <td>...</td>\n",
       "      <td>1796.000000</td>\n",
       "      <td>1796.000000</td>\n",
       "      <td>1796.000000</td>\n",
       "      <td>1796.00000</td>\n",
       "      <td>1796.00000</td>\n",
       "      <td>1796.000000</td>\n",
       "      <td>1796.000000</td>\n",
       "      <td>1796.000000</td>\n",
       "      <td>1796.000000</td>\n",
       "      <td>1796.000000</td>\n",
       "    </tr>\n",
       "    <tr>\n",
       "      <th>mean</th>\n",
       "      <td>0.0</td>\n",
       "      <td>0.304009</td>\n",
       "      <td>5.204900</td>\n",
       "      <td>11.835189</td>\n",
       "      <td>11.849666</td>\n",
       "      <td>5.784521</td>\n",
       "      <td>1.363029</td>\n",
       "      <td>0.129733</td>\n",
       "      <td>0.005568</td>\n",
       "      <td>1.994989</td>\n",
       "      <td>...</td>\n",
       "      <td>0.206570</td>\n",
       "      <td>0.000557</td>\n",
       "      <td>0.279510</td>\n",
       "      <td>5.55735</td>\n",
       "      <td>12.08853</td>\n",
       "      <td>11.810134</td>\n",
       "      <td>6.767817</td>\n",
       "      <td>2.069042</td>\n",
       "      <td>0.364699</td>\n",
       "      <td>4.493318</td>\n",
       "    </tr>\n",
       "    <tr>\n",
       "      <th>std</th>\n",
       "      <td>0.0</td>\n",
       "      <td>0.907416</td>\n",
       "      <td>4.756148</td>\n",
       "      <td>4.249936</td>\n",
       "      <td>4.288055</td>\n",
       "      <td>5.666871</td>\n",
       "      <td>3.326546</td>\n",
       "      <td>1.037667</td>\n",
       "      <td>0.094248</td>\n",
       "      <td>3.196704</td>\n",
       "      <td>...</td>\n",
       "      <td>0.984663</td>\n",
       "      <td>0.023596</td>\n",
       "      <td>0.934539</td>\n",
       "      <td>5.10443</td>\n",
       "      <td>4.37586</td>\n",
       "      <td>4.935137</td>\n",
       "      <td>5.900105</td>\n",
       "      <td>4.091396</td>\n",
       "      <td>1.860620</td>\n",
       "      <td>2.864140</td>\n",
       "    </tr>\n",
       "    <tr>\n",
       "      <th>min</th>\n",
       "      <td>0.0</td>\n",
       "      <td>0.000000</td>\n",
       "      <td>0.000000</td>\n",
       "      <td>0.000000</td>\n",
       "      <td>0.000000</td>\n",
       "      <td>0.000000</td>\n",
       "      <td>0.000000</td>\n",
       "      <td>0.000000</td>\n",
       "      <td>0.000000</td>\n",
       "      <td>0.000000</td>\n",
       "      <td>...</td>\n",
       "      <td>0.000000</td>\n",
       "      <td>0.000000</td>\n",
       "      <td>0.000000</td>\n",
       "      <td>0.00000</td>\n",
       "      <td>0.00000</td>\n",
       "      <td>0.000000</td>\n",
       "      <td>0.000000</td>\n",
       "      <td>0.000000</td>\n",
       "      <td>0.000000</td>\n",
       "      <td>0.000000</td>\n",
       "    </tr>\n",
       "    <tr>\n",
       "      <th>25%</th>\n",
       "      <td>0.0</td>\n",
       "      <td>0.000000</td>\n",
       "      <td>1.000000</td>\n",
       "      <td>10.000000</td>\n",
       "      <td>10.000000</td>\n",
       "      <td>0.000000</td>\n",
       "      <td>0.000000</td>\n",
       "      <td>0.000000</td>\n",
       "      <td>0.000000</td>\n",
       "      <td>0.000000</td>\n",
       "      <td>...</td>\n",
       "      <td>0.000000</td>\n",
       "      <td>0.000000</td>\n",
       "      <td>0.000000</td>\n",
       "      <td>1.00000</td>\n",
       "      <td>11.00000</td>\n",
       "      <td>10.000000</td>\n",
       "      <td>0.000000</td>\n",
       "      <td>0.000000</td>\n",
       "      <td>0.000000</td>\n",
       "      <td>2.000000</td>\n",
       "    </tr>\n",
       "    <tr>\n",
       "      <th>50%</th>\n",
       "      <td>0.0</td>\n",
       "      <td>0.000000</td>\n",
       "      <td>4.000000</td>\n",
       "      <td>13.000000</td>\n",
       "      <td>13.000000</td>\n",
       "      <td>4.000000</td>\n",
       "      <td>0.000000</td>\n",
       "      <td>0.000000</td>\n",
       "      <td>0.000000</td>\n",
       "      <td>0.000000</td>\n",
       "      <td>...</td>\n",
       "      <td>0.000000</td>\n",
       "      <td>0.000000</td>\n",
       "      <td>0.000000</td>\n",
       "      <td>4.00000</td>\n",
       "      <td>13.00000</td>\n",
       "      <td>14.000000</td>\n",
       "      <td>6.000000</td>\n",
       "      <td>0.000000</td>\n",
       "      <td>0.000000</td>\n",
       "      <td>4.000000</td>\n",
       "    </tr>\n",
       "    <tr>\n",
       "      <th>75%</th>\n",
       "      <td>0.0</td>\n",
       "      <td>0.000000</td>\n",
       "      <td>9.000000</td>\n",
       "      <td>15.000000</td>\n",
       "      <td>15.000000</td>\n",
       "      <td>11.000000</td>\n",
       "      <td>0.000000</td>\n",
       "      <td>0.000000</td>\n",
       "      <td>0.000000</td>\n",
       "      <td>3.000000</td>\n",
       "      <td>...</td>\n",
       "      <td>0.000000</td>\n",
       "      <td>0.000000</td>\n",
       "      <td>0.000000</td>\n",
       "      <td>10.00000</td>\n",
       "      <td>16.00000</td>\n",
       "      <td>16.000000</td>\n",
       "      <td>12.000000</td>\n",
       "      <td>2.000000</td>\n",
       "      <td>0.000000</td>\n",
       "      <td>7.000000</td>\n",
       "    </tr>\n",
       "    <tr>\n",
       "      <th>max</th>\n",
       "      <td>0.0</td>\n",
       "      <td>8.000000</td>\n",
       "      <td>16.000000</td>\n",
       "      <td>16.000000</td>\n",
       "      <td>16.000000</td>\n",
       "      <td>16.000000</td>\n",
       "      <td>16.000000</td>\n",
       "      <td>15.000000</td>\n",
       "      <td>2.000000</td>\n",
       "      <td>16.000000</td>\n",
       "      <td>...</td>\n",
       "      <td>13.000000</td>\n",
       "      <td>1.000000</td>\n",
       "      <td>9.000000</td>\n",
       "      <td>16.00000</td>\n",
       "      <td>16.00000</td>\n",
       "      <td>16.000000</td>\n",
       "      <td>16.000000</td>\n",
       "      <td>16.000000</td>\n",
       "      <td>16.000000</td>\n",
       "      <td>9.000000</td>\n",
       "    </tr>\n",
       "  </tbody>\n",
       "</table>\n",
       "<p>8 rows × 65 columns</p>\n",
       "</div>"
      ],
      "text/plain": [
       "            0          0.1            5           13            9  \\\n",
       "count  1796.0  1796.000000  1796.000000  1796.000000  1796.000000   \n",
       "mean      0.0     0.304009     5.204900    11.835189    11.849666   \n",
       "std       0.0     0.907416     4.756148     4.249936     4.288055   \n",
       "min       0.0     0.000000     0.000000     0.000000     0.000000   \n",
       "25%       0.0     0.000000     1.000000    10.000000    10.000000   \n",
       "50%       0.0     0.000000     4.000000    13.000000    13.000000   \n",
       "75%       0.0     0.000000     9.000000    15.000000    15.000000   \n",
       "max       0.0     8.000000    16.000000    16.000000    16.000000   \n",
       "\n",
       "                 1          0.2          0.3          0.4          0.5  ...  \\\n",
       "count  1796.000000  1796.000000  1796.000000  1796.000000  1796.000000  ...   \n",
       "mean      5.784521     1.363029     0.129733     0.005568     1.994989  ...   \n",
       "std       5.666871     3.326546     1.037667     0.094248     3.196704  ...   \n",
       "min       0.000000     0.000000     0.000000     0.000000     0.000000  ...   \n",
       "25%       0.000000     0.000000     0.000000     0.000000     0.000000  ...   \n",
       "50%       4.000000     0.000000     0.000000     0.000000     0.000000  ...   \n",
       "75%      11.000000     0.000000     0.000000     0.000000     3.000000  ...   \n",
       "max      16.000000    16.000000    15.000000     2.000000    16.000000  ...   \n",
       "\n",
       "              0.23         0.24         0.25           6        13.2  \\\n",
       "count  1796.000000  1796.000000  1796.000000  1796.00000  1796.00000   \n",
       "mean      0.206570     0.000557     0.279510     5.55735    12.08853   \n",
       "std       0.984663     0.023596     0.934539     5.10443     4.37586   \n",
       "min       0.000000     0.000000     0.000000     0.00000     0.00000   \n",
       "25%       0.000000     0.000000     0.000000     1.00000    11.00000   \n",
       "50%       0.000000     0.000000     0.000000     4.00000    13.00000   \n",
       "75%       0.000000     0.000000     0.000000    10.00000    16.00000   \n",
       "max      13.000000     1.000000     9.000000    16.00000    16.00000   \n",
       "\n",
       "              10.2         0.26         0.27         0.28         0.29  \n",
       "count  1796.000000  1796.000000  1796.000000  1796.000000  1796.000000  \n",
       "mean     11.810134     6.767817     2.069042     0.364699     4.493318  \n",
       "std       4.935137     5.900105     4.091396     1.860620     2.864140  \n",
       "min       0.000000     0.000000     0.000000     0.000000     0.000000  \n",
       "25%      10.000000     0.000000     0.000000     0.000000     2.000000  \n",
       "50%      14.000000     6.000000     0.000000     0.000000     4.000000  \n",
       "75%      16.000000    12.000000     2.000000     0.000000     7.000000  \n",
       "max      16.000000    16.000000    16.000000    16.000000     9.000000  \n",
       "\n",
       "[8 rows x 65 columns]"
      ]
     },
     "execution_count": 37,
     "metadata": {},
     "output_type": "execute_result"
    }
   ],
   "source": [
    "%%time\n",
    "# Download digits data from UCI database if it does not exist in MinIO, yet\n",
    "if not s3.exists(file_data_digits_test):\n",
    "    response = requests.get(url_data_digits_test, stream=True)\n",
    "    with s3.open(file_data_digits_test, \"wb\") as handle:\n",
    "        for data in tqdm(response.iter_content()):\n",
    "            handle.write(data)\n",
    "\n",
    "\n",
    "with s3.open(file_data_digits_test, \"rb\") as handle_data_read:\n",
    "    df = pd.read_csv(handle_data_read)\n",
    "\n",
    "df.describe()"
   ]
  },
  {
   "cell_type": "code",
   "execution_count": 38,
   "id": "dd1a06bd",
   "metadata": {},
   "outputs": [],
   "source": [
    "# Delete cache for digits train file on MinIO\n",
    "s3.rm(file_data_digits_test)"
   ]
  },
  {
   "cell_type": "code",
   "execution_count": 39,
   "id": "49a2cc37",
   "metadata": {},
   "outputs": [
    {
     "data": {
      "text/plain": [
       "['homes/stier/abc']"
      ]
     },
     "execution_count": 39,
     "metadata": {},
     "output_type": "execute_result"
    }
   ],
   "source": [
    "s3.ls(\"/homes/stier/\")"
   ]
  },
  {
   "cell_type": "code",
   "execution_count": 40,
   "id": "9486789f",
   "metadata": {},
   "outputs": [
    {
     "data": {
      "text/plain": [
       "[]"
      ]
     },
     "execution_count": 40,
     "metadata": {},
     "output_type": "execute_result"
    }
   ],
   "source": [
    "s3.glob(\"/homes/stier/*\")"
   ]
  },
  {
   "cell_type": "code",
   "execution_count": null,
   "id": "577db79f",
   "metadata": {},
   "outputs": [],
   "source": []
  },
  {
   "cell_type": "code",
   "execution_count": null,
   "id": "cd313423",
   "metadata": {},
   "outputs": [],
   "source": []
  },
  {
   "cell_type": "markdown",
   "id": "89d7716b",
   "metadata": {},
   "source": [
    "# Variant B: MinIO Python Client"
   ]
  },
  {
   "cell_type": "code",
   "execution_count": 41,
   "id": "64e14a54",
   "metadata": {},
   "outputs": [],
   "source": [
    "client = Minio(\n",
    "    \"share.pads.fim.uni-passau.de\",\n",
    "    access_key=accesskey,\n",
    "    secret_key=secretkey,\n",
    ")"
   ]
  },
  {
   "cell_type": "markdown",
   "id": "1a2deb3d",
   "metadata": {},
   "source": [
    "- [ ] test connection with minio\n",
    "- [ ] list an accessible bucket\n",
    "- [ ] list all content in a bucket\n",
    "- [ ] create a new bucket\n",
    "- [ ] delete a bucket\n",
    "- [ ] upload a file to minio\n",
    "- [ ] read / download the content of a file from minio\n",
    "- [ ] handling large files on minio"
   ]
  },
  {
   "cell_type": "code",
   "execution_count": 42,
   "id": "43d26f5a",
   "metadata": {},
   "outputs": [
    {
     "data": {
      "text/plain": [
       "True"
      ]
     },
     "execution_count": 42,
     "metadata": {},
     "output_type": "execute_result"
    }
   ],
   "source": [
    "client.bucket_exists(\"homes\")"
   ]
  },
  {
   "cell_type": "code",
   "execution_count": 43,
   "id": "ed7111a0",
   "metadata": {},
   "outputs": [
    {
     "ename": "ValueError",
     "evalue": "Bucket name does not follow S3 standards. Bucket: homes/stier",
     "output_type": "error",
     "traceback": [
      "\u001b[0;31m---------------------------------------------------------------------------\u001b[0m",
      "\u001b[0;31mValueError\u001b[0m                                Traceback (most recent call last)",
      "\u001b[0;32m/tmp/ipykernel_3803353/2139537549.py\u001b[0m in \u001b[0;36m<module>\u001b[0;34m\u001b[0m\n\u001b[0;32m----> 1\u001b[0;31m \u001b[0mclient\u001b[0m\u001b[0;34m.\u001b[0m\u001b[0mbucket_exists\u001b[0m\u001b[0;34m(\u001b[0m\u001b[0;34m\"homes/stier\"\u001b[0m\u001b[0;34m)\u001b[0m\u001b[0;34m\u001b[0m\u001b[0;34m\u001b[0m\u001b[0m\n\u001b[0m",
      "\u001b[0;32m/media/data/anaconda3/envs/sur-workshop/lib/python3.9/site-packages/minio/api.py\u001b[0m in \u001b[0;36mbucket_exists\u001b[0;34m(self, bucket_name)\u001b[0m\n\u001b[1;32m    662\u001b[0m                 \u001b[0mprint\u001b[0m\u001b[0;34m(\u001b[0m\u001b[0;34m\"my-bucket does not exist\"\u001b[0m\u001b[0;34m)\u001b[0m\u001b[0;34m\u001b[0m\u001b[0;34m\u001b[0m\u001b[0m\n\u001b[1;32m    663\u001b[0m         \"\"\"\n\u001b[0;32m--> 664\u001b[0;31m         \u001b[0mcheck_bucket_name\u001b[0m\u001b[0;34m(\u001b[0m\u001b[0mbucket_name\u001b[0m\u001b[0;34m)\u001b[0m\u001b[0;34m\u001b[0m\u001b[0;34m\u001b[0m\u001b[0m\n\u001b[0m\u001b[1;32m    665\u001b[0m         \u001b[0;32mtry\u001b[0m\u001b[0;34m:\u001b[0m\u001b[0;34m\u001b[0m\u001b[0;34m\u001b[0m\u001b[0m\n\u001b[1;32m    666\u001b[0m             \u001b[0mself\u001b[0m\u001b[0;34m.\u001b[0m\u001b[0m_execute\u001b[0m\u001b[0;34m(\u001b[0m\u001b[0;34m\"HEAD\"\u001b[0m\u001b[0;34m,\u001b[0m \u001b[0mbucket_name\u001b[0m\u001b[0;34m)\u001b[0m\u001b[0;34m\u001b[0m\u001b[0;34m\u001b[0m\u001b[0m\n",
      "\u001b[0;32m/media/data/anaconda3/envs/sur-workshop/lib/python3.9/site-packages/minio/helpers.py\u001b[0m in \u001b[0;36mcheck_bucket_name\u001b[0;34m(bucket_name, strict)\u001b[0m\n\u001b[1;32m    215\u001b[0m     \u001b[0mmatch\u001b[0m \u001b[0;34m=\u001b[0m \u001b[0m_VALID_BUCKETNAME_REGEX\u001b[0m\u001b[0;34m.\u001b[0m\u001b[0mmatch\u001b[0m\u001b[0;34m(\u001b[0m\u001b[0mbucket_name\u001b[0m\u001b[0;34m)\u001b[0m\u001b[0;34m\u001b[0m\u001b[0;34m\u001b[0m\u001b[0m\n\u001b[1;32m    216\u001b[0m     \u001b[0;32mif\u001b[0m \u001b[0;34m(\u001b[0m\u001b[0;32mnot\u001b[0m \u001b[0mmatch\u001b[0m\u001b[0;34m)\u001b[0m \u001b[0;32mor\u001b[0m \u001b[0mmatch\u001b[0m\u001b[0;34m.\u001b[0m\u001b[0mend\u001b[0m\u001b[0;34m(\u001b[0m\u001b[0;34m)\u001b[0m \u001b[0;34m!=\u001b[0m \u001b[0mlen\u001b[0m\u001b[0;34m(\u001b[0m\u001b[0mbucket_name\u001b[0m\u001b[0;34m)\u001b[0m\u001b[0;34m:\u001b[0m\u001b[0;34m\u001b[0m\u001b[0;34m\u001b[0m\u001b[0m\n\u001b[0;32m--> 217\u001b[0;31m         raise ValueError('Bucket name does not follow S3 standards.'\n\u001b[0m\u001b[1;32m    218\u001b[0m                          ' Bucket: {0}'.format(bucket_name))\n\u001b[1;32m    219\u001b[0m \u001b[0;34m\u001b[0m\u001b[0m\n",
      "\u001b[0;31mValueError\u001b[0m: Bucket name does not follow S3 standards. Bucket: homes/stier"
     ]
    }
   ],
   "source": [
    "client.bucket_exists(\"homes/stier\")"
   ]
  },
  {
   "cell_type": "code",
   "execution_count": null,
   "id": "19779853",
   "metadata": {},
   "outputs": [],
   "source": [
    "buckets = client.list_buckets()\n",
    "for bucket in buckets:\n",
    "    print(bucket.name, bucket.creation_date)"
   ]
  },
  {
   "cell_type": "code",
   "execution_count": null,
   "id": "608f6318",
   "metadata": {},
   "outputs": [],
   "source": [
    "objs = client.list_objects(\"homes\", prefix=\"st\")\n",
    "for obj in objs:\n",
    "    print(obj.object_name)"
   ]
  },
  {
   "cell_type": "code",
   "execution_count": null,
   "id": "31d6980c",
   "metadata": {},
   "outputs": [],
   "source": [
    "objs = client.list_objects(\"homes/stier\")\n",
    "for obj in objs:\n",
    "    print(obj.object_name)"
   ]
  },
  {
   "cell_type": "code",
   "execution_count": null,
   "id": "55907332",
   "metadata": {},
   "outputs": [],
   "source": [
    "bucket_home = client.list_objects(\"homes\")\n",
    "for obj in bucket_home:\n",
    "    print(obj)"
   ]
  },
  {
   "cell_type": "markdown",
   "id": "707efe3b",
   "metadata": {},
   "source": [
    "# OAuth2 Client Authentication\n",
    "- [ ] local config file format? -- reconstruct previous code\n",
    "- [ ] clean up access classes\n",
    "- [ ] perform authentication with user credentials?\n",
    "- [ ] perform auth with access key + secret key?\n",
    "- [ ] refreshin session"
   ]
  },
  {
   "cell_type": "markdown",
   "id": "5aaaa139",
   "metadata": {},
   "source": [
    "*~/.pypads/access.cfg*\n",
    "```cfg\n",
    "[DEFAULT]\n",
    "padim-client-id = julian\n",
    "padim-client-secret = pypads\n",
    "padim-username = stier\n",
    "padim-password = foo\n",
    "padim-region-name = eu-de\n",
    "padim-endpoint = \"https://share.pads.fim.uni-passau.de\"\n",
    "```"
   ]
  },
  {
   "cell_type": "code",
   "execution_count": null,
   "id": "21e32568",
   "metadata": {},
   "outputs": [],
   "source": [
    "import padaccs\n",
    "from padaccs import get_refreshable_session, padas_kwargs, get_s3fs\n",
    "from padaccs import _get_w_def"
   ]
  },
  {
   "cell_type": "code",
   "execution_count": null,
   "id": "842250cc",
   "metadata": {},
   "outputs": [],
   "source": [
    "padaccs._load_pypads_config(padaccs._config)"
   ]
  },
  {
   "cell_type": "code",
   "execution_count": null,
   "id": "05ca1f3d",
   "metadata": {},
   "outputs": [],
   "source": [
    "_get_w_def(\"padim-client-id\", \"foo\")"
   ]
  },
  {
   "cell_type": "code",
   "execution_count": null,
   "id": "bd3ace8c",
   "metadata": {},
   "outputs": [],
   "source": [
    "padaccs._config[\"DEFAULT\"][\"padim-client-id\"]"
   ]
  },
  {
   "cell_type": "code",
   "execution_count": null,
   "id": "2a2cfd67",
   "metadata": {
    "pycharm": {
     "name": "#%%\n"
    }
   },
   "outputs": [],
   "source": [
    "\n",
    "# https://s3fs.readthedocs.io/en/latest/ for documentation. Works with pandas, csv, parquet and many more\n",
    "# parquet is recommended, as it can reduce the amount of network traffic\n",
    "\n",
    "fs = s3fs.S3FileSystem(anon=False, use_ssl=True, \n",
    "                       session= await get_refreshable_session().make_refreshable_proxy(),\n",
    "                       client_kwargs=padas_kwargs)\n",
    "\n",
    "print(fs.ls(\"public/\"))"
   ]
  },
  {
   "cell_type": "code",
   "execution_count": null,
   "id": "75be4af6",
   "metadata": {
    "pycharm": {
     "name": "#%%\n"
    }
   },
   "outputs": [],
   "source": [
    "from padaccs import get_s3fs, get_refreshable_session\n",
    "import asyncio"
   ]
  },
  {
   "cell_type": "code",
   "execution_count": null,
   "id": "26fa4702",
   "metadata": {},
   "outputs": [],
   "source": [
    "s3_session = get_refreshable_session()\n",
    "loop = asyncio.get_event_loop()\n",
    "if loop.is_running():\n",
    "    loop."
   ]
  },
  {
   "cell_type": "code",
   "execution_count": null,
   "id": "f45b0f39",
   "metadata": {},
   "outputs": [],
   "source": [
    "loop"
   ]
  },
  {
   "cell_type": "code",
   "execution_count": null,
   "id": "ea2463aa",
   "metadata": {},
   "outputs": [],
   "source": [
    "asyncio.get_event_loop()\n"
   ]
  },
  {
   "cell_type": "code",
   "execution_count": null,
   "id": "24eb45d4",
   "metadata": {},
   "outputs": [],
   "source": [
    "import s3fs\n",
    "fs = s3fs.S3FileSystem(anon=False, use_ssl=True, session=await s3_session.make_refreshable_proxy(),\n",
    "                  client_kwargs={\n",
    "                        \"region_name\"       : \"eu-de\",\n",
    "                        \"endpoint_url\"      : \"https://share.pads.fim.uni-passau.de/\"\n",
    "                    }, profile=\"pypads\"\n",
    "                )"
   ]
  },
  {
   "cell_type": "code",
   "execution_count": null,
   "id": "60392d7f",
   "metadata": {},
   "outputs": [],
   "source": [
    "fs.ls(\"public/\")"
   ]
  },
  {
   "cell_type": "code",
   "execution_count": null,
   "id": "31e01772",
   "metadata": {},
   "outputs": [],
   "source": []
  }
 ],
 "metadata": {
  "kernelspec": {
   "display_name": "Python 3 (ipykernel)",
   "language": "python",
   "name": "python3"
  },
  "language_info": {
   "codemirror_mode": {
    "name": "ipython",
    "version": 3
   },
   "file_extension": ".py",
   "mimetype": "text/x-python",
   "name": "python",
   "nbconvert_exporter": "python",
   "pygments_lexer": "ipython3",
   "version": "3.9.18"
  }
 },
 "nbformat": 4,
 "nbformat_minor": 5
}
